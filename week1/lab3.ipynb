{
 "cells": [
  {
   "cell_type": "markdown",
   "id": "dfe37963-1af6-44fc-a841-8e462443f5e6",
   "metadata": {},
   "source": [
    "## Project 2: Expert\n",
    "\n",
    "### A question answering agent that is an expert knowledge worker\n",
    "### To be used by employees of Insurellm, an Insurance Tech company\n",
    "### The agent needs to be accurate and the solution should be low cost.\n",
    "\n",
    "This project will use RAG (Retrieval Augmented Generation) to ensure our question/answering assistant has high accuracy.\n",
    "\n",
    "We will be using the LangChain framework which does most of the heavy lifting for us! We'll also be using Gradio's chat interface, and Plotly for charts. We'll also be using the popular open source Vector Database Chroma.\n",
    "\n",
    "## BEFORE WE START: take a look in the knowledge-base folder"
   ]
  },
  {
   "cell_type": "code",
   "execution_count": 1,
   "id": "ba2779af-84ef-4227-9e9e-6eaf0df87e77",
   "metadata": {},
   "outputs": [],
   "source": [
    "# imports\n",
    "\n",
    "import os\n",
    "import glob\n",
    "from dotenv import load_dotenv\n",
    "import gradio as gr"
   ]
  },
  {
   "cell_type": "code",
   "execution_count": 2,
   "id": "802137aa-8a74-45e0-a487-d1974927d7ca",
   "metadata": {},
   "outputs": [],
   "source": [
    "# imports for langchain, plotly and Chroma\n",
    "\n",
    "from langchain.document_loaders import DirectoryLoader, TextLoader\n",
    "from langchain.text_splitter import CharacterTextSplitter\n",
    "from langchain_openai import OpenAIEmbeddings, ChatOpenAI\n",
    "from langchain_chroma import Chroma\n",
    "from sklearn.manifold import TSNE\n",
    "import numpy as np\n",
    "import plotly.graph_objects as go\n",
    "from langchain.memory import ConversationBufferMemory\n",
    "from langchain.chains import ConversationalRetrievalChain"
   ]
  },
  {
   "cell_type": "code",
   "execution_count": 3,
   "id": "58c85082-e417-4708-9efe-81a5d55d1424",
   "metadata": {},
   "outputs": [],
   "source": [
    "# price is a factor for our company, so we're going to use a low cost model\n",
    "\n",
    "MODEL = \"gpt-4.1-mini\"\n",
    "db_name = \"vector_db\""
   ]
  },
  {
   "cell_type": "code",
   "execution_count": 4,
   "id": "ee78efcb-60fe-449e-a944-40bab26261af",
   "metadata": {},
   "outputs": [
    {
     "name": "stdout",
     "output_type": "stream",
     "text": [
      "OpenAI API Key exists and begins sk-proj-\n"
     ]
    }
   ],
   "source": [
    "# Load environment variables in a file called .env\n",
    "\n",
    "load_dotenv()\n",
    "openai_api_key = os.getenv('OPENAI_API_KEY')\n",
    "\n",
    "if openai_api_key:\n",
    "    print(f\"OpenAI API Key exists and begins {openai_api_key[:8]}\")\n",
    "else:\n",
    "    print(\"OpenAI API Key not set\")"
   ]
  },
  {
   "cell_type": "code",
   "execution_count": 5,
   "id": "730711a9-6ffe-4eee-8f48-d6cfb7314905",
   "metadata": {},
   "outputs": [
    {
     "name": "stdout",
     "output_type": "stream",
     "text": [
      "Loaded 31 documents\n"
     ]
    }
   ],
   "source": [
    "# Read in documents using LangChain's loaders\n",
    "# Take everything in all the sub-folders of our knowledgebase\n",
    "\n",
    "folders = glob.glob(\"knowledge-base/*\")\n",
    "\n",
    "documents = []\n",
    "for folder in folders:\n",
    "    doc_type = os.path.basename(folder)\n",
    "    loader = DirectoryLoader(folder, glob=\"**/*.md\", loader_cls=TextLoader, loader_kwargs={'encoding': 'utf-8'})\n",
    "    folder_docs = loader.load()\n",
    "    for doc in folder_docs:\n",
    "        doc.metadata[\"doc_type\"] = doc_type\n",
    "        documents.append(doc)\n",
    "\n",
    "print(f\"Loaded {len(documents)} documents\")"
   ]
  },
  {
   "cell_type": "code",
   "execution_count": 6,
   "id": "7f4ed3ec-b1f6-47ca-94ba-686faa9666df",
   "metadata": {},
   "outputs": [
    {
     "name": "stderr",
     "output_type": "stream",
     "text": [
      "Created a chunk of size 1088, which is longer than the specified 1000\n"
     ]
    },
    {
     "name": "stdout",
     "output_type": "stream",
     "text": [
      "Divided into 123 chunks\n"
     ]
    }
   ],
   "source": [
    "text_splitter = CharacterTextSplitter(chunk_size=1000, chunk_overlap=200)\n",
    "chunks = text_splitter.split_documents(documents)\n",
    "\n",
    "print(f\"Divided into {len(chunks)} chunks\")"
   ]
  },
  {
   "cell_type": "markdown",
   "id": "77f7d2a6-ccfa-425b-a1c3-5e55b23bd013",
   "metadata": {},
   "source": [
    "## A sidenote on Embeddings, and \"Auto-Encoding LLMs\"\n",
    "\n",
    "We will be mapping each chunk of text into a Vector that represents the meaning of the text, known as an embedding.\n",
    "\n",
    "OpenAI offers a model to do this, which we will use by calling their API with some LangChain code.\n",
    "\n",
    "This model is an example of an \"Auto-Encoding LLM\" which generates an output given a complete input.\n",
    "It's different to all the other LLMs we've discussed today, which are known as \"Auto-Regressive LLMs\", and generate future tokens based only on past context.\n",
    "\n",
    "Another example of an Auto-Encoding LLMs is BERT from Google. In addition to embedding, Auto-encoding LLMs are often used for classification.\n",
    "\n",
    "More details in the resources."
   ]
  },
  {
   "cell_type": "code",
   "execution_count": 7,
   "id": "78998399-ac17-4e28-b15f-0b5f51e6ee23",
   "metadata": {},
   "outputs": [
    {
     "name": "stdout",
     "output_type": "stream",
     "text": [
      "Vectorstore created with 123 documents\n"
     ]
    }
   ],
   "source": [
    "# Put the chunks of data into a Vector Store that associates a Vector Embedding with each chunk\n",
    "# Chroma is a popular open source Vector Database based on SQLLite\n",
    "\n",
    "embeddings = OpenAIEmbeddings()\n",
    "\n",
    "# Delete if already exists\n",
    "\n",
    "if os.path.exists(db_name):\n",
    "    Chroma(persist_directory=db_name, embedding_function=embeddings).delete_collection()\n",
    "\n",
    "# Create vectorstore\n",
    "\n",
    "vectorstore = Chroma.from_documents(documents=chunks, embedding=embeddings, persist_directory=db_name)\n",
    "print(f\"Vectorstore created with {vectorstore._collection.count()} documents\")"
   ]
  },
  {
   "cell_type": "code",
   "execution_count": 8,
   "id": "ff2e7687-60d4-4920-a1d7-a34b9f70a250",
   "metadata": {},
   "outputs": [
    {
     "name": "stdout",
     "output_type": "stream",
     "text": [
      "There are 123 vectors with 1,536 dimensions in the vector store\n"
     ]
    }
   ],
   "source": [
    "# Let's investigate the vectors\n",
    "\n",
    "collection = vectorstore._collection\n",
    "count = collection.count()\n",
    "\n",
    "sample_embedding = collection.get(limit=1, include=[\"embeddings\"])[\"embeddings\"][0]\n",
    "dimensions = len(sample_embedding)\n",
    "print(f\"There are {count:,} vectors with {dimensions:,} dimensions in the vector store\")"
   ]
  },
  {
   "cell_type": "code",
   "execution_count": 11,
   "id": "18d9649b",
   "metadata": {},
   "outputs": [
    {
     "name": "stdout",
     "output_type": "stream",
     "text": [
      "0: knowledge-base\\company\\about.md\n",
      "1: knowledge-base\\company\\careers.md\n",
      "2: knowledge-base\\company\\overview.md\n",
      "3: knowledge-base\\contracts\\Contract with Apex Reinsurance for Rellm - AI-Powered Enterprise Reinsurance Solution.md\n",
      "4: knowledge-base\\contracts\\Contract with Apex Reinsurance for Rellm - AI-Powered Enterprise Reinsurance Solution.md\n",
      "5: knowledge-base\\contracts\\Contract with Apex Reinsurance for Rellm - AI-Powered Enterprise Reinsurance Solution.md\n",
      "6: knowledge-base\\contracts\\Contract with Apex Reinsurance for Rellm - AI-Powered Enterprise Reinsurance Solution.md\n",
      "7: knowledge-base\\contracts\\Contract with Apex Reinsurance for Rellm - AI-Powered Enterprise Reinsurance Solution.md\n",
      "8: knowledge-base\\contracts\\Contract with Belvedere Insurance for Markellm.md\n",
      "9: knowledge-base\\contracts\\Contract with Belvedere Insurance for Markellm.md\n",
      "10: knowledge-base\\contracts\\Contract with Belvedere Insurance for Markellm.md\n",
      "11: knowledge-base\\contracts\\Contract with Belvedere Insurance for Markellm.md\n",
      "12: knowledge-base\\contracts\\Contract with Belvedere Insurance for Markellm.md\n",
      "13: knowledge-base\\contracts\\Contract with BrightWay Solutions for Markellm.md\n",
      "14: knowledge-base\\contracts\\Contract with BrightWay Solutions for Markellm.md\n",
      "15: knowledge-base\\contracts\\Contract with BrightWay Solutions for Markellm.md\n",
      "16: knowledge-base\\contracts\\Contract with BrightWay Solutions for Markellm.md\n",
      "17: knowledge-base\\contracts\\Contract with EverGuard Insurance for Rellm - AI-Powered Enterprise Reinsurance Solution.md\n",
      "18: knowledge-base\\contracts\\Contract with EverGuard Insurance for Rellm - AI-Powered Enterprise Reinsurance Solution.md\n",
      "19: knowledge-base\\contracts\\Contract with EverGuard Insurance for Rellm - AI-Powered Enterprise Reinsurance Solution.md\n",
      "20: knowledge-base\\contracts\\Contract with EverGuard Insurance for Rellm - AI-Powered Enterprise Reinsurance Solution.md\n",
      "21: knowledge-base\\contracts\\Contract with EverGuard Insurance for Rellm - AI-Powered Enterprise Reinsurance Solution.md\n",
      "22: knowledge-base\\contracts\\Contract with GreenField Holdings for Markellm.md\n",
      "23: knowledge-base\\contracts\\Contract with GreenField Holdings for Markellm.md\n",
      "24: knowledge-base\\contracts\\Contract with GreenField Holdings for Markellm.md\n",
      "25: knowledge-base\\contracts\\Contract with GreenField Holdings for Markellm.md\n",
      "26: knowledge-base\\contracts\\Contract with GreenField Holdings for Markellm.md\n",
      "27: knowledge-base\\contracts\\Contract with Greenstone Insurance for Homellm.md\n",
      "28: knowledge-base\\contracts\\Contract with Greenstone Insurance for Homellm.md\n",
      "29: knowledge-base\\contracts\\Contract with Greenstone Insurance for Homellm.md\n",
      "30: knowledge-base\\contracts\\Contract with Greenstone Insurance for Homellm.md\n",
      "31: knowledge-base\\contracts\\Contract with Greenstone Insurance for Homellm.md\n",
      "32: knowledge-base\\contracts\\Contract with GreenValley Insurance for Homellm.md\n",
      "33: knowledge-base\\contracts\\Contract with GreenValley Insurance for Homellm.md\n",
      "34: knowledge-base\\contracts\\Contract with GreenValley Insurance for Homellm.md\n",
      "35: knowledge-base\\contracts\\Contract with GreenValley Insurance for Homellm.md\n",
      "36: knowledge-base\\contracts\\Contract with Pinnacle Insurance Co. for Homellm.md\n",
      "37: knowledge-base\\contracts\\Contract with Pinnacle Insurance Co. for Homellm.md\n",
      "38: knowledge-base\\contracts\\Contract with Pinnacle Insurance Co. for Homellm.md\n",
      "39: knowledge-base\\contracts\\Contract with Pinnacle Insurance Co. for Homellm.md\n",
      "40: knowledge-base\\contracts\\Contract with Roadway Insurance Inc. for Carllm.md\n",
      "41: knowledge-base\\contracts\\Contract with Roadway Insurance Inc. for Carllm.md\n",
      "42: knowledge-base\\contracts\\Contract with Roadway Insurance Inc. for Carllm.md\n",
      "43: knowledge-base\\contracts\\Contract with Roadway Insurance Inc. for Carllm.md\n",
      "44: knowledge-base\\contracts\\Contract with Stellar Insurance Co. for Rellm.md\n",
      "45: knowledge-base\\contracts\\Contract with Stellar Insurance Co. for Rellm.md\n",
      "46: knowledge-base\\contracts\\Contract with Stellar Insurance Co. for Rellm.md\n",
      "47: knowledge-base\\contracts\\Contract with Stellar Insurance Co. for Rellm.md\n",
      "48: knowledge-base\\contracts\\Contract with TechDrive Insurance for Carllm.md\n",
      "49: knowledge-base\\contracts\\Contract with TechDrive Insurance for Carllm.md\n",
      "50: knowledge-base\\contracts\\Contract with TechDrive Insurance for Carllm.md\n",
      "51: knowledge-base\\contracts\\Contract with TechDrive Insurance for Carllm.md\n",
      "52: knowledge-base\\contracts\\Contract with Velocity Auto Solutions for Carllm.md\n",
      "53: knowledge-base\\contracts\\Contract with Velocity Auto Solutions for Carllm.md\n",
      "54: knowledge-base\\contracts\\Contract with Velocity Auto Solutions for Carllm.md\n",
      "55: knowledge-base\\employees\\Alex Chen.md\n",
      "56: knowledge-base\\employees\\Alex Chen.md\n",
      "57: knowledge-base\\employees\\Alex Chen.md\n",
      "58: knowledge-base\\employees\\Alex Chen.md\n",
      "59: knowledge-base\\employees\\Alex Harper.md\n",
      "60: knowledge-base\\employees\\Alex Harper.md\n",
      "61: knowledge-base\\employees\\Alex Harper.md\n",
      "62: knowledge-base\\employees\\Alex Thomson.md\n",
      "63: knowledge-base\\employees\\Alex Thomson.md\n",
      "64: knowledge-base\\employees\\Alex Thomson.md\n",
      "65: knowledge-base\\employees\\Avery Lancaster.md\n",
      "66: knowledge-base\\employees\\Avery Lancaster.md\n",
      "67: knowledge-base\\employees\\Avery Lancaster.md\n",
      "68: knowledge-base\\employees\\Avery Lancaster.md\n",
      "69: knowledge-base\\employees\\Avery Lancaster.md\n",
      "70: knowledge-base\\employees\\Avery Lancaster.md\n",
      "71: knowledge-base\\employees\\Emily Carter.md\n",
      "72: knowledge-base\\employees\\Emily Carter.md\n",
      "73: knowledge-base\\employees\\Emily Carter.md\n",
      "74: knowledge-base\\employees\\Emily Carter.md\n",
      "75: knowledge-base\\employees\\Emily Tran.md\n",
      "76: knowledge-base\\employees\\Emily Tran.md\n",
      "77: knowledge-base\\employees\\Emily Tran.md\n",
      "78: knowledge-base\\employees\\Emily Tran.md\n",
      "79: knowledge-base\\employees\\Jordan Blake.md\n",
      "80: knowledge-base\\employees\\Jordan Blake.md\n",
      "81: knowledge-base\\employees\\Jordan Blake.md\n",
      "82: knowledge-base\\employees\\Jordan K. Bishop.md\n",
      "83: knowledge-base\\employees\\Jordan K. Bishop.md\n",
      "84: knowledge-base\\employees\\Jordan K. Bishop.md\n",
      "85: knowledge-base\\employees\\Jordan K. Bishop.md\n",
      "86: knowledge-base\\employees\\Maxine Thompson.md\n",
      "87: knowledge-base\\employees\\Maxine Thompson.md\n",
      "88: knowledge-base\\employees\\Maxine Thompson.md\n",
      "89: knowledge-base\\employees\\Maxine Thompson.md\n",
      "90: knowledge-base\\employees\\Maxine Thompson.md\n",
      "91: knowledge-base\\employees\\Oliver Spencer.md\n",
      "92: knowledge-base\\employees\\Oliver Spencer.md\n",
      "93: knowledge-base\\employees\\Oliver Spencer.md\n",
      "94: knowledge-base\\employees\\Samantha Greene.md\n",
      "95: knowledge-base\\employees\\Samantha Greene.md\n",
      "96: knowledge-base\\employees\\Samantha Greene.md\n",
      "97: knowledge-base\\employees\\Samantha Greene.md\n",
      "98: knowledge-base\\employees\\Samuel Trenton.md\n",
      "99: knowledge-base\\employees\\Samuel Trenton.md\n",
      "100: knowledge-base\\employees\\Samuel Trenton.md\n",
      "101: knowledge-base\\employees\\Samuel Trenton.md\n",
      "102: knowledge-base\\products\\Carllm.md\n",
      "103: knowledge-base\\products\\Carllm.md\n",
      "104: knowledge-base\\products\\Carllm.md\n",
      "105: knowledge-base\\products\\Carllm.md\n",
      "106: knowledge-base\\products\\Carllm.md\n",
      "107: knowledge-base\\products\\Homellm.md\n",
      "108: knowledge-base\\products\\Homellm.md\n",
      "109: knowledge-base\\products\\Homellm.md\n",
      "110: knowledge-base\\products\\Homellm.md\n",
      "111: knowledge-base\\products\\Homellm.md\n",
      "112: knowledge-base\\products\\Homellm.md\n",
      "113: knowledge-base\\products\\Markellm.md\n",
      "114: knowledge-base\\products\\Markellm.md\n",
      "115: knowledge-base\\products\\Markellm.md\n",
      "116: knowledge-base\\products\\Markellm.md\n",
      "117: knowledge-base\\products\\Markellm.md\n",
      "118: knowledge-base\\products\\Rellm.md\n",
      "119: knowledge-base\\products\\Rellm.md\n",
      "120: knowledge-base\\products\\Rellm.md\n",
      "121: knowledge-base\\products\\Rellm.md\n",
      "122: knowledge-base\\products\\Rellm.md\n",
      "❗ Problem at index 0: source='knowledge-base\\company\\about.md' → split=['knowledge-base\\\\company\\\\about.md']\n",
      "❗ Problem at index 1: source='knowledge-base\\company\\careers.md' → split=['knowledge-base\\\\company\\\\careers.md']\n",
      "❗ Problem at index 2: source='knowledge-base\\company\\overview.md' → split=['knowledge-base\\\\company\\\\overview.md']\n",
      "❗ Problem at index 3: source='knowledge-base\\contracts\\Contract with Apex Reinsurance for Rellm - AI-Powered Enterprise Reinsurance Solution.md' → split=['knowledge-base\\\\contracts\\\\Contract with Apex Reinsurance for Rellm - AI-Powered Enterprise Reinsurance Solution.md']\n",
      "❗ Problem at index 4: source='knowledge-base\\contracts\\Contract with Apex Reinsurance for Rellm - AI-Powered Enterprise Reinsurance Solution.md' → split=['knowledge-base\\\\contracts\\\\Contract with Apex Reinsurance for Rellm - AI-Powered Enterprise Reinsurance Solution.md']\n",
      "❗ Problem at index 5: source='knowledge-base\\contracts\\Contract with Apex Reinsurance for Rellm - AI-Powered Enterprise Reinsurance Solution.md' → split=['knowledge-base\\\\contracts\\\\Contract with Apex Reinsurance for Rellm - AI-Powered Enterprise Reinsurance Solution.md']\n",
      "❗ Problem at index 6: source='knowledge-base\\contracts\\Contract with Apex Reinsurance for Rellm - AI-Powered Enterprise Reinsurance Solution.md' → split=['knowledge-base\\\\contracts\\\\Contract with Apex Reinsurance for Rellm - AI-Powered Enterprise Reinsurance Solution.md']\n",
      "❗ Problem at index 7: source='knowledge-base\\contracts\\Contract with Apex Reinsurance for Rellm - AI-Powered Enterprise Reinsurance Solution.md' → split=['knowledge-base\\\\contracts\\\\Contract with Apex Reinsurance for Rellm - AI-Powered Enterprise Reinsurance Solution.md']\n",
      "❗ Problem at index 8: source='knowledge-base\\contracts\\Contract with Belvedere Insurance for Markellm.md' → split=['knowledge-base\\\\contracts\\\\Contract with Belvedere Insurance for Markellm.md']\n",
      "❗ Problem at index 9: source='knowledge-base\\contracts\\Contract with Belvedere Insurance for Markellm.md' → split=['knowledge-base\\\\contracts\\\\Contract with Belvedere Insurance for Markellm.md']\n",
      "❗ Problem at index 10: source='knowledge-base\\contracts\\Contract with Belvedere Insurance for Markellm.md' → split=['knowledge-base\\\\contracts\\\\Contract with Belvedere Insurance for Markellm.md']\n",
      "❗ Problem at index 11: source='knowledge-base\\contracts\\Contract with Belvedere Insurance for Markellm.md' → split=['knowledge-base\\\\contracts\\\\Contract with Belvedere Insurance for Markellm.md']\n",
      "❗ Problem at index 12: source='knowledge-base\\contracts\\Contract with Belvedere Insurance for Markellm.md' → split=['knowledge-base\\\\contracts\\\\Contract with Belvedere Insurance for Markellm.md']\n",
      "❗ Problem at index 13: source='knowledge-base\\contracts\\Contract with BrightWay Solutions for Markellm.md' → split=['knowledge-base\\\\contracts\\\\Contract with BrightWay Solutions for Markellm.md']\n",
      "❗ Problem at index 14: source='knowledge-base\\contracts\\Contract with BrightWay Solutions for Markellm.md' → split=['knowledge-base\\\\contracts\\\\Contract with BrightWay Solutions for Markellm.md']\n",
      "❗ Problem at index 15: source='knowledge-base\\contracts\\Contract with BrightWay Solutions for Markellm.md' → split=['knowledge-base\\\\contracts\\\\Contract with BrightWay Solutions for Markellm.md']\n",
      "❗ Problem at index 16: source='knowledge-base\\contracts\\Contract with BrightWay Solutions for Markellm.md' → split=['knowledge-base\\\\contracts\\\\Contract with BrightWay Solutions for Markellm.md']\n",
      "❗ Problem at index 17: source='knowledge-base\\contracts\\Contract with EverGuard Insurance for Rellm - AI-Powered Enterprise Reinsurance Solution.md' → split=['knowledge-base\\\\contracts\\\\Contract with EverGuard Insurance for Rellm - AI-Powered Enterprise Reinsurance Solution.md']\n",
      "❗ Problem at index 18: source='knowledge-base\\contracts\\Contract with EverGuard Insurance for Rellm - AI-Powered Enterprise Reinsurance Solution.md' → split=['knowledge-base\\\\contracts\\\\Contract with EverGuard Insurance for Rellm - AI-Powered Enterprise Reinsurance Solution.md']\n",
      "❗ Problem at index 19: source='knowledge-base\\contracts\\Contract with EverGuard Insurance for Rellm - AI-Powered Enterprise Reinsurance Solution.md' → split=['knowledge-base\\\\contracts\\\\Contract with EverGuard Insurance for Rellm - AI-Powered Enterprise Reinsurance Solution.md']\n",
      "❗ Problem at index 20: source='knowledge-base\\contracts\\Contract with EverGuard Insurance for Rellm - AI-Powered Enterprise Reinsurance Solution.md' → split=['knowledge-base\\\\contracts\\\\Contract with EverGuard Insurance for Rellm - AI-Powered Enterprise Reinsurance Solution.md']\n",
      "❗ Problem at index 21: source='knowledge-base\\contracts\\Contract with EverGuard Insurance for Rellm - AI-Powered Enterprise Reinsurance Solution.md' → split=['knowledge-base\\\\contracts\\\\Contract with EverGuard Insurance for Rellm - AI-Powered Enterprise Reinsurance Solution.md']\n",
      "❗ Problem at index 22: source='knowledge-base\\contracts\\Contract with GreenField Holdings for Markellm.md' → split=['knowledge-base\\\\contracts\\\\Contract with GreenField Holdings for Markellm.md']\n",
      "❗ Problem at index 23: source='knowledge-base\\contracts\\Contract with GreenField Holdings for Markellm.md' → split=['knowledge-base\\\\contracts\\\\Contract with GreenField Holdings for Markellm.md']\n",
      "❗ Problem at index 24: source='knowledge-base\\contracts\\Contract with GreenField Holdings for Markellm.md' → split=['knowledge-base\\\\contracts\\\\Contract with GreenField Holdings for Markellm.md']\n",
      "❗ Problem at index 25: source='knowledge-base\\contracts\\Contract with GreenField Holdings for Markellm.md' → split=['knowledge-base\\\\contracts\\\\Contract with GreenField Holdings for Markellm.md']\n",
      "❗ Problem at index 26: source='knowledge-base\\contracts\\Contract with GreenField Holdings for Markellm.md' → split=['knowledge-base\\\\contracts\\\\Contract with GreenField Holdings for Markellm.md']\n",
      "❗ Problem at index 27: source='knowledge-base\\contracts\\Contract with Greenstone Insurance for Homellm.md' → split=['knowledge-base\\\\contracts\\\\Contract with Greenstone Insurance for Homellm.md']\n",
      "❗ Problem at index 28: source='knowledge-base\\contracts\\Contract with Greenstone Insurance for Homellm.md' → split=['knowledge-base\\\\contracts\\\\Contract with Greenstone Insurance for Homellm.md']\n",
      "❗ Problem at index 29: source='knowledge-base\\contracts\\Contract with Greenstone Insurance for Homellm.md' → split=['knowledge-base\\\\contracts\\\\Contract with Greenstone Insurance for Homellm.md']\n",
      "❗ Problem at index 30: source='knowledge-base\\contracts\\Contract with Greenstone Insurance for Homellm.md' → split=['knowledge-base\\\\contracts\\\\Contract with Greenstone Insurance for Homellm.md']\n",
      "❗ Problem at index 31: source='knowledge-base\\contracts\\Contract with Greenstone Insurance for Homellm.md' → split=['knowledge-base\\\\contracts\\\\Contract with Greenstone Insurance for Homellm.md']\n",
      "❗ Problem at index 32: source='knowledge-base\\contracts\\Contract with GreenValley Insurance for Homellm.md' → split=['knowledge-base\\\\contracts\\\\Contract with GreenValley Insurance for Homellm.md']\n",
      "❗ Problem at index 33: source='knowledge-base\\contracts\\Contract with GreenValley Insurance for Homellm.md' → split=['knowledge-base\\\\contracts\\\\Contract with GreenValley Insurance for Homellm.md']\n",
      "❗ Problem at index 34: source='knowledge-base\\contracts\\Contract with GreenValley Insurance for Homellm.md' → split=['knowledge-base\\\\contracts\\\\Contract with GreenValley Insurance for Homellm.md']\n",
      "❗ Problem at index 35: source='knowledge-base\\contracts\\Contract with GreenValley Insurance for Homellm.md' → split=['knowledge-base\\\\contracts\\\\Contract with GreenValley Insurance for Homellm.md']\n",
      "❗ Problem at index 36: source='knowledge-base\\contracts\\Contract with Pinnacle Insurance Co. for Homellm.md' → split=['knowledge-base\\\\contracts\\\\Contract with Pinnacle Insurance Co. for Homellm.md']\n",
      "❗ Problem at index 37: source='knowledge-base\\contracts\\Contract with Pinnacle Insurance Co. for Homellm.md' → split=['knowledge-base\\\\contracts\\\\Contract with Pinnacle Insurance Co. for Homellm.md']\n",
      "❗ Problem at index 38: source='knowledge-base\\contracts\\Contract with Pinnacle Insurance Co. for Homellm.md' → split=['knowledge-base\\\\contracts\\\\Contract with Pinnacle Insurance Co. for Homellm.md']\n",
      "❗ Problem at index 39: source='knowledge-base\\contracts\\Contract with Pinnacle Insurance Co. for Homellm.md' → split=['knowledge-base\\\\contracts\\\\Contract with Pinnacle Insurance Co. for Homellm.md']\n",
      "❗ Problem at index 40: source='knowledge-base\\contracts\\Contract with Roadway Insurance Inc. for Carllm.md' → split=['knowledge-base\\\\contracts\\\\Contract with Roadway Insurance Inc. for Carllm.md']\n",
      "❗ Problem at index 41: source='knowledge-base\\contracts\\Contract with Roadway Insurance Inc. for Carllm.md' → split=['knowledge-base\\\\contracts\\\\Contract with Roadway Insurance Inc. for Carllm.md']\n",
      "❗ Problem at index 42: source='knowledge-base\\contracts\\Contract with Roadway Insurance Inc. for Carllm.md' → split=['knowledge-base\\\\contracts\\\\Contract with Roadway Insurance Inc. for Carllm.md']\n",
      "❗ Problem at index 43: source='knowledge-base\\contracts\\Contract with Roadway Insurance Inc. for Carllm.md' → split=['knowledge-base\\\\contracts\\\\Contract with Roadway Insurance Inc. for Carllm.md']\n",
      "❗ Problem at index 44: source='knowledge-base\\contracts\\Contract with Stellar Insurance Co. for Rellm.md' → split=['knowledge-base\\\\contracts\\\\Contract with Stellar Insurance Co. for Rellm.md']\n",
      "❗ Problem at index 45: source='knowledge-base\\contracts\\Contract with Stellar Insurance Co. for Rellm.md' → split=['knowledge-base\\\\contracts\\\\Contract with Stellar Insurance Co. for Rellm.md']\n",
      "❗ Problem at index 46: source='knowledge-base\\contracts\\Contract with Stellar Insurance Co. for Rellm.md' → split=['knowledge-base\\\\contracts\\\\Contract with Stellar Insurance Co. for Rellm.md']\n",
      "❗ Problem at index 47: source='knowledge-base\\contracts\\Contract with Stellar Insurance Co. for Rellm.md' → split=['knowledge-base\\\\contracts\\\\Contract with Stellar Insurance Co. for Rellm.md']\n",
      "❗ Problem at index 48: source='knowledge-base\\contracts\\Contract with TechDrive Insurance for Carllm.md' → split=['knowledge-base\\\\contracts\\\\Contract with TechDrive Insurance for Carllm.md']\n",
      "❗ Problem at index 49: source='knowledge-base\\contracts\\Contract with TechDrive Insurance for Carllm.md' → split=['knowledge-base\\\\contracts\\\\Contract with TechDrive Insurance for Carllm.md']\n",
      "❗ Problem at index 50: source='knowledge-base\\contracts\\Contract with TechDrive Insurance for Carllm.md' → split=['knowledge-base\\\\contracts\\\\Contract with TechDrive Insurance for Carllm.md']\n",
      "❗ Problem at index 51: source='knowledge-base\\contracts\\Contract with TechDrive Insurance for Carllm.md' → split=['knowledge-base\\\\contracts\\\\Contract with TechDrive Insurance for Carllm.md']\n",
      "❗ Problem at index 52: source='knowledge-base\\contracts\\Contract with Velocity Auto Solutions for Carllm.md' → split=['knowledge-base\\\\contracts\\\\Contract with Velocity Auto Solutions for Carllm.md']\n",
      "❗ Problem at index 53: source='knowledge-base\\contracts\\Contract with Velocity Auto Solutions for Carllm.md' → split=['knowledge-base\\\\contracts\\\\Contract with Velocity Auto Solutions for Carllm.md']\n",
      "❗ Problem at index 54: source='knowledge-base\\contracts\\Contract with Velocity Auto Solutions for Carllm.md' → split=['knowledge-base\\\\contracts\\\\Contract with Velocity Auto Solutions for Carllm.md']\n",
      "❗ Problem at index 55: source='knowledge-base\\employees\\Alex Chen.md' → split=['knowledge-base\\\\employees\\\\Alex Chen.md']\n",
      "❗ Problem at index 56: source='knowledge-base\\employees\\Alex Chen.md' → split=['knowledge-base\\\\employees\\\\Alex Chen.md']\n",
      "❗ Problem at index 57: source='knowledge-base\\employees\\Alex Chen.md' → split=['knowledge-base\\\\employees\\\\Alex Chen.md']\n",
      "❗ Problem at index 58: source='knowledge-base\\employees\\Alex Chen.md' → split=['knowledge-base\\\\employees\\\\Alex Chen.md']\n",
      "❗ Problem at index 59: source='knowledge-base\\employees\\Alex Harper.md' → split=['knowledge-base\\\\employees\\\\Alex Harper.md']\n",
      "❗ Problem at index 60: source='knowledge-base\\employees\\Alex Harper.md' → split=['knowledge-base\\\\employees\\\\Alex Harper.md']\n",
      "❗ Problem at index 61: source='knowledge-base\\employees\\Alex Harper.md' → split=['knowledge-base\\\\employees\\\\Alex Harper.md']\n",
      "❗ Problem at index 62: source='knowledge-base\\employees\\Alex Thomson.md' → split=['knowledge-base\\\\employees\\\\Alex Thomson.md']\n",
      "❗ Problem at index 63: source='knowledge-base\\employees\\Alex Thomson.md' → split=['knowledge-base\\\\employees\\\\Alex Thomson.md']\n",
      "❗ Problem at index 64: source='knowledge-base\\employees\\Alex Thomson.md' → split=['knowledge-base\\\\employees\\\\Alex Thomson.md']\n",
      "❗ Problem at index 65: source='knowledge-base\\employees\\Avery Lancaster.md' → split=['knowledge-base\\\\employees\\\\Avery Lancaster.md']\n",
      "❗ Problem at index 66: source='knowledge-base\\employees\\Avery Lancaster.md' → split=['knowledge-base\\\\employees\\\\Avery Lancaster.md']\n",
      "❗ Problem at index 67: source='knowledge-base\\employees\\Avery Lancaster.md' → split=['knowledge-base\\\\employees\\\\Avery Lancaster.md']\n",
      "❗ Problem at index 68: source='knowledge-base\\employees\\Avery Lancaster.md' → split=['knowledge-base\\\\employees\\\\Avery Lancaster.md']\n",
      "❗ Problem at index 69: source='knowledge-base\\employees\\Avery Lancaster.md' → split=['knowledge-base\\\\employees\\\\Avery Lancaster.md']\n",
      "❗ Problem at index 70: source='knowledge-base\\employees\\Avery Lancaster.md' → split=['knowledge-base\\\\employees\\\\Avery Lancaster.md']\n",
      "❗ Problem at index 71: source='knowledge-base\\employees\\Emily Carter.md' → split=['knowledge-base\\\\employees\\\\Emily Carter.md']\n",
      "❗ Problem at index 72: source='knowledge-base\\employees\\Emily Carter.md' → split=['knowledge-base\\\\employees\\\\Emily Carter.md']\n",
      "❗ Problem at index 73: source='knowledge-base\\employees\\Emily Carter.md' → split=['knowledge-base\\\\employees\\\\Emily Carter.md']\n",
      "❗ Problem at index 74: source='knowledge-base\\employees\\Emily Carter.md' → split=['knowledge-base\\\\employees\\\\Emily Carter.md']\n",
      "❗ Problem at index 75: source='knowledge-base\\employees\\Emily Tran.md' → split=['knowledge-base\\\\employees\\\\Emily Tran.md']\n",
      "❗ Problem at index 76: source='knowledge-base\\employees\\Emily Tran.md' → split=['knowledge-base\\\\employees\\\\Emily Tran.md']\n",
      "❗ Problem at index 77: source='knowledge-base\\employees\\Emily Tran.md' → split=['knowledge-base\\\\employees\\\\Emily Tran.md']\n",
      "❗ Problem at index 78: source='knowledge-base\\employees\\Emily Tran.md' → split=['knowledge-base\\\\employees\\\\Emily Tran.md']\n",
      "❗ Problem at index 79: source='knowledge-base\\employees\\Jordan Blake.md' → split=['knowledge-base\\\\employees\\\\Jordan Blake.md']\n",
      "❗ Problem at index 80: source='knowledge-base\\employees\\Jordan Blake.md' → split=['knowledge-base\\\\employees\\\\Jordan Blake.md']\n",
      "❗ Problem at index 81: source='knowledge-base\\employees\\Jordan Blake.md' → split=['knowledge-base\\\\employees\\\\Jordan Blake.md']\n",
      "❗ Problem at index 82: source='knowledge-base\\employees\\Jordan K. Bishop.md' → split=['knowledge-base\\\\employees\\\\Jordan K. Bishop.md']\n",
      "❗ Problem at index 83: source='knowledge-base\\employees\\Jordan K. Bishop.md' → split=['knowledge-base\\\\employees\\\\Jordan K. Bishop.md']\n",
      "❗ Problem at index 84: source='knowledge-base\\employees\\Jordan K. Bishop.md' → split=['knowledge-base\\\\employees\\\\Jordan K. Bishop.md']\n",
      "❗ Problem at index 85: source='knowledge-base\\employees\\Jordan K. Bishop.md' → split=['knowledge-base\\\\employees\\\\Jordan K. Bishop.md']\n",
      "❗ Problem at index 86: source='knowledge-base\\employees\\Maxine Thompson.md' → split=['knowledge-base\\\\employees\\\\Maxine Thompson.md']\n",
      "❗ Problem at index 87: source='knowledge-base\\employees\\Maxine Thompson.md' → split=['knowledge-base\\\\employees\\\\Maxine Thompson.md']\n",
      "❗ Problem at index 88: source='knowledge-base\\employees\\Maxine Thompson.md' → split=['knowledge-base\\\\employees\\\\Maxine Thompson.md']\n",
      "❗ Problem at index 89: source='knowledge-base\\employees\\Maxine Thompson.md' → split=['knowledge-base\\\\employees\\\\Maxine Thompson.md']\n",
      "❗ Problem at index 90: source='knowledge-base\\employees\\Maxine Thompson.md' → split=['knowledge-base\\\\employees\\\\Maxine Thompson.md']\n",
      "❗ Problem at index 91: source='knowledge-base\\employees\\Oliver Spencer.md' → split=['knowledge-base\\\\employees\\\\Oliver Spencer.md']\n",
      "❗ Problem at index 92: source='knowledge-base\\employees\\Oliver Spencer.md' → split=['knowledge-base\\\\employees\\\\Oliver Spencer.md']\n",
      "❗ Problem at index 93: source='knowledge-base\\employees\\Oliver Spencer.md' → split=['knowledge-base\\\\employees\\\\Oliver Spencer.md']\n",
      "❗ Problem at index 94: source='knowledge-base\\employees\\Samantha Greene.md' → split=['knowledge-base\\\\employees\\\\Samantha Greene.md']\n",
      "❗ Problem at index 95: source='knowledge-base\\employees\\Samantha Greene.md' → split=['knowledge-base\\\\employees\\\\Samantha Greene.md']\n",
      "❗ Problem at index 96: source='knowledge-base\\employees\\Samantha Greene.md' → split=['knowledge-base\\\\employees\\\\Samantha Greene.md']\n",
      "❗ Problem at index 97: source='knowledge-base\\employees\\Samantha Greene.md' → split=['knowledge-base\\\\employees\\\\Samantha Greene.md']\n",
      "❗ Problem at index 98: source='knowledge-base\\employees\\Samuel Trenton.md' → split=['knowledge-base\\\\employees\\\\Samuel Trenton.md']\n",
      "❗ Problem at index 99: source='knowledge-base\\employees\\Samuel Trenton.md' → split=['knowledge-base\\\\employees\\\\Samuel Trenton.md']\n",
      "❗ Problem at index 100: source='knowledge-base\\employees\\Samuel Trenton.md' → split=['knowledge-base\\\\employees\\\\Samuel Trenton.md']\n",
      "❗ Problem at index 101: source='knowledge-base\\employees\\Samuel Trenton.md' → split=['knowledge-base\\\\employees\\\\Samuel Trenton.md']\n",
      "❗ Problem at index 102: source='knowledge-base\\products\\Carllm.md' → split=['knowledge-base\\\\products\\\\Carllm.md']\n",
      "❗ Problem at index 103: source='knowledge-base\\products\\Carllm.md' → split=['knowledge-base\\\\products\\\\Carllm.md']\n",
      "❗ Problem at index 104: source='knowledge-base\\products\\Carllm.md' → split=['knowledge-base\\\\products\\\\Carllm.md']\n",
      "❗ Problem at index 105: source='knowledge-base\\products\\Carllm.md' → split=['knowledge-base\\\\products\\\\Carllm.md']\n",
      "❗ Problem at index 106: source='knowledge-base\\products\\Carllm.md' → split=['knowledge-base\\\\products\\\\Carllm.md']\n",
      "❗ Problem at index 107: source='knowledge-base\\products\\Homellm.md' → split=['knowledge-base\\\\products\\\\Homellm.md']\n",
      "❗ Problem at index 108: source='knowledge-base\\products\\Homellm.md' → split=['knowledge-base\\\\products\\\\Homellm.md']\n",
      "❗ Problem at index 109: source='knowledge-base\\products\\Homellm.md' → split=['knowledge-base\\\\products\\\\Homellm.md']\n",
      "❗ Problem at index 110: source='knowledge-base\\products\\Homellm.md' → split=['knowledge-base\\\\products\\\\Homellm.md']\n",
      "❗ Problem at index 111: source='knowledge-base\\products\\Homellm.md' → split=['knowledge-base\\\\products\\\\Homellm.md']\n",
      "❗ Problem at index 112: source='knowledge-base\\products\\Homellm.md' → split=['knowledge-base\\\\products\\\\Homellm.md']\n",
      "❗ Problem at index 113: source='knowledge-base\\products\\Markellm.md' → split=['knowledge-base\\\\products\\\\Markellm.md']\n",
      "❗ Problem at index 114: source='knowledge-base\\products\\Markellm.md' → split=['knowledge-base\\\\products\\\\Markellm.md']\n",
      "❗ Problem at index 115: source='knowledge-base\\products\\Markellm.md' → split=['knowledge-base\\\\products\\\\Markellm.md']\n",
      "❗ Problem at index 116: source='knowledge-base\\products\\Markellm.md' → split=['knowledge-base\\\\products\\\\Markellm.md']\n",
      "❗ Problem at index 117: source='knowledge-base\\products\\Markellm.md' → split=['knowledge-base\\\\products\\\\Markellm.md']\n",
      "❗ Problem at index 118: source='knowledge-base\\products\\Rellm.md' → split=['knowledge-base\\\\products\\\\Rellm.md']\n",
      "❗ Problem at index 119: source='knowledge-base\\products\\Rellm.md' → split=['knowledge-base\\\\products\\\\Rellm.md']\n",
      "❗ Problem at index 120: source='knowledge-base\\products\\Rellm.md' → split=['knowledge-base\\\\products\\\\Rellm.md']\n",
      "❗ Problem at index 121: source='knowledge-base\\products\\Rellm.md' → split=['knowledge-base\\\\products\\\\Rellm.md']\n",
      "❗ Problem at index 122: source='knowledge-base\\products\\Rellm.md' → split=['knowledge-base\\\\products\\\\Rellm.md']\n"
     ]
    }
   ],
   "source": [
    "result = collection.get(include=['embeddings', 'documents', 'metadatas'])\n",
    "vectors = np.array(result['embeddings'])\n",
    "documents = result['documents']\n",
    "metadatas = result['metadatas']\n",
    "for i, metadata in enumerate(metadatas):\n",
    "    source = metadata.get('source', None)\n",
    "    print(f\"{i}: {source}\")\n",
    "\n",
    "for i, metadata in enumerate(metadatas):\n",
    "    source = metadata.get('source', '')\n",
    "    parts = source.split('/')\n",
    "    if len(parts) <= 1:\n",
    "        print(f\"❗ Problem at index {i}: source='{source}' → split={parts}\")"
   ]
  },
  {
   "cell_type": "markdown",
   "id": "b0d45462-a818-441c-b010-b85b32bcf618",
   "metadata": {},
   "source": [
    "## Visualizing the Vector Store\n",
    "\n",
    "Let's take a minute to look at the documents and their embedding vectors to see what's going on."
   ]
  },
  {
   "cell_type": "code",
   "execution_count": 12,
   "id": "b98adf5e-d464-4bd2-9bdf-bc5b6770263b",
   "metadata": {},
   "outputs": [],
   "source": [
    "# Prework\n",
    "\n",
    "result = collection.get(include=['embeddings', 'documents', 'metadatas'])\n",
    "vectors = np.array(result['embeddings'])\n",
    "documents = result['documents']\n",
    "metadatas = result['metadatas']\n",
    "doc_types = [metadata['source'].split('\\\\')[1] for metadata in metadatas]\n",
    "colors = [['blue', 'green', 'red', 'orange'][['products', 'employees', 'contracts', 'company'].index(t)] for t in doc_types]"
   ]
  },
  {
   "cell_type": "code",
   "execution_count": 13,
   "id": "427149d5-e5d8-4abd-bb6f-7ef0333cca21",
   "metadata": {},
   "outputs": [
    {
     "data": {
      "application/vnd.plotly.v1+json": {
       "config": {
        "plotlyServerURL": "https://plot.ly"
       },
       "data": [
        {
         "hoverinfo": "text",
         "marker": {
          "color": [
           "orange",
           "orange",
           "orange",
           "red",
           "red",
           "red",
           "red",
           "red",
           "red",
           "red",
           "red",
           "red",
           "red",
           "red",
           "red",
           "red",
           "red",
           "red",
           "red",
           "red",
           "red",
           "red",
           "red",
           "red",
           "red",
           "red",
           "red",
           "red",
           "red",
           "red",
           "red",
           "red",
           "red",
           "red",
           "red",
           "red",
           "red",
           "red",
           "red",
           "red",
           "red",
           "red",
           "red",
           "red",
           "red",
           "red",
           "red",
           "red",
           "red",
           "red",
           "red",
           "red",
           "red",
           "red",
           "red",
           "green",
           "green",
           "green",
           "green",
           "green",
           "green",
           "green",
           "green",
           "green",
           "green",
           "green",
           "green",
           "green",
           "green",
           "green",
           "green",
           "green",
           "green",
           "green",
           "green",
           "green",
           "green",
           "green",
           "green",
           "green",
           "green",
           "green",
           "green",
           "green",
           "green",
           "green",
           "green",
           "green",
           "green",
           "green",
           "green",
           "green",
           "green",
           "green",
           "green",
           "green",
           "green",
           "green",
           "green",
           "green",
           "green",
           "green",
           "blue",
           "blue",
           "blue",
           "blue",
           "blue",
           "blue",
           "blue",
           "blue",
           "blue",
           "blue",
           "blue",
           "blue",
           "blue",
           "blue",
           "blue",
           "blue",
           "blue",
           "blue",
           "blue",
           "blue",
           "blue"
          ],
          "opacity": 0.8,
          "size": 5
         },
         "mode": "markers",
         "text": [
          "Type: company<br>Text: # About Insurellm\n\nInsurellm was founded by Avery Lancaster in 2015 as an insurance tech startup des...",
          "Type: company<br>Text: # Careers at Insurellm\n\nInsurellm is hiring! We are looking for talented software engineers, data sc...",
          "Type: company<br>Text: # Overview of Insurellm\n\nInsurellm is an innovative insurance tech firm with 200 employees across th...",
          "Type: contracts<br>Text: # Contract with Apex Reinsurance for Rellm: AI-Powered Enterprise Reinsurance Solution\n\n## Terms\n\n1....",
          "Type: contracts<br>Text: ## Renewal\n\n1. **Automatic Renewal**: This Agreement will automatically renew for successive one-yea...",
          "Type: contracts<br>Text: 2. **Seamless Integrations**: The architecture of Rellm allows for easy integration with existing sy...",
          "Type: contracts<br>Text: 1. **Technical Support**: Provider shall offer dedicated technical support to the Client via phone, ...",
          "Type: contracts<br>Text: **Insurellm, Inc.**  \n_____________________________  \nAuthorized Signature   \nDate: ________________...",
          "Type: contracts<br>Text: # Contract with Belvedere Insurance for Markellm\n\n## Terms\nThis Contract (\"Agreement\") is made and e...",
          "Type: contracts<br>Text: ## Renewal\n1. **Renewal Terms**: This Agreement may be renewed for additional one-year terms upon mu...",
          "Type: contracts<br>Text: ## Features\n1. **AI-Powered Matching**: Belvedere Insurance will benefit from Markellm's AI-powered ...",
          "Type: contracts<br>Text: ## Support\n1. **Technical Support**: Technical support will be available from 9 AM to 7 PM EST, Mond...",
          "Type: contracts<br>Text: **Belvedere Insurance**  \nSignature: ______________________  \nName: [Authorized Signatory]  \nTitle: ...",
          "Type: contracts<br>Text: # Contract with BrightWay Solutions for Markellm\n\n**Contract Date:** October 5, 2023  \n**Contract ID...",
          "Type: contracts<br>Text: 3. **Service Level Agreement (SLA):**  \n   Insurellm commits to a 99.9% uptime for the platform with...",
          "Type: contracts<br>Text: 2. **Real-Time Quote Availability:**  \n   Consumers sourced via BrightWay Solutions will receive rea...",
          "Type: contracts<br>Text: 3. **Training and Onboarding:**  \n   Insurellm agrees to provide one free training session on how to...",
          "Type: contracts<br>Text: # Contract with EverGuard Insurance for Rellm: AI-Powered Enterprise Reinsurance Solution\n\n**Contrac...",
          "Type: contracts<br>Text: 4. **Usage Rights**: EverGuard Insurance is granted a non-exclusive, non-transferable license to acc...",
          "Type: contracts<br>Text: 1. **Core Functionality**: Rellm provides EverGuard Insurance with advanced AI-driven analytics, sea...",
          "Type: contracts<br>Text: 1. **Customer Support**: Insurellm will provide EverGuard Insurance with 24/7 customer support, incl...",
          "Type: contracts<br>Text: ---\n\n**Signatures**  \n**For Insurellm**: __________________________  \n**Name**: John Smith  \n**Title...",
          "Type: contracts<br>Text: # Contract with GreenField Holdings for Markellm\n\n**Effective Date:** November 15, 2023  \n**Contract...",
          "Type: contracts<br>Text: ## Renewal\n1. **Automatic Renewal**: This contract will automatically renew for sequential one-year ...",
          "Type: contracts<br>Text: ## Features\n1. **AI-Powered Matching**: Access to advanced algorithms that connect GreenField Holdin...",
          "Type: contracts<br>Text: ## Support\n1. **Customer Support Access**: The Client will have access to dedicated support through ...",
          "Type: contracts<br>Text: **Signatures:**  \n_________________________                           _________________________  \n**...",
          "Type: contracts<br>Text: # Contract with Greenstone Insurance for Homellm\n\n---\n\n## Terms\n\n1. **Parties**: This Contract (\"Agr...",
          "Type: contracts<br>Text: 4. **Payment Terms**: \n   - The Customer shall pay an amount of $10,000 per month for the Standard T...",
          "Type: contracts<br>Text: ---\n\n## Features\n\n- **AI-Powered Risk Assessment**: Customer will have access to enhanced risk evalu...",
          "Type: contracts<br>Text: - **Customer Portal**: A dedicated portal will be provided, allowing the Customer's clients to manag...",
          "Type: contracts<br>Text: ______________________________  \n[Name], [Title]  \nDate: ______________________\n\n**For Greenstone In...",
          "Type: contracts<br>Text: # Contract with GreenValley Insurance for Homellm\n\n**Contract Date:** October 6, 2023  \n**Contract N...",
          "Type: contracts<br>Text: 4. **Confidentiality:** Both parties agree to maintain the confidentiality of proprietary informatio...",
          "Type: contracts<br>Text: 1. **AI-Powered Risk Assessment:** Access to advanced AI algorithms for real-time risk evaluations.\n...",
          "Type: contracts<br>Text: 3. **Regular Updates:** Insurellm will offer ongoing updates and enhancements to the Homellm platfor...",
          "Type: contracts<br>Text: # Contract with Pinnacle Insurance Co. for Homellm\n\n## Terms\nThis contract (\"Contract\") is entered i...",
          "Type: contracts<br>Text: ## Renewal\n1. **Renewal Terms**: At the end of the initial term, this Contract shall automatically r...",
          "Type: contracts<br>Text: ## Features\n1. **AI-Powered Risk Assessment**: Utilized for tailored underwriting decisions specific...",
          "Type: contracts<br>Text: ## Support\n1. **Technical Support**: Insurellm shall provide 24/7 technical support via an email and...",
          "Type: contracts<br>Text: # Contract with Roadway Insurance Inc. for Carllm\n\n---\n\n## Terms\n\n1. **Agreement Effective Date**: T...",
          "Type: contracts<br>Text: ---\n\n## Renewal\n\n1. **Automatic Renewal**: This agreement will automatically renew for an additional...",
          "Type: contracts<br>Text: ---\n\n## Features\n\n1. **Access to Core Features**: Roadway Insurance Inc. will have access to all Pro...",
          "Type: contracts<br>Text: ---\n\n## Support\n\n1. **Technical Support**: Roadway Insurance Inc. will receive priority technical su...",
          "Type: contracts<br>Text: # Contract with Stellar Insurance Co. for Rellm\n\n## Terms\nThis contract is made between **Insurellm*...",
          "Type: contracts<br>Text: ### Termination\nEither party may terminate this agreement with a **30-day written notice**. In the e...",
          "Type: contracts<br>Text: ## Features\nStellar Insurance Co. will receive access to the following features of the Rellm product...",
          "Type: contracts<br>Text: ## Support\nInsurellm provides Stellar Insurance Co. with the following support services:\n\n- **24/7 T...",
          "Type: contracts<br>Text: # Contract with TechDrive Insurance for Carllm\n\n**Contract Date:** October 1, 2024  \n**Contract Dura...",
          "Type: contracts<br>Text: ## Renewal\n\n1. **Automatic Renewal**: This contract shall automatically renew for additional one-yea...",
          "Type: contracts<br>Text: ## Support\n\n1. **Customer Support**: Insurellm will provide 24/7 customer support to TechDrive Insur...",
          "Type: contracts<br>Text: **TechDrive Insurance Representative:**  \nName: Sarah Johnson  \nTitle: Operations Director  \nDate: _...",
          "Type: contracts<br>Text: # Contract with Velocity Auto Solutions for Carllm\n\n**Contract Date:** October 1, 2023  \n**Contract ...",
          "Type: contracts<br>Text: ## Renewal\n\n1. **Automatic Renewal**: This contract will automatically renew for successive 12-month...",
          "Type: contracts<br>Text: ## Support\n\n1. **Customer Support**: Velocity Auto Solutions will have access to Insurellm’s custome...",
          "Type: employees<br>Text: # HR Record\n\n# Alex Chen\n\n## Summary\n- **Date of Birth:** March 15, 1990  \n- **Job Title:** Backend ...",
          "Type: employees<br>Text: ## Annual Performance History\n- **2020:**  \n  - Completed onboarding successfully.  \n  - Met expecta...",
          "Type: employees<br>Text: ## Compensation History\n- **2020:** Base Salary: $80,000  \n- **2021:** Base Salary Increase to $90,0...",
          "Type: employees<br>Text: Alex Chen continues to be a vital asset at Insurellm, contributing significantly to innovative backe...",
          "Type: employees<br>Text: # HR Record\n\n# Alex Harper\n\n## Summary\n- **Date of Birth**: March 15, 1993  \n- **Job Title**: Sales ...",
          "Type: employees<br>Text: ## Annual Performance History  \n- **2021**:  \n  - **Performance Rating**: 4.5/5  \n  - **Key Achievem...",
          "Type: employees<br>Text: - **2022**:  \n  - **Base Salary**: $65,000 (Promotion to Senior SDR)  \n  - **Bonus**: $13,000 (20% o...",
          "Type: employees<br>Text: # HR Record\n\n# Alex Thomson\n\n## Summary\n- **Date of Birth:** March 15, 1995  \n- **Job Title:** Sales...",
          "Type: employees<br>Text: ## Annual Performance History  \n- **2022** - Rated as \"Exceeds Expectations.\" Alex Thomson achieved ...",
          "Type: employees<br>Text: ## Other HR Notes\n- Alex Thomson is an active member of the Diversity and Inclusion committee at Ins...",
          "Type: employees<br>Text: # Avery Lancaster\n\n## Summary\n- **Date of Birth**: March 15, 1985  \n- **Job Title**: Co-Founder & Ch...",
          "Type: employees<br>Text: - **2010 - 2013**: Business Analyst at Edge Analytics  \n  Prior to joining Innovate, Avery worked as...",
          "Type: employees<br>Text: - **2018**: **Exceeds Expectations**  \n  Under Avery’s pivoted vision, Insurellm launched two new su...",
          "Type: employees<br>Text: - **2022**: **Satisfactory**  \n  Avery focused on rebuilding team dynamics and addressing employee c...",
          "Type: employees<br>Text: ## Compensation History\n- **2015**: $150,000 base salary + Significant equity stake  \n- **2016**: $1...",
          "Type: employees<br>Text: ## Other HR Notes\n- **Professional Development**: Avery has actively participated in leadership trai...",
          "Type: employees<br>Text: # HR Record\n\n# Emily Carter\n\n## Summary\n- **Date of Birth:** August 12, 1990  \n- **Job Title:** Acco...",
          "Type: employees<br>Text: - **2017-2019:** Marketing Intern  \n  - Assisted with market research and campaign development for s...",
          "Type: employees<br>Text: ## Compensation History\n| Year | Base Salary | Bonus         | Total Compensation |\n|------|--------...",
          "Type: employees<br>Text: Emily Carter exemplifies the kind of talent that drives Insurellm's success and is an invaluable ass...",
          "Type: employees<br>Text: # HR Record\n\n# Emily Tran\n\n## Summary\n- **Date of Birth:** March 18, 1991  \n- **Job Title:** Digital...",
          "Type: employees<br>Text: - **January 2017 - May 2018**: Marketing Intern  \n  - Supported the Marketing team by collaborating ...",
          "Type: employees<br>Text: - **2021**:  \n  - Performance Rating: Meets Expectations  \n  - Key Achievements: Contributed to the ...",
          "Type: employees<br>Text: - **Professional Development Goals**:  \n  - Emily Tran aims to become a Marketing Manager within the...",
          "Type: employees<br>Text: # HR Record\n\n# Jordan Blake\n\n## Summary\n- **Date of Birth:** March 15, 1993  \n- **Job Title:** Sales...",
          "Type: employees<br>Text: ## Annual Performance History\n- **2021:** First year at Insurellm; achieved 90% of monthly targets. ...",
          "Type: employees<br>Text: ## Other HR Notes\n- Jordan has shown an interest in continuing education, actively participating in ...",
          "Type: employees<br>Text: # HR Record\n\n# Jordan K. Bishop\n\n## Summary\n- **Date of Birth:** March 15, 1990\n- **Job Title:** Fro...",
          "Type: employees<br>Text: ## Annual Performance History\n- **2019:** Exceeds Expectations - Continuously delivered high-quality...",
          "Type: employees<br>Text: ## Compensation History\n- **June 2018:** Starting Salary - $85,000\n- **June 2019:** Salary Increase ...",
          "Type: employees<br>Text: ## Other HR Notes\n- Jordan K. Bishop has been an integral part of club initiatives, including the In...",
          "Type: employees<br>Text: # HR Record\n\n# Maxine Thompson\n\n## Summary\n- **Date of Birth:** January 15, 1991  \n- **Job Title:** ...",
          "Type: employees<br>Text: ## Insurellm Career Progression\n- **January 2017 - October 2018**: **Junior Data Engineer**  \n  * Ma...",
          "Type: employees<br>Text: ## Annual Performance History\n- **2017**: *Meets Expectations*  \n  Maxine showed potential in her ro...",
          "Type: employees<br>Text: - **2021**: *Exceeds Expectations*  \n  Maxine spearheaded the transition to a new data warehousing s...",
          "Type: employees<br>Text: ## Compensation History\n- **2017**: $70,000 (Junior Data Engineer)  \n- **2018**: $75,000 (Junior Dat...",
          "Type: employees<br>Text: # HR Record\n\n# Oliver Spencer\n\n## Summary\n- **Date of Birth**: May 14, 1990  \n- **Job Title**: Backe...",
          "Type: employees<br>Text: ## Annual Performance History\n- **2018**: **3/5** - Adaptable team player but still learning to take...",
          "Type: employees<br>Text: ## Compensation History\n- **March 2018**: Initial salary of $80,000.\n- **July 2019**: Salary increas...",
          "Type: employees<br>Text: # Samantha Greene\n\n## Summary\n- **Date of Birth:** October 14, 1990\n- **Job Title:** HR Generalist\n-...",
          "Type: employees<br>Text: ## Annual Performance History\n- **2020:** Exceeds Expectations  \n  Samantha Greene demonstrated exce...",
          "Type: employees<br>Text: ## Compensation History\n- **2020:** Base Salary - $55,000  \n  The entry-level salary matched industr...",
          "Type: employees<br>Text: - **2023:** Base Salary - $70,000  \n  Recognized for substantial improvement in employee relations m...",
          "Type: employees<br>Text: # HR Record\n\n# Samuel Trenton\n\n## Summary\n- **Date of Birth:** April 12, 1989  \n- **Job Title:** Sen...",
          "Type: employees<br>Text: ## Annual Performance History\n- **2023:** Rating: 4.5/5  \n  *Samuel exceeded expectations, successfu...",
          "Type: employees<br>Text: ## Compensation History\n- **2023:** Base Salary: $115,000 + Bonus: $15,000  \n  *Annual bonus based o...",
          "Type: employees<br>Text: - **Engagement in Company Culture:** Regularly participates in team-building events and contributes ...",
          "Type: products<br>Text: # Product Summary\n\n# Carllm\n\n## Summary\n\nCarllm is an innovative auto insurance product developed by...",
          "Type: products<br>Text: - **Instant Quoting**: With Carllm, insurance companies can offer near-instant quotes to customers, ...",
          "Type: products<br>Text: - **Mobile Integration**: Carllm is designed to work seamlessly with mobile applications, providing ...",
          "Type: products<br>Text: - **Professional Tier**: $2,500/month\n  - For medium-sized companies.\n  - All Basic Tier features pl...",
          "Type: products<br>Text: ### Q2 2025: Customer Experience Improvements\n- Launch of a new **mobile app** for end-users.\n- Intr...",
          "Type: products<br>Text: # Product Summary\n\n# Homellm\n\n## Summary\nHomellm is an innovative home insurance product developed b...",
          "Type: products<br>Text: ### 2. Dynamic Pricing Model\nWith Homellm's innovative dynamic pricing model, insurance providers ca...",
          "Type: products<br>Text: ### 5. Multi-Channel Integration\nHomellm seamlessly integrates into existing insurance platforms, pr...",
          "Type: products<br>Text: - **Basic Tier:** Starting at $5,000/month for small insurers with basic integration features.\n- **S...",
          "Type: products<br>Text: All tiers include a comprehensive training program and ongoing updates to ensure optimal performance...",
          "Type: products<br>Text: With Homellm, Insurellm is committed to transforming the landscape of home insurance, ensuring both ...",
          "Type: products<br>Text: # Product Summary\n\n# Markellm\n\n## Summary\n\nMarkellm is an innovative two-sided marketplace designed ...",
          "Type: products<br>Text: - **User-Friendly Interface**: Designed with user experience in mind, Markellm features an intuitive...",
          "Type: products<br>Text: - **Customer Support**: Our dedicated support team is always available to assist both consumers and ...",
          "Type: products<br>Text: ### For Insurance Companies:\n- **Basic Listing Fee**: $199/month for a featured listing on the platf...",
          "Type: products<br>Text: ### Q3 2025\n- Initiate a comprehensive marketing campaign targeting both consumers and insurers to i...",
          "Type: products<br>Text: # Product Summary\n\n# Rellm: AI-Powered Enterprise Reinsurance Solution\n\n## Summary\n\nRellm is an inno...",
          "Type: products<br>Text: ### Seamless Integrations\nRellm's architecture is designed for effortless integration with existing ...",
          "Type: products<br>Text: ### Regulatory Compliance Tools\nRellm includes built-in compliance tracking features to help organiz...",
          "Type: products<br>Text: Join the growing number of organizations leveraging Rellm to enhance their reinsurance processes whi...",
          "Type: products<br>Text: Experience the future of reinsurance with Rellm, where innovation meets reliability. Let Insurellm h..."
         ],
         "type": "scatter",
         "x": {
          "bdata": "ZZQ8QDfudkCyazRAQnfXwNrNx8CmX5fAA0WewBe2j8CuDvu/C4wnwVaARz8WU6DAysuPwGb4uL8bOJ2+doUTPQtu4b+MUbjAA7OrwOg1jsBrvZHAp2VSwFY2IMDwQx/BV2rjP6FPnb90Xp3AIyNswMWpC8HChxc/XVd8wPQ4qcA89ojAU5KSwJU5gj/V46LAqEyHwPuzI8HQ08g/DLCYwJ25EMGzkRHB/CmkvXBr18B+MsPAyPfgwFLGc8CBx5nAvJsCwcyK98A8r97AMLvswBbqAsFoOPHAHsnQwFvyLkFlxg1B1HtIQfbQu0CVG0ZBQKlZQdhgWUGnsUpBBStoQX64VUG8VrpAnDnOQDaEx0CCcMJA8lRbQSaWvkCNailBoR0KQb3qP0Em581Ap5UbQfiXD0HrA0JB/pIOQRSGPkHJP05BO/RMQX3qOEEnjQVB0JhPQb2WRkFZLiJBN8otQUNFAkGt0u5AjLI9QfHGK0HknQ5BiINFQekEJkG6uRVBwpEvQZjZLEFAsihBzQ5gQRG2V0GmxQtBcfzpv3od1b8Lkeq/jkLJv2UyO7/9LJa+RgDGPioa1L6/5Za/YcKUv40jkL9kY08/3i8VP9kpUD0ayCa/izMFP221VsDH6oPA2lCRwI75IcDscDbA",
          "dtype": "f4"
         },
         "y": {
          "bdata": "/O0RQANjBUDKeSFAvU+QQJAVokBcab5AClXoP3tTicCjRFy/pPFPQH9PJT8Ur4I/uw9ewPyn1b+nK+S/gQdlv+ZvCcCFpYFA4RuTQG9vn0C45VtA83lswFDr/L7m3lZAjZOaQKQG0z74Zo3AU+qcvtPqjkB+HsRAvDASP3w/jcBQIJ2/KdmZvxW+sUDjaay/Af6TvnthUEAIqs1ArZEZP6TyRj/DDR9AiHORQIr2Vz+LPjpA9EpRQICWlECRUjpAfQwRPeFs2D/WDb2+cTuRvx1JED+AX/o/ga94Pb0sKT8j/bvAfseMwE/WLj/HfSW/FgBcwNvMEMCY+56+V2FEwDYcAr4Cb9u//g9jwJpch8Dt54nA3CutwIdf9r+Lw4C/dsAywAnoa8BCOgk/JWKZv4YX4L9+MD7AZ7Kgv5k66b3YUWDA6C6kPycyoz9lJr/AmMq2wN7W2z+HnQBA3AzHwEfhncDU3pXAUs+7wD2vXz8wKLPAFUOXwLUaOsD31Y3AuliFwJwTZsCNkIk8g3qEwGtnk8D+5JA+/E00QJrtN0CeUmtAuoGCQBlWW0DrIOtAtlPYQMTK2EBqiadALXy9QBQv90CR5Pk/GM7TPx0Ujz8ql1o/Yu8uQPToz0ADVb9AGOTWQCNYskDTvu5A",
          "dtype": "f4"
         }
        }
       ],
       "layout": {
        "height": 600,
        "margin": {
         "b": 10,
         "l": 10,
         "r": 20,
         "t": 40
        },
        "scene": {
         "xaxis": {
          "title": {
           "text": "x"
          }
         },
         "yaxis": {
          "title": {
           "text": "y"
          }
         }
        },
        "template": {
         "data": {
          "bar": [
           {
            "error_x": {
             "color": "#2a3f5f"
            },
            "error_y": {
             "color": "#2a3f5f"
            },
            "marker": {
             "line": {
              "color": "#E5ECF6",
              "width": 0.5
             },
             "pattern": {
              "fillmode": "overlay",
              "size": 10,
              "solidity": 0.2
             }
            },
            "type": "bar"
           }
          ],
          "barpolar": [
           {
            "marker": {
             "line": {
              "color": "#E5ECF6",
              "width": 0.5
             },
             "pattern": {
              "fillmode": "overlay",
              "size": 10,
              "solidity": 0.2
             }
            },
            "type": "barpolar"
           }
          ],
          "carpet": [
           {
            "aaxis": {
             "endlinecolor": "#2a3f5f",
             "gridcolor": "white",
             "linecolor": "white",
             "minorgridcolor": "white",
             "startlinecolor": "#2a3f5f"
            },
            "baxis": {
             "endlinecolor": "#2a3f5f",
             "gridcolor": "white",
             "linecolor": "white",
             "minorgridcolor": "white",
             "startlinecolor": "#2a3f5f"
            },
            "type": "carpet"
           }
          ],
          "choropleth": [
           {
            "colorbar": {
             "outlinewidth": 0,
             "ticks": ""
            },
            "type": "choropleth"
           }
          ],
          "contour": [
           {
            "colorbar": {
             "outlinewidth": 0,
             "ticks": ""
            },
            "colorscale": [
             [
              0,
              "#0d0887"
             ],
             [
              0.1111111111111111,
              "#46039f"
             ],
             [
              0.2222222222222222,
              "#7201a8"
             ],
             [
              0.3333333333333333,
              "#9c179e"
             ],
             [
              0.4444444444444444,
              "#bd3786"
             ],
             [
              0.5555555555555556,
              "#d8576b"
             ],
             [
              0.6666666666666666,
              "#ed7953"
             ],
             [
              0.7777777777777778,
              "#fb9f3a"
             ],
             [
              0.8888888888888888,
              "#fdca26"
             ],
             [
              1,
              "#f0f921"
             ]
            ],
            "type": "contour"
           }
          ],
          "contourcarpet": [
           {
            "colorbar": {
             "outlinewidth": 0,
             "ticks": ""
            },
            "type": "contourcarpet"
           }
          ],
          "heatmap": [
           {
            "colorbar": {
             "outlinewidth": 0,
             "ticks": ""
            },
            "colorscale": [
             [
              0,
              "#0d0887"
             ],
             [
              0.1111111111111111,
              "#46039f"
             ],
             [
              0.2222222222222222,
              "#7201a8"
             ],
             [
              0.3333333333333333,
              "#9c179e"
             ],
             [
              0.4444444444444444,
              "#bd3786"
             ],
             [
              0.5555555555555556,
              "#d8576b"
             ],
             [
              0.6666666666666666,
              "#ed7953"
             ],
             [
              0.7777777777777778,
              "#fb9f3a"
             ],
             [
              0.8888888888888888,
              "#fdca26"
             ],
             [
              1,
              "#f0f921"
             ]
            ],
            "type": "heatmap"
           }
          ],
          "histogram": [
           {
            "marker": {
             "pattern": {
              "fillmode": "overlay",
              "size": 10,
              "solidity": 0.2
             }
            },
            "type": "histogram"
           }
          ],
          "histogram2d": [
           {
            "colorbar": {
             "outlinewidth": 0,
             "ticks": ""
            },
            "colorscale": [
             [
              0,
              "#0d0887"
             ],
             [
              0.1111111111111111,
              "#46039f"
             ],
             [
              0.2222222222222222,
              "#7201a8"
             ],
             [
              0.3333333333333333,
              "#9c179e"
             ],
             [
              0.4444444444444444,
              "#bd3786"
             ],
             [
              0.5555555555555556,
              "#d8576b"
             ],
             [
              0.6666666666666666,
              "#ed7953"
             ],
             [
              0.7777777777777778,
              "#fb9f3a"
             ],
             [
              0.8888888888888888,
              "#fdca26"
             ],
             [
              1,
              "#f0f921"
             ]
            ],
            "type": "histogram2d"
           }
          ],
          "histogram2dcontour": [
           {
            "colorbar": {
             "outlinewidth": 0,
             "ticks": ""
            },
            "colorscale": [
             [
              0,
              "#0d0887"
             ],
             [
              0.1111111111111111,
              "#46039f"
             ],
             [
              0.2222222222222222,
              "#7201a8"
             ],
             [
              0.3333333333333333,
              "#9c179e"
             ],
             [
              0.4444444444444444,
              "#bd3786"
             ],
             [
              0.5555555555555556,
              "#d8576b"
             ],
             [
              0.6666666666666666,
              "#ed7953"
             ],
             [
              0.7777777777777778,
              "#fb9f3a"
             ],
             [
              0.8888888888888888,
              "#fdca26"
             ],
             [
              1,
              "#f0f921"
             ]
            ],
            "type": "histogram2dcontour"
           }
          ],
          "mesh3d": [
           {
            "colorbar": {
             "outlinewidth": 0,
             "ticks": ""
            },
            "type": "mesh3d"
           }
          ],
          "parcoords": [
           {
            "line": {
             "colorbar": {
              "outlinewidth": 0,
              "ticks": ""
             }
            },
            "type": "parcoords"
           }
          ],
          "pie": [
           {
            "automargin": true,
            "type": "pie"
           }
          ],
          "scatter": [
           {
            "fillpattern": {
             "fillmode": "overlay",
             "size": 10,
             "solidity": 0.2
            },
            "type": "scatter"
           }
          ],
          "scatter3d": [
           {
            "line": {
             "colorbar": {
              "outlinewidth": 0,
              "ticks": ""
             }
            },
            "marker": {
             "colorbar": {
              "outlinewidth": 0,
              "ticks": ""
             }
            },
            "type": "scatter3d"
           }
          ],
          "scattercarpet": [
           {
            "marker": {
             "colorbar": {
              "outlinewidth": 0,
              "ticks": ""
             }
            },
            "type": "scattercarpet"
           }
          ],
          "scattergeo": [
           {
            "marker": {
             "colorbar": {
              "outlinewidth": 0,
              "ticks": ""
             }
            },
            "type": "scattergeo"
           }
          ],
          "scattergl": [
           {
            "marker": {
             "colorbar": {
              "outlinewidth": 0,
              "ticks": ""
             }
            },
            "type": "scattergl"
           }
          ],
          "scattermap": [
           {
            "marker": {
             "colorbar": {
              "outlinewidth": 0,
              "ticks": ""
             }
            },
            "type": "scattermap"
           }
          ],
          "scattermapbox": [
           {
            "marker": {
             "colorbar": {
              "outlinewidth": 0,
              "ticks": ""
             }
            },
            "type": "scattermapbox"
           }
          ],
          "scatterpolar": [
           {
            "marker": {
             "colorbar": {
              "outlinewidth": 0,
              "ticks": ""
             }
            },
            "type": "scatterpolar"
           }
          ],
          "scatterpolargl": [
           {
            "marker": {
             "colorbar": {
              "outlinewidth": 0,
              "ticks": ""
             }
            },
            "type": "scatterpolargl"
           }
          ],
          "scatterternary": [
           {
            "marker": {
             "colorbar": {
              "outlinewidth": 0,
              "ticks": ""
             }
            },
            "type": "scatterternary"
           }
          ],
          "surface": [
           {
            "colorbar": {
             "outlinewidth": 0,
             "ticks": ""
            },
            "colorscale": [
             [
              0,
              "#0d0887"
             ],
             [
              0.1111111111111111,
              "#46039f"
             ],
             [
              0.2222222222222222,
              "#7201a8"
             ],
             [
              0.3333333333333333,
              "#9c179e"
             ],
             [
              0.4444444444444444,
              "#bd3786"
             ],
             [
              0.5555555555555556,
              "#d8576b"
             ],
             [
              0.6666666666666666,
              "#ed7953"
             ],
             [
              0.7777777777777778,
              "#fb9f3a"
             ],
             [
              0.8888888888888888,
              "#fdca26"
             ],
             [
              1,
              "#f0f921"
             ]
            ],
            "type": "surface"
           }
          ],
          "table": [
           {
            "cells": {
             "fill": {
              "color": "#EBF0F8"
             },
             "line": {
              "color": "white"
             }
            },
            "header": {
             "fill": {
              "color": "#C8D4E3"
             },
             "line": {
              "color": "white"
             }
            },
            "type": "table"
           }
          ]
         },
         "layout": {
          "annotationdefaults": {
           "arrowcolor": "#2a3f5f",
           "arrowhead": 0,
           "arrowwidth": 1
          },
          "autotypenumbers": "strict",
          "coloraxis": {
           "colorbar": {
            "outlinewidth": 0,
            "ticks": ""
           }
          },
          "colorscale": {
           "diverging": [
            [
             0,
             "#8e0152"
            ],
            [
             0.1,
             "#c51b7d"
            ],
            [
             0.2,
             "#de77ae"
            ],
            [
             0.3,
             "#f1b6da"
            ],
            [
             0.4,
             "#fde0ef"
            ],
            [
             0.5,
             "#f7f7f7"
            ],
            [
             0.6,
             "#e6f5d0"
            ],
            [
             0.7,
             "#b8e186"
            ],
            [
             0.8,
             "#7fbc41"
            ],
            [
             0.9,
             "#4d9221"
            ],
            [
             1,
             "#276419"
            ]
           ],
           "sequential": [
            [
             0,
             "#0d0887"
            ],
            [
             0.1111111111111111,
             "#46039f"
            ],
            [
             0.2222222222222222,
             "#7201a8"
            ],
            [
             0.3333333333333333,
             "#9c179e"
            ],
            [
             0.4444444444444444,
             "#bd3786"
            ],
            [
             0.5555555555555556,
             "#d8576b"
            ],
            [
             0.6666666666666666,
             "#ed7953"
            ],
            [
             0.7777777777777778,
             "#fb9f3a"
            ],
            [
             0.8888888888888888,
             "#fdca26"
            ],
            [
             1,
             "#f0f921"
            ]
           ],
           "sequentialminus": [
            [
             0,
             "#0d0887"
            ],
            [
             0.1111111111111111,
             "#46039f"
            ],
            [
             0.2222222222222222,
             "#7201a8"
            ],
            [
             0.3333333333333333,
             "#9c179e"
            ],
            [
             0.4444444444444444,
             "#bd3786"
            ],
            [
             0.5555555555555556,
             "#d8576b"
            ],
            [
             0.6666666666666666,
             "#ed7953"
            ],
            [
             0.7777777777777778,
             "#fb9f3a"
            ],
            [
             0.8888888888888888,
             "#fdca26"
            ],
            [
             1,
             "#f0f921"
            ]
           ]
          },
          "colorway": [
           "#636efa",
           "#EF553B",
           "#00cc96",
           "#ab63fa",
           "#FFA15A",
           "#19d3f3",
           "#FF6692",
           "#B6E880",
           "#FF97FF",
           "#FECB52"
          ],
          "font": {
           "color": "#2a3f5f"
          },
          "geo": {
           "bgcolor": "white",
           "lakecolor": "white",
           "landcolor": "#E5ECF6",
           "showlakes": true,
           "showland": true,
           "subunitcolor": "white"
          },
          "hoverlabel": {
           "align": "left"
          },
          "hovermode": "closest",
          "mapbox": {
           "style": "light"
          },
          "paper_bgcolor": "white",
          "plot_bgcolor": "#E5ECF6",
          "polar": {
           "angularaxis": {
            "gridcolor": "white",
            "linecolor": "white",
            "ticks": ""
           },
           "bgcolor": "#E5ECF6",
           "radialaxis": {
            "gridcolor": "white",
            "linecolor": "white",
            "ticks": ""
           }
          },
          "scene": {
           "xaxis": {
            "backgroundcolor": "#E5ECF6",
            "gridcolor": "white",
            "gridwidth": 2,
            "linecolor": "white",
            "showbackground": true,
            "ticks": "",
            "zerolinecolor": "white"
           },
           "yaxis": {
            "backgroundcolor": "#E5ECF6",
            "gridcolor": "white",
            "gridwidth": 2,
            "linecolor": "white",
            "showbackground": true,
            "ticks": "",
            "zerolinecolor": "white"
           },
           "zaxis": {
            "backgroundcolor": "#E5ECF6",
            "gridcolor": "white",
            "gridwidth": 2,
            "linecolor": "white",
            "showbackground": true,
            "ticks": "",
            "zerolinecolor": "white"
           }
          },
          "shapedefaults": {
           "line": {
            "color": "#2a3f5f"
           }
          },
          "ternary": {
           "aaxis": {
            "gridcolor": "white",
            "linecolor": "white",
            "ticks": ""
           },
           "baxis": {
            "gridcolor": "white",
            "linecolor": "white",
            "ticks": ""
           },
           "bgcolor": "#E5ECF6",
           "caxis": {
            "gridcolor": "white",
            "linecolor": "white",
            "ticks": ""
           }
          },
          "title": {
           "x": 0.05
          },
          "xaxis": {
           "automargin": true,
           "gridcolor": "white",
           "linecolor": "white",
           "ticks": "",
           "title": {
            "standoff": 15
           },
           "zerolinecolor": "white",
           "zerolinewidth": 2
          },
          "yaxis": {
           "automargin": true,
           "gridcolor": "white",
           "linecolor": "white",
           "ticks": "",
           "title": {
            "standoff": 15
           },
           "zerolinecolor": "white",
           "zerolinewidth": 2
          }
         }
        },
        "title": {
         "text": "2D Chroma Vector Store Visualization"
        },
        "width": 800
       }
      }
     },
     "metadata": {},
     "output_type": "display_data"
    }
   ],
   "source": [
    "# We humans find it easier to visalize things in 2D!\n",
    "# Reduce the dimensionality of the vectors to 2D using t-SNE\n",
    "# (t-distributed stochastic neighbor embedding)\n",
    "\n",
    "tsne = TSNE(n_components=2, random_state=42)\n",
    "reduced_vectors = tsne.fit_transform(vectors)\n",
    "\n",
    "# Create the 2D scatter plot\n",
    "fig = go.Figure(data=[go.Scatter(\n",
    "    x=reduced_vectors[:, 0],\n",
    "    y=reduced_vectors[:, 1],\n",
    "    mode='markers',\n",
    "    marker=dict(size=5, color=colors, opacity=0.8),\n",
    "    text=[f\"Type: {t}<br>Text: {d[:100]}...\" for t, d in zip(doc_types, documents)],\n",
    "    hoverinfo='text'\n",
    ")])\n",
    "\n",
    "fig.update_layout(\n",
    "    title='2D Chroma Vector Store Visualization',\n",
    "    scene=dict(xaxis_title='x',yaxis_title='y'),\n",
    "    width=800,\n",
    "    height=600,\n",
    "    margin=dict(r=20, b=10, l=10, t=40)\n",
    ")\n",
    "\n",
    "fig.show()"
   ]
  },
  {
   "cell_type": "code",
   "execution_count": 14,
   "id": "e1418e88-acd5-460a-bf2b-4e6efc88e3dd",
   "metadata": {},
   "outputs": [
    {
     "data": {
      "application/vnd.plotly.v1+json": {
       "config": {
        "plotlyServerURL": "https://plot.ly"
       },
       "data": [
        {
         "hoverinfo": "text",
         "marker": {
          "color": [
           "orange",
           "orange",
           "orange",
           "red",
           "red",
           "red",
           "red",
           "red",
           "red",
           "red",
           "red",
           "red",
           "red",
           "red",
           "red",
           "red",
           "red",
           "red",
           "red",
           "red",
           "red",
           "red",
           "red",
           "red",
           "red",
           "red",
           "red",
           "red",
           "red",
           "red",
           "red",
           "red",
           "red",
           "red",
           "red",
           "red",
           "red",
           "red",
           "red",
           "red",
           "red",
           "red",
           "red",
           "red",
           "red",
           "red",
           "red",
           "red",
           "red",
           "red",
           "red",
           "red",
           "red",
           "red",
           "red",
           "green",
           "green",
           "green",
           "green",
           "green",
           "green",
           "green",
           "green",
           "green",
           "green",
           "green",
           "green",
           "green",
           "green",
           "green",
           "green",
           "green",
           "green",
           "green",
           "green",
           "green",
           "green",
           "green",
           "green",
           "green",
           "green",
           "green",
           "green",
           "green",
           "green",
           "green",
           "green",
           "green",
           "green",
           "green",
           "green",
           "green",
           "green",
           "green",
           "green",
           "green",
           "green",
           "green",
           "green",
           "green",
           "green",
           "green",
           "blue",
           "blue",
           "blue",
           "blue",
           "blue",
           "blue",
           "blue",
           "blue",
           "blue",
           "blue",
           "blue",
           "blue",
           "blue",
           "blue",
           "blue",
           "blue",
           "blue",
           "blue",
           "blue",
           "blue",
           "blue"
          ],
          "opacity": 0.8,
          "size": 5
         },
         "mode": "markers",
         "text": [
          "Type: company<br>Text: # About Insurellm\n\nInsurellm was founded by Avery Lancaster in 2015 as an insurance tech startup des...",
          "Type: company<br>Text: # Careers at Insurellm\n\nInsurellm is hiring! We are looking for talented software engineers, data sc...",
          "Type: company<br>Text: # Overview of Insurellm\n\nInsurellm is an innovative insurance tech firm with 200 employees across th...",
          "Type: contracts<br>Text: # Contract with Apex Reinsurance for Rellm: AI-Powered Enterprise Reinsurance Solution\n\n## Terms\n\n1....",
          "Type: contracts<br>Text: ## Renewal\n\n1. **Automatic Renewal**: This Agreement will automatically renew for successive one-yea...",
          "Type: contracts<br>Text: 2. **Seamless Integrations**: The architecture of Rellm allows for easy integration with existing sy...",
          "Type: contracts<br>Text: 1. **Technical Support**: Provider shall offer dedicated technical support to the Client via phone, ...",
          "Type: contracts<br>Text: **Insurellm, Inc.**  \n_____________________________  \nAuthorized Signature   \nDate: ________________...",
          "Type: contracts<br>Text: # Contract with Belvedere Insurance for Markellm\n\n## Terms\nThis Contract (\"Agreement\") is made and e...",
          "Type: contracts<br>Text: ## Renewal\n1. **Renewal Terms**: This Agreement may be renewed for additional one-year terms upon mu...",
          "Type: contracts<br>Text: ## Features\n1. **AI-Powered Matching**: Belvedere Insurance will benefit from Markellm's AI-powered ...",
          "Type: contracts<br>Text: ## Support\n1. **Technical Support**: Technical support will be available from 9 AM to 7 PM EST, Mond...",
          "Type: contracts<br>Text: **Belvedere Insurance**  \nSignature: ______________________  \nName: [Authorized Signatory]  \nTitle: ...",
          "Type: contracts<br>Text: # Contract with BrightWay Solutions for Markellm\n\n**Contract Date:** October 5, 2023  \n**Contract ID...",
          "Type: contracts<br>Text: 3. **Service Level Agreement (SLA):**  \n   Insurellm commits to a 99.9% uptime for the platform with...",
          "Type: contracts<br>Text: 2. **Real-Time Quote Availability:**  \n   Consumers sourced via BrightWay Solutions will receive rea...",
          "Type: contracts<br>Text: 3. **Training and Onboarding:**  \n   Insurellm agrees to provide one free training session on how to...",
          "Type: contracts<br>Text: # Contract with EverGuard Insurance for Rellm: AI-Powered Enterprise Reinsurance Solution\n\n**Contrac...",
          "Type: contracts<br>Text: 4. **Usage Rights**: EverGuard Insurance is granted a non-exclusive, non-transferable license to acc...",
          "Type: contracts<br>Text: 1. **Core Functionality**: Rellm provides EverGuard Insurance with advanced AI-driven analytics, sea...",
          "Type: contracts<br>Text: 1. **Customer Support**: Insurellm will provide EverGuard Insurance with 24/7 customer support, incl...",
          "Type: contracts<br>Text: ---\n\n**Signatures**  \n**For Insurellm**: __________________________  \n**Name**: John Smith  \n**Title...",
          "Type: contracts<br>Text: # Contract with GreenField Holdings for Markellm\n\n**Effective Date:** November 15, 2023  \n**Contract...",
          "Type: contracts<br>Text: ## Renewal\n1. **Automatic Renewal**: This contract will automatically renew for sequential one-year ...",
          "Type: contracts<br>Text: ## Features\n1. **AI-Powered Matching**: Access to advanced algorithms that connect GreenField Holdin...",
          "Type: contracts<br>Text: ## Support\n1. **Customer Support Access**: The Client will have access to dedicated support through ...",
          "Type: contracts<br>Text: **Signatures:**  \n_________________________                           _________________________  \n**...",
          "Type: contracts<br>Text: # Contract with Greenstone Insurance for Homellm\n\n---\n\n## Terms\n\n1. **Parties**: This Contract (\"Agr...",
          "Type: contracts<br>Text: 4. **Payment Terms**: \n   - The Customer shall pay an amount of $10,000 per month for the Standard T...",
          "Type: contracts<br>Text: ---\n\n## Features\n\n- **AI-Powered Risk Assessment**: Customer will have access to enhanced risk evalu...",
          "Type: contracts<br>Text: - **Customer Portal**: A dedicated portal will be provided, allowing the Customer's clients to manag...",
          "Type: contracts<br>Text: ______________________________  \n[Name], [Title]  \nDate: ______________________\n\n**For Greenstone In...",
          "Type: contracts<br>Text: # Contract with GreenValley Insurance for Homellm\n\n**Contract Date:** October 6, 2023  \n**Contract N...",
          "Type: contracts<br>Text: 4. **Confidentiality:** Both parties agree to maintain the confidentiality of proprietary informatio...",
          "Type: contracts<br>Text: 1. **AI-Powered Risk Assessment:** Access to advanced AI algorithms for real-time risk evaluations.\n...",
          "Type: contracts<br>Text: 3. **Regular Updates:** Insurellm will offer ongoing updates and enhancements to the Homellm platfor...",
          "Type: contracts<br>Text: # Contract with Pinnacle Insurance Co. for Homellm\n\n## Terms\nThis contract (\"Contract\") is entered i...",
          "Type: contracts<br>Text: ## Renewal\n1. **Renewal Terms**: At the end of the initial term, this Contract shall automatically r...",
          "Type: contracts<br>Text: ## Features\n1. **AI-Powered Risk Assessment**: Utilized for tailored underwriting decisions specific...",
          "Type: contracts<br>Text: ## Support\n1. **Technical Support**: Insurellm shall provide 24/7 technical support via an email and...",
          "Type: contracts<br>Text: # Contract with Roadway Insurance Inc. for Carllm\n\n---\n\n## Terms\n\n1. **Agreement Effective Date**: T...",
          "Type: contracts<br>Text: ---\n\n## Renewal\n\n1. **Automatic Renewal**: This agreement will automatically renew for an additional...",
          "Type: contracts<br>Text: ---\n\n## Features\n\n1. **Access to Core Features**: Roadway Insurance Inc. will have access to all Pro...",
          "Type: contracts<br>Text: ---\n\n## Support\n\n1. **Technical Support**: Roadway Insurance Inc. will receive priority technical su...",
          "Type: contracts<br>Text: # Contract with Stellar Insurance Co. for Rellm\n\n## Terms\nThis contract is made between **Insurellm*...",
          "Type: contracts<br>Text: ### Termination\nEither party may terminate this agreement with a **30-day written notice**. In the e...",
          "Type: contracts<br>Text: ## Features\nStellar Insurance Co. will receive access to the following features of the Rellm product...",
          "Type: contracts<br>Text: ## Support\nInsurellm provides Stellar Insurance Co. with the following support services:\n\n- **24/7 T...",
          "Type: contracts<br>Text: # Contract with TechDrive Insurance for Carllm\n\n**Contract Date:** October 1, 2024  \n**Contract Dura...",
          "Type: contracts<br>Text: ## Renewal\n\n1. **Automatic Renewal**: This contract shall automatically renew for additional one-yea...",
          "Type: contracts<br>Text: ## Support\n\n1. **Customer Support**: Insurellm will provide 24/7 customer support to TechDrive Insur...",
          "Type: contracts<br>Text: **TechDrive Insurance Representative:**  \nName: Sarah Johnson  \nTitle: Operations Director  \nDate: _...",
          "Type: contracts<br>Text: # Contract with Velocity Auto Solutions for Carllm\n\n**Contract Date:** October 1, 2023  \n**Contract ...",
          "Type: contracts<br>Text: ## Renewal\n\n1. **Automatic Renewal**: This contract will automatically renew for successive 12-month...",
          "Type: contracts<br>Text: ## Support\n\n1. **Customer Support**: Velocity Auto Solutions will have access to Insurellm’s custome...",
          "Type: employees<br>Text: # HR Record\n\n# Alex Chen\n\n## Summary\n- **Date of Birth:** March 15, 1990  \n- **Job Title:** Backend ...",
          "Type: employees<br>Text: ## Annual Performance History\n- **2020:**  \n  - Completed onboarding successfully.  \n  - Met expecta...",
          "Type: employees<br>Text: ## Compensation History\n- **2020:** Base Salary: $80,000  \n- **2021:** Base Salary Increase to $90,0...",
          "Type: employees<br>Text: Alex Chen continues to be a vital asset at Insurellm, contributing significantly to innovative backe...",
          "Type: employees<br>Text: # HR Record\n\n# Alex Harper\n\n## Summary\n- **Date of Birth**: March 15, 1993  \n- **Job Title**: Sales ...",
          "Type: employees<br>Text: ## Annual Performance History  \n- **2021**:  \n  - **Performance Rating**: 4.5/5  \n  - **Key Achievem...",
          "Type: employees<br>Text: - **2022**:  \n  - **Base Salary**: $65,000 (Promotion to Senior SDR)  \n  - **Bonus**: $13,000 (20% o...",
          "Type: employees<br>Text: # HR Record\n\n# Alex Thomson\n\n## Summary\n- **Date of Birth:** March 15, 1995  \n- **Job Title:** Sales...",
          "Type: employees<br>Text: ## Annual Performance History  \n- **2022** - Rated as \"Exceeds Expectations.\" Alex Thomson achieved ...",
          "Type: employees<br>Text: ## Other HR Notes\n- Alex Thomson is an active member of the Diversity and Inclusion committee at Ins...",
          "Type: employees<br>Text: # Avery Lancaster\n\n## Summary\n- **Date of Birth**: March 15, 1985  \n- **Job Title**: Co-Founder & Ch...",
          "Type: employees<br>Text: - **2010 - 2013**: Business Analyst at Edge Analytics  \n  Prior to joining Innovate, Avery worked as...",
          "Type: employees<br>Text: - **2018**: **Exceeds Expectations**  \n  Under Avery’s pivoted vision, Insurellm launched two new su...",
          "Type: employees<br>Text: - **2022**: **Satisfactory**  \n  Avery focused on rebuilding team dynamics and addressing employee c...",
          "Type: employees<br>Text: ## Compensation History\n- **2015**: $150,000 base salary + Significant equity stake  \n- **2016**: $1...",
          "Type: employees<br>Text: ## Other HR Notes\n- **Professional Development**: Avery has actively participated in leadership trai...",
          "Type: employees<br>Text: # HR Record\n\n# Emily Carter\n\n## Summary\n- **Date of Birth:** August 12, 1990  \n- **Job Title:** Acco...",
          "Type: employees<br>Text: - **2017-2019:** Marketing Intern  \n  - Assisted with market research and campaign development for s...",
          "Type: employees<br>Text: ## Compensation History\n| Year | Base Salary | Bonus         | Total Compensation |\n|------|--------...",
          "Type: employees<br>Text: Emily Carter exemplifies the kind of talent that drives Insurellm's success and is an invaluable ass...",
          "Type: employees<br>Text: # HR Record\n\n# Emily Tran\n\n## Summary\n- **Date of Birth:** March 18, 1991  \n- **Job Title:** Digital...",
          "Type: employees<br>Text: - **January 2017 - May 2018**: Marketing Intern  \n  - Supported the Marketing team by collaborating ...",
          "Type: employees<br>Text: - **2021**:  \n  - Performance Rating: Meets Expectations  \n  - Key Achievements: Contributed to the ...",
          "Type: employees<br>Text: - **Professional Development Goals**:  \n  - Emily Tran aims to become a Marketing Manager within the...",
          "Type: employees<br>Text: # HR Record\n\n# Jordan Blake\n\n## Summary\n- **Date of Birth:** March 15, 1993  \n- **Job Title:** Sales...",
          "Type: employees<br>Text: ## Annual Performance History\n- **2021:** First year at Insurellm; achieved 90% of monthly targets. ...",
          "Type: employees<br>Text: ## Other HR Notes\n- Jordan has shown an interest in continuing education, actively participating in ...",
          "Type: employees<br>Text: # HR Record\n\n# Jordan K. Bishop\n\n## Summary\n- **Date of Birth:** March 15, 1990\n- **Job Title:** Fro...",
          "Type: employees<br>Text: ## Annual Performance History\n- **2019:** Exceeds Expectations - Continuously delivered high-quality...",
          "Type: employees<br>Text: ## Compensation History\n- **June 2018:** Starting Salary - $85,000\n- **June 2019:** Salary Increase ...",
          "Type: employees<br>Text: ## Other HR Notes\n- Jordan K. Bishop has been an integral part of club initiatives, including the In...",
          "Type: employees<br>Text: # HR Record\n\n# Maxine Thompson\n\n## Summary\n- **Date of Birth:** January 15, 1991  \n- **Job Title:** ...",
          "Type: employees<br>Text: ## Insurellm Career Progression\n- **January 2017 - October 2018**: **Junior Data Engineer**  \n  * Ma...",
          "Type: employees<br>Text: ## Annual Performance History\n- **2017**: *Meets Expectations*  \n  Maxine showed potential in her ro...",
          "Type: employees<br>Text: - **2021**: *Exceeds Expectations*  \n  Maxine spearheaded the transition to a new data warehousing s...",
          "Type: employees<br>Text: ## Compensation History\n- **2017**: $70,000 (Junior Data Engineer)  \n- **2018**: $75,000 (Junior Dat...",
          "Type: employees<br>Text: # HR Record\n\n# Oliver Spencer\n\n## Summary\n- **Date of Birth**: May 14, 1990  \n- **Job Title**: Backe...",
          "Type: employees<br>Text: ## Annual Performance History\n- **2018**: **3/5** - Adaptable team player but still learning to take...",
          "Type: employees<br>Text: ## Compensation History\n- **March 2018**: Initial salary of $80,000.\n- **July 2019**: Salary increas...",
          "Type: employees<br>Text: # Samantha Greene\n\n## Summary\n- **Date of Birth:** October 14, 1990\n- **Job Title:** HR Generalist\n-...",
          "Type: employees<br>Text: ## Annual Performance History\n- **2020:** Exceeds Expectations  \n  Samantha Greene demonstrated exce...",
          "Type: employees<br>Text: ## Compensation History\n- **2020:** Base Salary - $55,000  \n  The entry-level salary matched industr...",
          "Type: employees<br>Text: - **2023:** Base Salary - $70,000  \n  Recognized for substantial improvement in employee relations m...",
          "Type: employees<br>Text: # HR Record\n\n# Samuel Trenton\n\n## Summary\n- **Date of Birth:** April 12, 1989  \n- **Job Title:** Sen...",
          "Type: employees<br>Text: ## Annual Performance History\n- **2023:** Rating: 4.5/5  \n  *Samuel exceeded expectations, successfu...",
          "Type: employees<br>Text: ## Compensation History\n- **2023:** Base Salary: $115,000 + Bonus: $15,000  \n  *Annual bonus based o...",
          "Type: employees<br>Text: - **Engagement in Company Culture:** Regularly participates in team-building events and contributes ...",
          "Type: products<br>Text: # Product Summary\n\n# Carllm\n\n## Summary\n\nCarllm is an innovative auto insurance product developed by...",
          "Type: products<br>Text: - **Instant Quoting**: With Carllm, insurance companies can offer near-instant quotes to customers, ...",
          "Type: products<br>Text: - **Mobile Integration**: Carllm is designed to work seamlessly with mobile applications, providing ...",
          "Type: products<br>Text: - **Professional Tier**: $2,500/month\n  - For medium-sized companies.\n  - All Basic Tier features pl...",
          "Type: products<br>Text: ### Q2 2025: Customer Experience Improvements\n- Launch of a new **mobile app** for end-users.\n- Intr...",
          "Type: products<br>Text: # Product Summary\n\n# Homellm\n\n## Summary\nHomellm is an innovative home insurance product developed b...",
          "Type: products<br>Text: ### 2. Dynamic Pricing Model\nWith Homellm's innovative dynamic pricing model, insurance providers ca...",
          "Type: products<br>Text: ### 5. Multi-Channel Integration\nHomellm seamlessly integrates into existing insurance platforms, pr...",
          "Type: products<br>Text: - **Basic Tier:** Starting at $5,000/month for small insurers with basic integration features.\n- **S...",
          "Type: products<br>Text: All tiers include a comprehensive training program and ongoing updates to ensure optimal performance...",
          "Type: products<br>Text: With Homellm, Insurellm is committed to transforming the landscape of home insurance, ensuring both ...",
          "Type: products<br>Text: # Product Summary\n\n# Markellm\n\n## Summary\n\nMarkellm is an innovative two-sided marketplace designed ...",
          "Type: products<br>Text: - **User-Friendly Interface**: Designed with user experience in mind, Markellm features an intuitive...",
          "Type: products<br>Text: - **Customer Support**: Our dedicated support team is always available to assist both consumers and ...",
          "Type: products<br>Text: ### For Insurance Companies:\n- **Basic Listing Fee**: $199/month for a featured listing on the platf...",
          "Type: products<br>Text: ### Q3 2025\n- Initiate a comprehensive marketing campaign targeting both consumers and insurers to i...",
          "Type: products<br>Text: # Product Summary\n\n# Rellm: AI-Powered Enterprise Reinsurance Solution\n\n## Summary\n\nRellm is an inno...",
          "Type: products<br>Text: ### Seamless Integrations\nRellm's architecture is designed for effortless integration with existing ...",
          "Type: products<br>Text: ### Regulatory Compliance Tools\nRellm includes built-in compliance tracking features to help organiz...",
          "Type: products<br>Text: Join the growing number of organizations leveraging Rellm to enhance their reinsurance processes whi...",
          "Type: products<br>Text: Experience the future of reinsurance with Rellm, where innovation meets reliability. Let Insurellm h..."
         ],
         "type": "scatter3d",
         "x": {
          "bdata": "vogzQIW/lEHy9rfAdhwDQuii1MFx0rBB3cP2QUXoYEKTzW/By4/DwkOQasKMg5xB2t4dQiTCKz+Trb/C0einwo9lZEEeciXCO1QHwLEEMELzlixCKfd5QgfkyED1yJzCht7IwoWTLMIBpJFCFeMOwk39XcKAv07CevqWwtRzbkIkOJvCJBSJwn4Sk8IoDb/CSJ9NQGJsucKnkzzC+iyEQVuCscLBQnbCc8dfwdv6wsEJoyTCwsPOwWvt5r8+19bBShI9wjFQMcKir3HBpXd7wRqmhMKcMEHCvLzEwefq+EG5nZNCZpnCQtdVrkG/LkJCHxF4Qg1zokL2w3fBQ+yaQt7gQMELvr9BZprXQAJCNEGOvSrBKxJpQkLojUEt7hVChH5BQrX9yEHIf6NBA26IQZ00tEE5vUpCWgwawIKhT0HaEydCiB1oQpwqgkKCw0ZCH0ztQWVhXkJkq49CGt61QUvrMkLrBbJBjszgQVmPo0I36XpCEAOpQXupxEJViY5CxQWWQuQiM0EiG8JC47tYwqANSELMmcJCNFuJwn56rsIeHqjCErB/wjfxXsLsK8vBEEJNwklpJcL+VEXC22mYvkV6iME54udCNImQwiW5YcKgVQ7CSKpswktKS8F4tkpBX9YNwYkjCcIXnFTB",
          "dtype": "f4"
         },
         "y": {
          "bdata": "dBEiQiFXfEJYuzBC4dmCwm+Sq0Fgr4FCQHxBQaq0QEL5rQDC9AADwqZgMELUZg5B85HZQSbqq8HEpBdChsNOQrJsiMD7aolCcCjlQW3GCcJDlDHB21bJQOWCScKVrY3BxXaOQQAHkEIeRwpC4rCUwqgzAsIT8QhCg76RQpLYNkI3PxtCxPmLQYtzlUGo/XdBFyccwsQpBsLXJ75Au4dDwSJ0zb7gufrBmnCTQix1iMF521lCaX0bQunRcUIS6FHC8cTtQLfvu0DR8ZVA3DVnQQLtwsACzczBcZWDwWKtrkKDisvB/F2TwFa2QULjBIHCapfWQQl5SUGrNR/CXpB3QD1ShMEtfg/C7QvhwczvT8KlGk3C2058wcsUjMHwW7PCYxSbwo01HMDvOKtBd1y5woa7nsKUCTnBBm+pwr04r8JkTr1BCBXjQZgdLMHliKbB+1Y6QCcgAEHycKzCTKszwiaLOMLtmSzCsW6jwQ0ICcLC+DXC/DuYQXwXWsK8F0XCQXD7wf7QmMJmsQjBkgTEQasUtkChrNFBTGRewiVVH8KYwSrCjqmAwkku5cEJJLpBQaCRQcK6PEJu1qtC1MMzQgICh8BLjpw/hyOhQT4hH0IbLVdCJjvGwBeYDEJfWU1CTHCHQu3cOMGQDYpA",
          "dtype": "f4"
         },
         "z": {
          "bdata": "7qgcQpvvNUK+7GtCUR3WQkibF8K3P0bCeS+fwmI8yME2pF7CpGNZwg6HS0HbwFzCBhEOwivsEMJ2wARBkufzQYm94MEP3E3CI10Iwg29b8Le4z/CCk1dwvZNNsKS6C7CeqqPwqyIVUL/UR/Cf/f3wGHThcIHJYvC+y7LwQJrY8KPpejBLXsRwrrgjcJVme/Bw9anwqnV+MF9cX7C2xaLwmp7O0GGW8jBzFXfQEQyVEHQecfBc4E6wVh8u8FVggLCBixyQXvvRsEHHgfAKuajQVZWXz7XHgDATbqJweYwEMEm8dNBJiEhwkvvLUEuAqnBLB2BQjbSoULUBo5C5lZDQnSUnEJzAs7AF4flQWt4sUFP55xBry/HQn2nqkC3gShBJmVlQqOBVELCCz5B0PnkQY4ARkKKS2dC3cU4Qv9YPMKN8zpCnZx6QdoxRMGauKlBBv7QQuzq1T+W121BvjeVQoszFUKNHUNCMaOnQoP9mcFQ61tBrDabQt7XBUK/2TxCDXCSQsaVGMFuqYTACjm2QkJIpULe75FAAlpUQQ9oI0GhSxVCy/L0wXz+JkJ5b8bCRqK4wnFHvcKSV05BOxbXwhVOycJLSgpC0/I1QoMFK0I0LhFCL4F9QuoZhMISV4nCEpVTwjDaPkLlnI7C",
          "dtype": "f4"
         }
        }
       ],
       "layout": {
        "height": 700,
        "margin": {
         "b": 10,
         "l": 10,
         "r": 20,
         "t": 40
        },
        "scene": {
         "xaxis": {
          "title": {
           "text": "x"
          }
         },
         "yaxis": {
          "title": {
           "text": "y"
          }
         },
         "zaxis": {
          "title": {
           "text": "z"
          }
         }
        },
        "template": {
         "data": {
          "bar": [
           {
            "error_x": {
             "color": "#2a3f5f"
            },
            "error_y": {
             "color": "#2a3f5f"
            },
            "marker": {
             "line": {
              "color": "#E5ECF6",
              "width": 0.5
             },
             "pattern": {
              "fillmode": "overlay",
              "size": 10,
              "solidity": 0.2
             }
            },
            "type": "bar"
           }
          ],
          "barpolar": [
           {
            "marker": {
             "line": {
              "color": "#E5ECF6",
              "width": 0.5
             },
             "pattern": {
              "fillmode": "overlay",
              "size": 10,
              "solidity": 0.2
             }
            },
            "type": "barpolar"
           }
          ],
          "carpet": [
           {
            "aaxis": {
             "endlinecolor": "#2a3f5f",
             "gridcolor": "white",
             "linecolor": "white",
             "minorgridcolor": "white",
             "startlinecolor": "#2a3f5f"
            },
            "baxis": {
             "endlinecolor": "#2a3f5f",
             "gridcolor": "white",
             "linecolor": "white",
             "minorgridcolor": "white",
             "startlinecolor": "#2a3f5f"
            },
            "type": "carpet"
           }
          ],
          "choropleth": [
           {
            "colorbar": {
             "outlinewidth": 0,
             "ticks": ""
            },
            "type": "choropleth"
           }
          ],
          "contour": [
           {
            "colorbar": {
             "outlinewidth": 0,
             "ticks": ""
            },
            "colorscale": [
             [
              0,
              "#0d0887"
             ],
             [
              0.1111111111111111,
              "#46039f"
             ],
             [
              0.2222222222222222,
              "#7201a8"
             ],
             [
              0.3333333333333333,
              "#9c179e"
             ],
             [
              0.4444444444444444,
              "#bd3786"
             ],
             [
              0.5555555555555556,
              "#d8576b"
             ],
             [
              0.6666666666666666,
              "#ed7953"
             ],
             [
              0.7777777777777778,
              "#fb9f3a"
             ],
             [
              0.8888888888888888,
              "#fdca26"
             ],
             [
              1,
              "#f0f921"
             ]
            ],
            "type": "contour"
           }
          ],
          "contourcarpet": [
           {
            "colorbar": {
             "outlinewidth": 0,
             "ticks": ""
            },
            "type": "contourcarpet"
           }
          ],
          "heatmap": [
           {
            "colorbar": {
             "outlinewidth": 0,
             "ticks": ""
            },
            "colorscale": [
             [
              0,
              "#0d0887"
             ],
             [
              0.1111111111111111,
              "#46039f"
             ],
             [
              0.2222222222222222,
              "#7201a8"
             ],
             [
              0.3333333333333333,
              "#9c179e"
             ],
             [
              0.4444444444444444,
              "#bd3786"
             ],
             [
              0.5555555555555556,
              "#d8576b"
             ],
             [
              0.6666666666666666,
              "#ed7953"
             ],
             [
              0.7777777777777778,
              "#fb9f3a"
             ],
             [
              0.8888888888888888,
              "#fdca26"
             ],
             [
              1,
              "#f0f921"
             ]
            ],
            "type": "heatmap"
           }
          ],
          "histogram": [
           {
            "marker": {
             "pattern": {
              "fillmode": "overlay",
              "size": 10,
              "solidity": 0.2
             }
            },
            "type": "histogram"
           }
          ],
          "histogram2d": [
           {
            "colorbar": {
             "outlinewidth": 0,
             "ticks": ""
            },
            "colorscale": [
             [
              0,
              "#0d0887"
             ],
             [
              0.1111111111111111,
              "#46039f"
             ],
             [
              0.2222222222222222,
              "#7201a8"
             ],
             [
              0.3333333333333333,
              "#9c179e"
             ],
             [
              0.4444444444444444,
              "#bd3786"
             ],
             [
              0.5555555555555556,
              "#d8576b"
             ],
             [
              0.6666666666666666,
              "#ed7953"
             ],
             [
              0.7777777777777778,
              "#fb9f3a"
             ],
             [
              0.8888888888888888,
              "#fdca26"
             ],
             [
              1,
              "#f0f921"
             ]
            ],
            "type": "histogram2d"
           }
          ],
          "histogram2dcontour": [
           {
            "colorbar": {
             "outlinewidth": 0,
             "ticks": ""
            },
            "colorscale": [
             [
              0,
              "#0d0887"
             ],
             [
              0.1111111111111111,
              "#46039f"
             ],
             [
              0.2222222222222222,
              "#7201a8"
             ],
             [
              0.3333333333333333,
              "#9c179e"
             ],
             [
              0.4444444444444444,
              "#bd3786"
             ],
             [
              0.5555555555555556,
              "#d8576b"
             ],
             [
              0.6666666666666666,
              "#ed7953"
             ],
             [
              0.7777777777777778,
              "#fb9f3a"
             ],
             [
              0.8888888888888888,
              "#fdca26"
             ],
             [
              1,
              "#f0f921"
             ]
            ],
            "type": "histogram2dcontour"
           }
          ],
          "mesh3d": [
           {
            "colorbar": {
             "outlinewidth": 0,
             "ticks": ""
            },
            "type": "mesh3d"
           }
          ],
          "parcoords": [
           {
            "line": {
             "colorbar": {
              "outlinewidth": 0,
              "ticks": ""
             }
            },
            "type": "parcoords"
           }
          ],
          "pie": [
           {
            "automargin": true,
            "type": "pie"
           }
          ],
          "scatter": [
           {
            "fillpattern": {
             "fillmode": "overlay",
             "size": 10,
             "solidity": 0.2
            },
            "type": "scatter"
           }
          ],
          "scatter3d": [
           {
            "line": {
             "colorbar": {
              "outlinewidth": 0,
              "ticks": ""
             }
            },
            "marker": {
             "colorbar": {
              "outlinewidth": 0,
              "ticks": ""
             }
            },
            "type": "scatter3d"
           }
          ],
          "scattercarpet": [
           {
            "marker": {
             "colorbar": {
              "outlinewidth": 0,
              "ticks": ""
             }
            },
            "type": "scattercarpet"
           }
          ],
          "scattergeo": [
           {
            "marker": {
             "colorbar": {
              "outlinewidth": 0,
              "ticks": ""
             }
            },
            "type": "scattergeo"
           }
          ],
          "scattergl": [
           {
            "marker": {
             "colorbar": {
              "outlinewidth": 0,
              "ticks": ""
             }
            },
            "type": "scattergl"
           }
          ],
          "scattermap": [
           {
            "marker": {
             "colorbar": {
              "outlinewidth": 0,
              "ticks": ""
             }
            },
            "type": "scattermap"
           }
          ],
          "scattermapbox": [
           {
            "marker": {
             "colorbar": {
              "outlinewidth": 0,
              "ticks": ""
             }
            },
            "type": "scattermapbox"
           }
          ],
          "scatterpolar": [
           {
            "marker": {
             "colorbar": {
              "outlinewidth": 0,
              "ticks": ""
             }
            },
            "type": "scatterpolar"
           }
          ],
          "scatterpolargl": [
           {
            "marker": {
             "colorbar": {
              "outlinewidth": 0,
              "ticks": ""
             }
            },
            "type": "scatterpolargl"
           }
          ],
          "scatterternary": [
           {
            "marker": {
             "colorbar": {
              "outlinewidth": 0,
              "ticks": ""
             }
            },
            "type": "scatterternary"
           }
          ],
          "surface": [
           {
            "colorbar": {
             "outlinewidth": 0,
             "ticks": ""
            },
            "colorscale": [
             [
              0,
              "#0d0887"
             ],
             [
              0.1111111111111111,
              "#46039f"
             ],
             [
              0.2222222222222222,
              "#7201a8"
             ],
             [
              0.3333333333333333,
              "#9c179e"
             ],
             [
              0.4444444444444444,
              "#bd3786"
             ],
             [
              0.5555555555555556,
              "#d8576b"
             ],
             [
              0.6666666666666666,
              "#ed7953"
             ],
             [
              0.7777777777777778,
              "#fb9f3a"
             ],
             [
              0.8888888888888888,
              "#fdca26"
             ],
             [
              1,
              "#f0f921"
             ]
            ],
            "type": "surface"
           }
          ],
          "table": [
           {
            "cells": {
             "fill": {
              "color": "#EBF0F8"
             },
             "line": {
              "color": "white"
             }
            },
            "header": {
             "fill": {
              "color": "#C8D4E3"
             },
             "line": {
              "color": "white"
             }
            },
            "type": "table"
           }
          ]
         },
         "layout": {
          "annotationdefaults": {
           "arrowcolor": "#2a3f5f",
           "arrowhead": 0,
           "arrowwidth": 1
          },
          "autotypenumbers": "strict",
          "coloraxis": {
           "colorbar": {
            "outlinewidth": 0,
            "ticks": ""
           }
          },
          "colorscale": {
           "diverging": [
            [
             0,
             "#8e0152"
            ],
            [
             0.1,
             "#c51b7d"
            ],
            [
             0.2,
             "#de77ae"
            ],
            [
             0.3,
             "#f1b6da"
            ],
            [
             0.4,
             "#fde0ef"
            ],
            [
             0.5,
             "#f7f7f7"
            ],
            [
             0.6,
             "#e6f5d0"
            ],
            [
             0.7,
             "#b8e186"
            ],
            [
             0.8,
             "#7fbc41"
            ],
            [
             0.9,
             "#4d9221"
            ],
            [
             1,
             "#276419"
            ]
           ],
           "sequential": [
            [
             0,
             "#0d0887"
            ],
            [
             0.1111111111111111,
             "#46039f"
            ],
            [
             0.2222222222222222,
             "#7201a8"
            ],
            [
             0.3333333333333333,
             "#9c179e"
            ],
            [
             0.4444444444444444,
             "#bd3786"
            ],
            [
             0.5555555555555556,
             "#d8576b"
            ],
            [
             0.6666666666666666,
             "#ed7953"
            ],
            [
             0.7777777777777778,
             "#fb9f3a"
            ],
            [
             0.8888888888888888,
             "#fdca26"
            ],
            [
             1,
             "#f0f921"
            ]
           ],
           "sequentialminus": [
            [
             0,
             "#0d0887"
            ],
            [
             0.1111111111111111,
             "#46039f"
            ],
            [
             0.2222222222222222,
             "#7201a8"
            ],
            [
             0.3333333333333333,
             "#9c179e"
            ],
            [
             0.4444444444444444,
             "#bd3786"
            ],
            [
             0.5555555555555556,
             "#d8576b"
            ],
            [
             0.6666666666666666,
             "#ed7953"
            ],
            [
             0.7777777777777778,
             "#fb9f3a"
            ],
            [
             0.8888888888888888,
             "#fdca26"
            ],
            [
             1,
             "#f0f921"
            ]
           ]
          },
          "colorway": [
           "#636efa",
           "#EF553B",
           "#00cc96",
           "#ab63fa",
           "#FFA15A",
           "#19d3f3",
           "#FF6692",
           "#B6E880",
           "#FF97FF",
           "#FECB52"
          ],
          "font": {
           "color": "#2a3f5f"
          },
          "geo": {
           "bgcolor": "white",
           "lakecolor": "white",
           "landcolor": "#E5ECF6",
           "showlakes": true,
           "showland": true,
           "subunitcolor": "white"
          },
          "hoverlabel": {
           "align": "left"
          },
          "hovermode": "closest",
          "mapbox": {
           "style": "light"
          },
          "paper_bgcolor": "white",
          "plot_bgcolor": "#E5ECF6",
          "polar": {
           "angularaxis": {
            "gridcolor": "white",
            "linecolor": "white",
            "ticks": ""
           },
           "bgcolor": "#E5ECF6",
           "radialaxis": {
            "gridcolor": "white",
            "linecolor": "white",
            "ticks": ""
           }
          },
          "scene": {
           "xaxis": {
            "backgroundcolor": "#E5ECF6",
            "gridcolor": "white",
            "gridwidth": 2,
            "linecolor": "white",
            "showbackground": true,
            "ticks": "",
            "zerolinecolor": "white"
           },
           "yaxis": {
            "backgroundcolor": "#E5ECF6",
            "gridcolor": "white",
            "gridwidth": 2,
            "linecolor": "white",
            "showbackground": true,
            "ticks": "",
            "zerolinecolor": "white"
           },
           "zaxis": {
            "backgroundcolor": "#E5ECF6",
            "gridcolor": "white",
            "gridwidth": 2,
            "linecolor": "white",
            "showbackground": true,
            "ticks": "",
            "zerolinecolor": "white"
           }
          },
          "shapedefaults": {
           "line": {
            "color": "#2a3f5f"
           }
          },
          "ternary": {
           "aaxis": {
            "gridcolor": "white",
            "linecolor": "white",
            "ticks": ""
           },
           "baxis": {
            "gridcolor": "white",
            "linecolor": "white",
            "ticks": ""
           },
           "bgcolor": "#E5ECF6",
           "caxis": {
            "gridcolor": "white",
            "linecolor": "white",
            "ticks": ""
           }
          },
          "title": {
           "x": 0.05
          },
          "xaxis": {
           "automargin": true,
           "gridcolor": "white",
           "linecolor": "white",
           "ticks": "",
           "title": {
            "standoff": 15
           },
           "zerolinecolor": "white",
           "zerolinewidth": 2
          },
          "yaxis": {
           "automargin": true,
           "gridcolor": "white",
           "linecolor": "white",
           "ticks": "",
           "title": {
            "standoff": 15
           },
           "zerolinecolor": "white",
           "zerolinewidth": 2
          }
         }
        },
        "title": {
         "text": "3D Chroma Vector Store Visualization"
        },
        "width": 900
       }
      }
     },
     "metadata": {},
     "output_type": "display_data"
    }
   ],
   "source": [
    "# Let's try 3D!\n",
    "\n",
    "tsne = TSNE(n_components=3, random_state=42)\n",
    "reduced_vectors = tsne.fit_transform(vectors)\n",
    "\n",
    "# Create the 3D scatter plot\n",
    "fig = go.Figure(data=[go.Scatter3d(\n",
    "    x=reduced_vectors[:, 0],\n",
    "    y=reduced_vectors[:, 1],\n",
    "    z=reduced_vectors[:, 2],\n",
    "    mode='markers',\n",
    "    marker=dict(size=5, color=colors, opacity=0.8),\n",
    "    text=[f\"Type: {t}<br>Text: {d[:100]}...\" for t, d in zip(doc_types, documents)],\n",
    "    hoverinfo='text'\n",
    ")])\n",
    "\n",
    "fig.update_layout(\n",
    "    title='3D Chroma Vector Store Visualization',\n",
    "    scene=dict(xaxis_title='x', yaxis_title='y', zaxis_title='z'),\n",
    "    width=900,\n",
    "    height=700,\n",
    "    margin=dict(r=20, b=10, l=10, t=40)\n",
    ")\n",
    "\n",
    "fig.show()"
   ]
  },
  {
   "cell_type": "markdown",
   "id": "9468860b-86a2-41df-af01-b2400cc985be",
   "metadata": {},
   "source": [
    "## Time to use LangChain to bring it all together"
   ]
  },
  {
   "cell_type": "code",
   "execution_count": 20,
   "id": "129c7d1e-0094-4479-9459-f9360b95f244",
   "metadata": {},
   "outputs": [],
   "source": [
    "# create a new Chat with OpenAI\n",
    "llm = ChatOpenAI(temperature=0.7, model_name=MODEL)\n",
    "\n",
    "# set up the conversation memory for the chat\n",
    "memory = ConversationBufferMemory(memory_key='chat_history', return_messages=True)\n",
    "\n",
    "# how many chunks to provide in each prompt\n",
    "retriever = vectorstore.as_retriever(search_kwargs={\"k\": 10})\n",
    "\n",
    "# putting it together: set up the conversation chain with the GPT 3.5 LLM, the vector store and memory\n",
    "conversation_chain = ConversationalRetrievalChain.from_llm(llm=llm, retriever=retriever, memory=memory)"
   ]
  },
  {
   "cell_type": "code",
   "execution_count": 21,
   "id": "968e7bf2-e862-4679-a11f-6c1efb6ec8ca",
   "metadata": {},
   "outputs": [
    {
     "name": "stdout",
     "output_type": "stream",
     "text": [
      "Insurellm is an innovative insurance technology company founded in 2015 that develops software products to modernize the insurance industry. It offers solutions like marketplaces and portals for auto, home, and reinsurance sectors, serving over 300 clients worldwide with a team of 200 employees across the US.\n"
     ]
    }
   ],
   "source": [
    "# Let's try a simple question\n",
    "\n",
    "query = \"Please explain what Insurellm is in a couple of sentences\"\n",
    "result = conversation_chain.invoke({\"question\": query})\n",
    "print(result[\"answer\"])"
   ]
  },
  {
   "cell_type": "markdown",
   "id": "bbbcb659-13ce-47ab-8a5e-01b930494964",
   "metadata": {},
   "source": [
    "## Now we will bring this up in Gradio using the Chat interface -\n",
    "\n",
    "A quick and easy way to prototype a chat with an LLM"
   ]
  },
  {
   "cell_type": "code",
   "execution_count": 22,
   "id": "c3536590-85c7-4155-bd87-ae78a1467670",
   "metadata": {},
   "outputs": [],
   "source": [
    "# Wrapping that in a function\n",
    "\n",
    "def chat(question, history):\n",
    "    result = conversation_chain.invoke({\"question\": question})\n",
    "    return result[\"answer\"]"
   ]
  },
  {
   "cell_type": "code",
   "execution_count": 23,
   "id": "4350b660-88ae-4765-8203-16b02f1bb584",
   "metadata": {},
   "outputs": [],
   "source": [
    "# Start the conversation again\n",
    "\n",
    "memory = ConversationBufferMemory(memory_key='chat_history', return_messages=True)\n",
    "conversation_chain = ConversationalRetrievalChain.from_llm(llm=llm, retriever=retriever, memory=memory)"
   ]
  },
  {
   "cell_type": "code",
   "execution_count": 24,
   "id": "b252d8c1-61a8-406d-b57a-8f708a62b014",
   "metadata": {},
   "outputs": [
    {
     "name": "stdout",
     "output_type": "stream",
     "text": [
      "* Running on local URL:  http://127.0.0.1:7861\n",
      "* To create a public link, set `share=True` in `launch()`.\n"
     ]
    },
    {
     "data": {
      "text/html": [
       "<div><iframe src=\"http://127.0.0.1:7861/\" width=\"100%\" height=\"500\" allow=\"autoplay; camera; microphone; clipboard-read; clipboard-write;\" frameborder=\"0\" allowfullscreen></iframe></div>"
      ],
      "text/plain": [
       "<IPython.core.display.HTML object>"
      ]
     },
     "metadata": {},
     "output_type": "display_data"
    }
   ],
   "source": [
    "# And launch Gradio\n",
    "\n",
    "view = gr.ChatInterface(chat, type=\"messages\").launch(inbrowser=True)"
   ]
  },
  {
   "cell_type": "code",
   "execution_count": 25,
   "id": "b55e9abb-e1da-46c5-acba-911868aee329",
   "metadata": {},
   "outputs": [
    {
     "name": "stdout",
     "output_type": "stream",
     "text": [
      "\n",
      "\n",
      "\u001b[1m> Entering new ConversationalRetrievalChain chain...\u001b[0m\n",
      "\n",
      "\n",
      "\u001b[1m> Entering new StuffDocumentsChain chain...\u001b[0m\n",
      "\n",
      "\n",
      "\u001b[1m> Entering new LLMChain chain...\u001b[0m\n",
      "Prompt after formatting:\n",
      "\u001b[32;1m\u001b[1;3mSystem: Use the following pieces of context to answer the user's question. \n",
      "If you don't know the answer, just say that you don't know, don't try to make up an answer.\n",
      "----------------\n",
      "# Overview of Insurellm\n",
      "\n",
      "Insurellm is an innovative insurance tech firm with 200 employees across the US.\n",
      "Insurellm offers 4 insurance software products:\n",
      "- Carllm, a portal for auto insurance companies\n",
      "- Homellm, a portal for home insurance companies\n",
      "- Rellm, an enterprise platform for the reinsurance sector\n",
      "- Marketllm, a marketplace for connecting consumers with insurance providers\n",
      "  \n",
      "Insurellm has more than 300 clients worldwide.\n",
      "\n",
      "# About Insurellm\n",
      "\n",
      "Insurellm was founded by Avery Lancaster in 2015 as an insurance tech startup designed to disrupt an industry in need of innovative products. It's first product was Markellm, the marketplace connecting consumers with insurance providers.\n",
      "It rapidly expanded, adding new products and clients, reaching 200 emmployees by 2024 with 12 offices across the US.\n",
      "\n",
      "# Careers at Insurellm\n",
      "\n",
      "Insurellm is hiring! We are looking for talented software engineers, data scientists and account executives to join our growing team. Come be a part of our movement to disrupt the insurance sector.\n",
      "\n",
      "With Homellm, Insurellm is committed to transforming the landscape of home insurance, ensuring both innovation and reliability for all insurance providers and their customers. Explore the future of home insurance today with Homellm!\n",
      "Human: How many offices does Insurellm have?\u001b[0m\n",
      "\n",
      "\u001b[1m> Finished chain.\u001b[0m\n",
      "\n",
      "\u001b[1m> Finished chain.\u001b[0m\n",
      "\n",
      "\u001b[1m> Finished chain.\u001b[0m\n",
      "\n",
      "Answer: Insurellm has 12 offices across the US.\n"
     ]
    }
   ],
   "source": [
    "# Let's investigate what gets sent behind the scenes\n",
    "\n",
    "from langchain_core.callbacks import StdOutCallbackHandler\n",
    "\n",
    "llm = ChatOpenAI(temperature=0.7, model_name=MODEL)\n",
    "memory = ConversationBufferMemory(memory_key='chat_history', return_messages=True)\n",
    "conversation_chain = ConversationalRetrievalChain.from_llm(\n",
    "    llm=llm, \n",
    "    retriever=vectorstore.as_retriever(), \n",
    "    memory=memory,\n",
    "    callbacks=[StdOutCallbackHandler()]\n",
    ")\n",
    "\n",
    "query = \"How many offices does Insurellm have?\"\n",
    "result = conversation_chain.invoke({\"question\": query})\n",
    "answer = result[\"answer\"]\n",
    "print(\"\\nAnswer:\", answer)"
   ]
  },
  {
   "cell_type": "markdown",
   "id": "644753e7-17f3-4999-a37a-b6aebf1e4579",
   "metadata": {},
   "source": [
    "# Major Assignment: Applying this to your business\n",
    "\n",
    "Try applying this to your own folder of data, so that you create a personal knowledge worker, an expert on your own information!\n",
    "\n",
    "## Stretch challenge\n",
    "\n",
    "LangChain is very useful here, but it's not needed at all. There are benefits to implementing RAG manually, without relying on LangChain's prompts.\n",
    "\n",
    "Give this a try - make an alternative implementation that bypasses LangChain!\n",
    "\n",
    "## Stretch challenge #2\n",
    "\n",
    "Implement hierarchical RAG, and demonstrate it answering a question correctly that it couldn't answer before"
   ]
  },
  {
   "cell_type": "code",
   "execution_count": null,
   "id": "30b4745a-0a6c-4544-b78b-c827cfec1fb9",
   "metadata": {},
   "outputs": [],
   "source": []
  }
 ],
 "metadata": {
  "kernelspec": {
   "display_name": ".venv",
   "language": "python",
   "name": "python3"
  },
  "language_info": {
   "codemirror_mode": {
    "name": "ipython",
    "version": 3
   },
   "file_extension": ".py",
   "mimetype": "text/x-python",
   "name": "python",
   "nbconvert_exporter": "python",
   "pygments_lexer": "ipython3",
   "version": "3.12.11"
  }
 },
 "nbformat": 4,
 "nbformat_minor": 5
}
