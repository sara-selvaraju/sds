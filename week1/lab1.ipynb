{
 "cells": [
  {
   "cell_type": "markdown",
   "id": "03c18455-71ac-4bc7-8568-5f77c4b60ac1",
   "metadata": {},
   "source": [
    "# Lab 1\n",
    "\n",
    "# STRAIGHT TO ACTION!\n",
    "\n",
    "Welcome to our first Jupyter Lab where we will see rapid, satisfying results!\n",
    "\n",
    "I will leave with you to try out leading LLMs through their Chat Interfaces\n",
    "\n",
    "Together, we will call them using their APIs\n",
    "\n",
    "Please see the README for instructions on setting this up and getting your API key"
   ]
  },
  {
   "cell_type": "markdown",
   "id": "1810279d-0b70-457d-8713-d9023a6650bf",
   "metadata": {},
   "source": [
    "# If this is your first time in a Notebook..\n",
    "\n",
    "Welcome to the world of Data Science experimentation. Warning: Jupyter Notebooks are very addictive and you may find it hard to go back to IDEs afterwards!!\n",
    "\n",
    "Simply click in each cell with code and press `Shift + Enter` to execute the code and print the results.\n",
    "\n",
    "There's a notebook called \"Guide to Jupyter\" in the parent directory that will give you a handy tutorial on all things Jupyter Lab."
   ]
  },
  {
   "cell_type": "markdown",
   "id": "3b9f2064-946b-4445-bd9e-44aa58c45e29",
   "metadata": {},
   "source": [
    "## Part 1: For you to experiment: Frontier models through their Chat UI\n",
    "\n",
    "The way that you are probably most familiar working with leading LLMs: through their tools.  \n",
    "Some questions you can try asking them:\n",
    "1. What kinds of business problem are most suitable for an LLM solution?\n",
    "2. How many words are there in your answer to this prompt?\n",
    "3. How many rainbows does it take to jump from Hawaii to seventeen?\n",
    "4. What does it feel like to be jealous?\n",
    "\n",
    "**ChatGPT** from OpenAI needs no introduction.\n",
    "\n",
    "Let's try some hard questions, and use the new o1 model as well as GPT-4o. Also try GPT-4o with canvas.\n",
    "\n",
    "https://chatgpt.com/?model=gpt-4o\n",
    "\n",
    "**Claude** from Anthropic is favored by many data scientists, with focus on safety, personality and brevity.\n",
    "\n",
    "https://claude.ai/new\n",
    "\n",
    "**Gemini** from Google is becoming increasingly well known as its results are surfaced in Google searches.\n",
    "\n",
    "https://gemini.google.com/app\n",
    "\n",
    "**Command R+** from Cohere focuses on accuracy and makes extensive use of RAG\n",
    "\n",
    "https://coral.cohere.com/\n",
    "\n",
    "**Meta AI** from Meta is their chat UI on their famous Llama open-source model\n",
    "\n",
    "https://www.meta.ai/\n",
    "\n",
    "**Perplexity** from Perplexity is a Search Engine well known for its customized search results\n",
    "\n",
    "https://www.perplexity.ai/\n",
    "\n",
    "**LeChat** from Mistral is the Web UI from the French AI powerhouse\n",
    "\n",
    "https://chat.mistral.ai/\n",
    "\n",
    "**DeepSeek** from DeepSeek AI needs no introduction! Deepseek-R1 is the Reasoning model, V3 is their Chat model.\n",
    "\n",
    "https://chat.deepseek.com/\n"
   ]
  },
  {
   "cell_type": "markdown",
   "id": "a058d6a3-558f-4e12-aff6-5fa949ecd454",
   "metadata": {},
   "source": [
    "## Conclusions and Takeways from exploring the Chat UIs\n",
    "\n",
    "- These models are astonishing\n",
    "- Reasoning vs Chat models - different capabilities and use cases. Reasoning better for research but not for conversation.\n",
    "- Price is highly competitive\n",
    "\n",
    "You'll find cost and other comparisons at this very useful leaderboard:\n",
    "\n",
    "https://www.vellum.ai/llm-leaderboard"
   ]
  },
  {
   "cell_type": "markdown",
   "id": "24228179-fe9e-4098-8669-6898459eaa76",
   "metadata": {},
   "source": [
    "## PART 2: Calling Frontier Models through APIs\n",
    "\n",
    "## Setting up your keys\n",
    "\n",
    "If you haven't done so already, you'll need to create API keys from OpenAI, Anthropic and Google, and also DeepSeek and Groq if you wish.\n",
    "\n",
    "For OpenAI, visit https://openai.com/api/  \n",
    "For Anthropic, visit https://console.anthropic.com/  \n",
    "For Google, visit https://ai.google.dev/gemini-api  \n",
    "\n",
    "When you get your API keys, you need to set them as environment variables.\n",
    "\n",
    "EITHER (recommended) create a file called `.env` in this project root directory, and set your keys there:\n",
    "\n",
    "```\n",
    "OPENAI_API_KEY=xxxx\n",
    "ANTHROPIC_API_KEY=xxxx\n",
    "GOOGLE_API_KEY=xxxx\n",
    "DEEPSEEK_API_KEY=xxxx\n",
    "GROQ_API_KEY=xxxx\n",
    "```\n",
    "\n",
    "OR enter the keys directly in the cells below."
   ]
  },
  {
   "cell_type": "markdown",
   "id": "8ab1369b-8029-4607-bfab-e228aa12dec2",
   "metadata": {},
   "source": [
    "## Two purposes of these APIs:\n",
    "\n",
    "1. Illustrate how to use the APIs and switch between LLMs\n",
    "2. Experiment with some LLMs and understand their strengths and weaknesses"
   ]
  },
  {
   "cell_type": "code",
   "execution_count": 1,
   "id": "d6b3506e-b46f-44f0-ba9b-6b002835d36a",
   "metadata": {},
   "outputs": [],
   "source": [
    "# imports\n",
    "\n",
    "import os\n",
    "import json\n",
    "import requests\n",
    "from dotenv import load_dotenv\n",
    "from openai import OpenAI\n",
    "from IPython.display import Markdown, display, update_display"
   ]
  },
  {
   "cell_type": "code",
   "execution_count": 2,
   "id": "bfae0a99-0235-4256-9874-1b5e718b6fc6",
   "metadata": {},
   "outputs": [
    {
     "name": "stdout",
     "output_type": "stream",
     "text": [
      "OpenAI API Key exists and begins sk-proj-\n",
      "Anthropic API Key exists and begins sk-ant-\n",
      "Google API Key exists and begins AI\n",
      "DeepSeek API Key exists and begins sk-\n",
      "Groq API Key exists and begins gsk_\n",
      "Grok API Key exists and begins xai-\n"
     ]
    }
   ],
   "source": [
    "# Load environment variables in a file called .env\n",
    "# Print the key prefixes to help with any debugging\n",
    "\n",
    "load_dotenv(override=True)\n",
    "openai_api_key = os.getenv('OPENAI_API_KEY')\n",
    "anthropic_api_key = os.getenv('ANTHROPIC_API_KEY')\n",
    "google_api_key = os.getenv('GOOGLE_API_KEY')\n",
    "deepseek_api_key = os.getenv('DEEPSEEK_API_KEY')\n",
    "groq_api_key = os.getenv('GROQ_API_KEY')\n",
    "grok_api_key = os.getenv('GROK_API_KEY')\n",
    "\n",
    "if openai_api_key:\n",
    "    print(f\"OpenAI API Key exists and begins {openai_api_key[:8]}\")\n",
    "else:\n",
    "    print(\"OpenAI API Key not set\")\n",
    "    \n",
    "if anthropic_api_key:\n",
    "    print(f\"Anthropic API Key exists and begins {anthropic_api_key[:7]}\")\n",
    "else:\n",
    "    print(\"Anthropic API Key not set (and this is optional)\")\n",
    "\n",
    "if google_api_key:\n",
    "    print(f\"Google API Key exists and begins {google_api_key[:2]}\")\n",
    "else:\n",
    "    print(\"Google API Key not set (and this is optional)\")\n",
    "\n",
    "if deepseek_api_key:\n",
    "    print(f\"DeepSeek API Key exists and begins {deepseek_api_key[:3]}\")\n",
    "else:\n",
    "    print(\"DeepSeek API Key not set (and this is optional)\")\n",
    "\n",
    "if groq_api_key:\n",
    "    print(f\"Groq API Key exists and begins {groq_api_key[:4]}\")\n",
    "else:\n",
    "    print(\"Groq API Key not set (and this is optional)\")\n",
    "\n",
    "if grok_api_key:\n",
    "    print(f\"Grok API Key exists and begins {grok_api_key[:4]}\")\n",
    "else:\n",
    "    print(\"Grok API Key not set (and this is optional)\")"
   ]
  },
  {
   "cell_type": "markdown",
   "id": "7ebce183-62bf-4201-8d16-4db002e08876",
   "metadata": {},
   "source": [
    "## Connecting to Python Client libraries\n",
    "\n",
    "We call Cloud APIs by making REST calls to an HTTP endpoint, passing in our keys.\n",
    "\n",
    "For convenience, the labs like OpenAI have provided lightweight python client libraries that make the HTTP calls for us."
   ]
  },
  {
   "cell_type": "code",
   "execution_count": 3,
   "id": "242c6483-a9a6-4e3b-b361-e7a8c7f912e0",
   "metadata": {},
   "outputs": [],
   "source": [
    "# Connect to OpenAI client library\n",
    "# A thin wrappes around calls to REST endpoints\n",
    "\n",
    "openai = OpenAI()\n",
    "\n",
    "# We can use the OpenAI python client for all the others, because everyone has produced endpoints compatible with OpenAI\n",
    "# And OpenAI allows you to change the base_url\n",
    "\n",
    "anthropic_url = \"https://api.anthropic.com/v1/\"\n",
    "gemini_url = \"https://generativelanguage.googleapis.com/v1beta/openai/\"\n",
    "deepseek_url = \"https://api.deepseek.com\"\n",
    "groq_url = \"https://api.groq.com/openai/v1\"\n",
    "grok_url = \"https://api.x.ai/v1\"\n",
    "\n",
    "anthropic = OpenAI(api_key=anthropic_api_key, base_url=anthropic_url)\n",
    "gemini = OpenAI(api_key=google_api_key, base_url=gemini_url)\n",
    "deepseek = OpenAI(api_key=deepseek_api_key, base_url=deepseek_url)\n",
    "groq = OpenAI(api_key=groq_api_key, base_url=groq_url)\n",
    "grok = OpenAI(api_key=grok_api_key, base_url=grok_url)"
   ]
  },
  {
   "cell_type": "markdown",
   "id": "e584134a-68c6-4677-b4b0-1a7c1c93aeb4",
   "metadata": {},
   "source": [
    "## Asking LLMs a hard question that will put them to the test and illustrate their power\n",
    "\n",
    "We will come up with a challenging question to test out model performance with language and nuance.\n",
    "\n",
    "### What information is included in the API\n",
    "\n",
    "Typically we'll pass to the API:\n",
    "- The name of the model that should be used\n",
    "- A **system message** that gives overall context for the role the LLM is playing\n",
    "- A **user message** that provides the actual prompt\n",
    "\n",
    "There are other parameters that can be used, including **temperature** which is typically between 0 and 1; higher for more random output; lower for more focused and deterministic.\n",
    "\n",
    "### The standard format of messages with an LLM, first used by OpenAI in its API and now adopted more widely\n",
    "\n",
    "Conversations use this format:\n",
    "\n",
    "```\n",
    "[\n",
    "    {\"role\": \"system\", \"content\": \"system message here\"},\n",
    "    {\"role\": \"user\", \"content\": \"user prompt here\"}\n",
    "]\n",
    "```\n"
   ]
  },
  {
   "cell_type": "code",
   "execution_count": 4,
   "id": "bbbbcc5b-8517-4a3e-9ca1-e860a072bb42",
   "metadata": {},
   "outputs": [],
   "source": [
    "# The hardest question I could come up with\n",
    "\n",
    "system_message = \"You are able to explain abstract concepts clearly and concisely, with powerful analogies\"\n",
    "\n",
    "user_prompt = \"In 1 sentence, describe a rainbow to someone who's never been able to see. \\\n",
    "Then in 1 sentence, describe the imaginary number i to someone who doesn't understand math. \\\n",
    "Then in 1 sentence, find a connection between rainbows and imaginary numbers. \\\n",
    "Then end by stating how many words are in your answer.\""
   ]
  },
  {
   "cell_type": "code",
   "execution_count": 5,
   "id": "fead0d09-cf0f-443c-b2ce-ff1a4ecdf49c",
   "metadata": {},
   "outputs": [],
   "source": [
    "challenge = [\n",
    "    {\"role\": \"system\", \"content\": system_message},\n",
    "    {\"role\": \"user\", \"content\": user_prompt}\n",
    "  ]"
   ]
  },
  {
   "cell_type": "code",
   "execution_count": 6,
   "id": "d11d54df-4b6c-4550-86f9-a3773ccca108",
   "metadata": {},
   "outputs": [],
   "source": [
    "models = []\n",
    "answers = []\n",
    "\n",
    "def record(model, reply):\n",
    "    display(Markdown(f\"### Response from {model}:\\n\\n{reply}\\n\\n### Actual word count: {len(reply.split())}\"))\n",
    "    models.append(model)\n",
    "    answers.append(reply)"
   ]
  },
  {
   "cell_type": "code",
   "execution_count": 7,
   "id": "e70cd59d-3efe-41e7-b149-ce56b9697a92",
   "metadata": {},
   "outputs": [
    {
     "data": {
      "text/markdown": [
       "### Response from gpt-4.1-mini:\n",
       "\n",
       "A rainbow is like a gentle arc in the sky where sunlight is split into vibrant bands of color, much like a hidden spectrum painted by light itself; the imaginary number \\(i\\) is like a mathematical tool that lets us explore dimensions beyond the usual counting numbers, opening a door to numbers that, when squared, give a negative result—a concept that stretches our understanding like a bridge to an unseen world; both rainbows and imaginary numbers reveal hidden layers of reality beyond everyday experience, showing us beauty and patterns that ordinary senses or arithmetic alone cannot grasp. (70 words)\n",
       "\n",
       "### Actual word count: 99"
      ],
      "text/plain": [
       "<IPython.core.display.Markdown object>"
      ]
     },
     "metadata": {},
     "output_type": "display_data"
    }
   ],
   "source": [
    "# GPT-4.1-mini\n",
    "\n",
    "model_name = \"gpt-4.1-mini\"\n",
    "\n",
    "response = openai.chat.completions.create(model=model_name, messages=challenge)\n",
    "reply = response.choices[0].message.content\n",
    "\n",
    "record(model_name, reply)"
   ]
  },
  {
   "cell_type": "code",
   "execution_count": 8,
   "id": "3cdd2ee1-8b06-44a2-b4fe-164629d4c06d",
   "metadata": {},
   "outputs": [
    {
     "data": {
      "text/markdown": [
       "### Response from gpt-4.1-nano:\n",
       "\n",
       "A rainbow is like a cosmic bridge of shimmering colors that appears in the sky after rain, revealing a hidden spectrum when sunlight is split by water droplets.  \n",
       "The imaginary number i is like a secret key that unlocks new directions in the world of numbers, allowing us to explore shapes and patterns beyond what we see every day.  \n",
       "Both rainbows and imaginary numbers open the door to worlds beyond ordinary perception—rainbows through visible light and colors, and imaginary numbers through mathematical dimensions unseen but fundamentally powerful.  \n",
       "There are 67 words in this answer.\n",
       "\n",
       "### Actual word count: 94"
      ],
      "text/plain": [
       "<IPython.core.display.Markdown object>"
      ]
     },
     "metadata": {},
     "output_type": "display_data"
    }
   ],
   "source": [
    "# GPT-4.1-nano\n",
    "\n",
    "model_name = \"gpt-4.1-nano\"\n",
    "\n",
    "response = openai.chat.completions.create(model=model_name, messages=challenge)\n",
    "reply = response.choices[0].message.content\n",
    "\n",
    "record(model_name, reply)"
   ]
  },
  {
   "cell_type": "code",
   "execution_count": 9,
   "id": "1956fbe1-0510-4769-927e-4150dcbbcfb7",
   "metadata": {},
   "outputs": [
    {
     "data": {
      "text/markdown": [
       "### Response from gpt-4.1:\n",
       "\n",
       "A rainbow is like a gentle, multi-note melody painted across the sky with each color shaped by different notes of sunlight after the rain.  \n",
       "The imaginary number i is like a doorway to a hidden room that can’t be entered by walking forward or backward, but only by stepping sideways into an entirely new direction.  \n",
       "Both rainbows and imaginary numbers reveal hidden dimensions of the world—rainbows showing the unseen beauty in light, and i opening new paths in the landscape of numbers.  \n",
       "63 words.\n",
       "\n",
       "### Actual word count: 84"
      ],
      "text/plain": [
       "<IPython.core.display.Markdown object>"
      ]
     },
     "metadata": {},
     "output_type": "display_data"
    }
   ],
   "source": [
    "# GPT-4.1\n",
    "\n",
    "model_name = \"gpt-4.1\"\n",
    "\n",
    "response = openai.chat.completions.create(model=model_name, messages=challenge)\n",
    "reply = response.choices[0].message.content\n",
    "\n",
    "record(model_name, reply)"
   ]
  },
  {
   "cell_type": "code",
   "execution_count": 10,
   "id": "d23b64f8-86e2-4cc1-9cd1-03ac53287f8e",
   "metadata": {},
   "outputs": [
    {
     "data": {
      "text/markdown": [
       "### Response from o1:\n",
       "\n",
       "Imagine a gentle dance of sensations across your skin, each shift representing a different hue, arching together in a moment of wonder. The imaginary number i is a special symbol that means we can explore a new direction in mathematics beyond the real line. Rainbows and imaginary numbers both hint at hidden depths, reminding us that there is more to reality than what we initially perceive. Altogether, this answer has 72 words.\n",
       "\n",
       "### Actual word count: 72"
      ],
      "text/plain": [
       "<IPython.core.display.Markdown object>"
      ]
     },
     "metadata": {},
     "output_type": "display_data"
    }
   ],
   "source": [
    "# o1\n",
    "# o1 is a \"reasoning\" model that has been trained to think through it's answer before it replies..\n",
    "\n",
    "model_name = \"o1\"\n",
    "\n",
    "response = openai.chat.completions.create(model=model_name, messages=challenge)\n",
    "reply = response.choices[0].message.content\n",
    "\n",
    "record(model_name, reply)"
   ]
  },
  {
   "cell_type": "code",
   "execution_count": 11,
   "id": "e9533840-b36b-49cc-bd42-4815960f3a06",
   "metadata": {},
   "outputs": [
    {
     "data": {
      "text/markdown": [
       "### Response from o3:\n",
       "\n",
       "A rainbow is like a gentle seven-note chord played by sunlight on the sky's wet strings, with each 'note' felt as a cool, distinct breath rather than seen as a color.  \n",
       "The imaginary number i is like a special turn of a key that doesn't open a door but rotates you into a new hallway you never knew existed.  \n",
       "Both the rainbow and i remind us that hidden dimensions—one in light, one in arithmetic—unfurl only when we let nature move beyond our usual straight lines.  \n",
       "Total words: 88\n",
       "\n",
       "### Actual word count: 88"
      ],
      "text/plain": [
       "<IPython.core.display.Markdown object>"
      ]
     },
     "metadata": {},
     "output_type": "display_data"
    }
   ],
   "source": [
    "# o3\n",
    "\n",
    "model_name = \"o3\"\n",
    "\n",
    "response = openai.chat.completions.create(model=model_name, messages=challenge)\n",
    "reply = response.choices[0].message.content\n",
    "\n",
    "record(model_name, reply)"
   ]
  },
  {
   "cell_type": "code",
   "execution_count": 12,
   "id": "6ddbb3fe-6c9e-4f1a-ae16-c20445fc5758",
   "metadata": {},
   "outputs": [
    {
     "data": {
      "text/markdown": [
       "### Response from claude-sonnet-4-20250514:\n",
       "\n",
       "A rainbow is like nature's musical scale made visible, where sunlight splits into bands of different \"colors\" that each have their own unique wavelength, creating an arc that feels as organized and beautiful as hearing notes flow from low to high. The imaginary number i is like a magical mathematical tool that lets you rotate numbers in a completely new direction—imagine if you could only move forward and backward on a straight line, but suddenly discovered you could also step sideways into a whole new dimension of movement. Both rainbows and imaginary numbers reveal hidden dimensions that were always there but invisible to us—rainbows show the secret spectrum hidden within ordinary white light, while imaginary numbers unveil the secret rotational space hidden within ordinary counting. This answer contains exactly 128 words.\n",
       "\n",
       "### Actual word count: 131"
      ],
      "text/plain": [
       "<IPython.core.display.Markdown object>"
      ]
     },
     "metadata": {},
     "output_type": "display_data"
    }
   ],
   "source": [
    "# Claude 4.0 Sonnet\n",
    "# API needs system message provided separately from user prompt\n",
    "# Also adding max_tokens\n",
    "\n",
    "model_name = \"claude-sonnet-4-20250514\"\n",
    "\n",
    "response = anthropic.chat.completions.create(model=model_name, messages=challenge)\n",
    "reply = response.choices[0].message.content\n",
    "\n",
    "record(model_name, reply)"
   ]
  },
  {
   "cell_type": "code",
   "execution_count": 13,
   "id": "f543cc49-fe01-4a6c-af4e-c576f4bbc06e",
   "metadata": {},
   "outputs": [
    {
     "data": {
      "text/markdown": [
       "### Response from gemini-2.5-flash-preview-05-20:\n",
       "\n",
       "It's like a single, unified song of light gently unfurling into an ordered chorus of distinct energies, each a unique sensation or warmth momentarily felt. Imagine the imaginary number *i* as the mathematical instruction that lets numbers 'turn' into a new dimension, allowing them to spin and describe cycles instead of just moving along a straight line. Both illustrate how underlying wave-like properties, whether of light or abstract numbers, can separate and unfold into a richer, multi-dimensional order of distinct, patterned components.\n",
       "\n",
       "92 words\n",
       "\n",
       "### Actual word count: 84"
      ],
      "text/plain": [
       "<IPython.core.display.Markdown object>"
      ]
     },
     "metadata": {},
     "output_type": "display_data"
    }
   ],
   "source": [
    "# Gemini 2.5 Flash\n",
    "\n",
    "model_name = \"gemini-2.5-flash-preview-05-20\"\n",
    "\n",
    "response = gemini.chat.completions.create(model=model_name, messages=challenge)\n",
    "reply = response.choices[0].message.content\n",
    "\n",
    "record(model_name, reply)"
   ]
  },
  {
   "cell_type": "code",
   "execution_count": 14,
   "id": "a204e1bd-44c0-43c7-9ebc-05a366377050",
   "metadata": {},
   "outputs": [
    {
     "ename": "RateLimitError",
     "evalue": "Error code: 429 - [{'error': {'code': 429, 'message': \"Gemini 2.5 Pro Preview doesn't have a free quota tier. For more information on this error, head to: https://ai.google.dev/gemini-api/docs/rate-limits.\", 'status': 'RESOURCE_EXHAUSTED', 'details': [{'@type': 'type.googleapis.com/google.rpc.QuotaFailure', 'violations': [{'quotaMetric': 'generativelanguage.googleapis.com/generate_content_free_tier_requests', 'quotaId': 'GenerateRequestsPerDayPerProjectPerModel-FreeTier', 'quotaDimensions': {'location': 'global', 'model': 'gemini-2.5-pro-exp'}}, {'quotaMetric': 'generativelanguage.googleapis.com/generate_content_free_tier_requests', 'quotaId': 'GenerateRequestsPerMinutePerProjectPerModel-FreeTier', 'quotaDimensions': {'location': 'global', 'model': 'gemini-2.5-pro-exp'}}, {'quotaMetric': 'generativelanguage.googleapis.com/generate_content_free_tier_input_token_count', 'quotaId': 'GenerateContentInputTokensPerModelPerMinute-FreeTier', 'quotaDimensions': {'location': 'global', 'model': 'gemini-2.5-pro-exp'}}, {'quotaMetric': 'generativelanguage.googleapis.com/generate_content_free_tier_input_token_count', 'quotaId': 'GenerateContentInputTokensPerModelPerDay-FreeTier', 'quotaDimensions': {'location': 'global', 'model': 'gemini-2.5-pro-exp'}}]}, {'@type': 'type.googleapis.com/google.rpc.Help', 'links': [{'description': 'Learn more about Gemini API quotas', 'url': 'https://ai.google.dev/gemini-api/docs/rate-limits'}]}, {'@type': 'type.googleapis.com/google.rpc.RetryInfo', 'retryDelay': '41s'}]}}]",
     "output_type": "error",
     "traceback": [
      "\u001b[31m---------------------------------------------------------------------------\u001b[39m",
      "\u001b[31mRateLimitError\u001b[39m                            Traceback (most recent call last)",
      "\u001b[36mCell\u001b[39m\u001b[36m \u001b[39m\u001b[32mIn[14]\u001b[39m\u001b[32m, line 5\u001b[39m\n\u001b[32m      1\u001b[39m \u001b[38;5;66;03m# Gemini 2.5 Pro\u001b[39;00m\n\u001b[32m      3\u001b[39m model_name = \u001b[33m\"\u001b[39m\u001b[33mgemini-2.5-pro-preview-06-05\u001b[39m\u001b[33m\"\u001b[39m\n\u001b[32m----> \u001b[39m\u001b[32m5\u001b[39m response = \u001b[43mgemini\u001b[49m\u001b[43m.\u001b[49m\u001b[43mchat\u001b[49m\u001b[43m.\u001b[49m\u001b[43mcompletions\u001b[49m\u001b[43m.\u001b[49m\u001b[43mcreate\u001b[49m\u001b[43m(\u001b[49m\u001b[43mmodel\u001b[49m\u001b[43m=\u001b[49m\u001b[43mmodel_name\u001b[49m\u001b[43m,\u001b[49m\u001b[43m \u001b[49m\u001b[43mmessages\u001b[49m\u001b[43m=\u001b[49m\u001b[43mchallenge\u001b[49m\u001b[43m)\u001b[49m\n\u001b[32m      6\u001b[39m reply = response.choices[\u001b[32m0\u001b[39m].message.content\n\u001b[32m      8\u001b[39m record(model_name, reply)\n",
      "\u001b[36mFile \u001b[39m\u001b[32mc:\\Users\\sarav\\projects\\sds\\.venv\\Lib\\site-packages\\openai\\_utils\\_utils.py:287\u001b[39m, in \u001b[36mrequired_args.<locals>.inner.<locals>.wrapper\u001b[39m\u001b[34m(*args, **kwargs)\u001b[39m\n\u001b[32m    285\u001b[39m             msg = \u001b[33mf\u001b[39m\u001b[33m\"\u001b[39m\u001b[33mMissing required argument: \u001b[39m\u001b[38;5;132;01m{\u001b[39;00mquote(missing[\u001b[32m0\u001b[39m])\u001b[38;5;132;01m}\u001b[39;00m\u001b[33m\"\u001b[39m\n\u001b[32m    286\u001b[39m     \u001b[38;5;28;01mraise\u001b[39;00m \u001b[38;5;167;01mTypeError\u001b[39;00m(msg)\n\u001b[32m--> \u001b[39m\u001b[32m287\u001b[39m \u001b[38;5;28;01mreturn\u001b[39;00m \u001b[43mfunc\u001b[49m\u001b[43m(\u001b[49m\u001b[43m*\u001b[49m\u001b[43margs\u001b[49m\u001b[43m,\u001b[49m\u001b[43m \u001b[49m\u001b[43m*\u001b[49m\u001b[43m*\u001b[49m\u001b[43mkwargs\u001b[49m\u001b[43m)\u001b[49m\n",
      "\u001b[36mFile \u001b[39m\u001b[32mc:\\Users\\sarav\\projects\\sds\\.venv\\Lib\\site-packages\\openai\\resources\\chat\\completions\\completions.py:925\u001b[39m, in \u001b[36mCompletions.create\u001b[39m\u001b[34m(self, messages, model, audio, frequency_penalty, function_call, functions, logit_bias, logprobs, max_completion_tokens, max_tokens, metadata, modalities, n, parallel_tool_calls, prediction, presence_penalty, reasoning_effort, response_format, seed, service_tier, stop, store, stream, stream_options, temperature, tool_choice, tools, top_logprobs, top_p, user, web_search_options, extra_headers, extra_query, extra_body, timeout)\u001b[39m\n\u001b[32m    882\u001b[39m \u001b[38;5;129m@required_args\u001b[39m([\u001b[33m\"\u001b[39m\u001b[33mmessages\u001b[39m\u001b[33m\"\u001b[39m, \u001b[33m\"\u001b[39m\u001b[33mmodel\u001b[39m\u001b[33m\"\u001b[39m], [\u001b[33m\"\u001b[39m\u001b[33mmessages\u001b[39m\u001b[33m\"\u001b[39m, \u001b[33m\"\u001b[39m\u001b[33mmodel\u001b[39m\u001b[33m\"\u001b[39m, \u001b[33m\"\u001b[39m\u001b[33mstream\u001b[39m\u001b[33m\"\u001b[39m])\n\u001b[32m    883\u001b[39m \u001b[38;5;28;01mdef\u001b[39;00m\u001b[38;5;250m \u001b[39m\u001b[34mcreate\u001b[39m(\n\u001b[32m    884\u001b[39m     \u001b[38;5;28mself\u001b[39m,\n\u001b[32m   (...)\u001b[39m\u001b[32m    922\u001b[39m     timeout: \u001b[38;5;28mfloat\u001b[39m | httpx.Timeout | \u001b[38;5;28;01mNone\u001b[39;00m | NotGiven = NOT_GIVEN,\n\u001b[32m    923\u001b[39m ) -> ChatCompletion | Stream[ChatCompletionChunk]:\n\u001b[32m    924\u001b[39m     validate_response_format(response_format)\n\u001b[32m--> \u001b[39m\u001b[32m925\u001b[39m     \u001b[38;5;28;01mreturn\u001b[39;00m \u001b[38;5;28;43mself\u001b[39;49m\u001b[43m.\u001b[49m\u001b[43m_post\u001b[49m\u001b[43m(\u001b[49m\n\u001b[32m    926\u001b[39m \u001b[43m        \u001b[49m\u001b[33;43m\"\u001b[39;49m\u001b[33;43m/chat/completions\u001b[39;49m\u001b[33;43m\"\u001b[39;49m\u001b[43m,\u001b[49m\n\u001b[32m    927\u001b[39m \u001b[43m        \u001b[49m\u001b[43mbody\u001b[49m\u001b[43m=\u001b[49m\u001b[43mmaybe_transform\u001b[49m\u001b[43m(\u001b[49m\n\u001b[32m    928\u001b[39m \u001b[43m            \u001b[49m\u001b[43m{\u001b[49m\n\u001b[32m    929\u001b[39m \u001b[43m                \u001b[49m\u001b[33;43m\"\u001b[39;49m\u001b[33;43mmessages\u001b[39;49m\u001b[33;43m\"\u001b[39;49m\u001b[43m:\u001b[49m\u001b[43m \u001b[49m\u001b[43mmessages\u001b[49m\u001b[43m,\u001b[49m\n\u001b[32m    930\u001b[39m \u001b[43m                \u001b[49m\u001b[33;43m\"\u001b[39;49m\u001b[33;43mmodel\u001b[39;49m\u001b[33;43m\"\u001b[39;49m\u001b[43m:\u001b[49m\u001b[43m \u001b[49m\u001b[43mmodel\u001b[49m\u001b[43m,\u001b[49m\n\u001b[32m    931\u001b[39m \u001b[43m                \u001b[49m\u001b[33;43m\"\u001b[39;49m\u001b[33;43maudio\u001b[39;49m\u001b[33;43m\"\u001b[39;49m\u001b[43m:\u001b[49m\u001b[43m \u001b[49m\u001b[43maudio\u001b[49m\u001b[43m,\u001b[49m\n\u001b[32m    932\u001b[39m \u001b[43m                \u001b[49m\u001b[33;43m\"\u001b[39;49m\u001b[33;43mfrequency_penalty\u001b[39;49m\u001b[33;43m\"\u001b[39;49m\u001b[43m:\u001b[49m\u001b[43m \u001b[49m\u001b[43mfrequency_penalty\u001b[49m\u001b[43m,\u001b[49m\n\u001b[32m    933\u001b[39m \u001b[43m                \u001b[49m\u001b[33;43m\"\u001b[39;49m\u001b[33;43mfunction_call\u001b[39;49m\u001b[33;43m\"\u001b[39;49m\u001b[43m:\u001b[49m\u001b[43m \u001b[49m\u001b[43mfunction_call\u001b[49m\u001b[43m,\u001b[49m\n\u001b[32m    934\u001b[39m \u001b[43m                \u001b[49m\u001b[33;43m\"\u001b[39;49m\u001b[33;43mfunctions\u001b[39;49m\u001b[33;43m\"\u001b[39;49m\u001b[43m:\u001b[49m\u001b[43m \u001b[49m\u001b[43mfunctions\u001b[49m\u001b[43m,\u001b[49m\n\u001b[32m    935\u001b[39m \u001b[43m                \u001b[49m\u001b[33;43m\"\u001b[39;49m\u001b[33;43mlogit_bias\u001b[39;49m\u001b[33;43m\"\u001b[39;49m\u001b[43m:\u001b[49m\u001b[43m \u001b[49m\u001b[43mlogit_bias\u001b[49m\u001b[43m,\u001b[49m\n\u001b[32m    936\u001b[39m \u001b[43m                \u001b[49m\u001b[33;43m\"\u001b[39;49m\u001b[33;43mlogprobs\u001b[39;49m\u001b[33;43m\"\u001b[39;49m\u001b[43m:\u001b[49m\u001b[43m \u001b[49m\u001b[43mlogprobs\u001b[49m\u001b[43m,\u001b[49m\n\u001b[32m    937\u001b[39m \u001b[43m                \u001b[49m\u001b[33;43m\"\u001b[39;49m\u001b[33;43mmax_completion_tokens\u001b[39;49m\u001b[33;43m\"\u001b[39;49m\u001b[43m:\u001b[49m\u001b[43m \u001b[49m\u001b[43mmax_completion_tokens\u001b[49m\u001b[43m,\u001b[49m\n\u001b[32m    938\u001b[39m \u001b[43m                \u001b[49m\u001b[33;43m\"\u001b[39;49m\u001b[33;43mmax_tokens\u001b[39;49m\u001b[33;43m\"\u001b[39;49m\u001b[43m:\u001b[49m\u001b[43m \u001b[49m\u001b[43mmax_tokens\u001b[49m\u001b[43m,\u001b[49m\n\u001b[32m    939\u001b[39m \u001b[43m                \u001b[49m\u001b[33;43m\"\u001b[39;49m\u001b[33;43mmetadata\u001b[39;49m\u001b[33;43m\"\u001b[39;49m\u001b[43m:\u001b[49m\u001b[43m \u001b[49m\u001b[43mmetadata\u001b[49m\u001b[43m,\u001b[49m\n\u001b[32m    940\u001b[39m \u001b[43m                \u001b[49m\u001b[33;43m\"\u001b[39;49m\u001b[33;43mmodalities\u001b[39;49m\u001b[33;43m\"\u001b[39;49m\u001b[43m:\u001b[49m\u001b[43m \u001b[49m\u001b[43mmodalities\u001b[49m\u001b[43m,\u001b[49m\n\u001b[32m    941\u001b[39m \u001b[43m                \u001b[49m\u001b[33;43m\"\u001b[39;49m\u001b[33;43mn\u001b[39;49m\u001b[33;43m\"\u001b[39;49m\u001b[43m:\u001b[49m\u001b[43m \u001b[49m\u001b[43mn\u001b[49m\u001b[43m,\u001b[49m\n\u001b[32m    942\u001b[39m \u001b[43m                \u001b[49m\u001b[33;43m\"\u001b[39;49m\u001b[33;43mparallel_tool_calls\u001b[39;49m\u001b[33;43m\"\u001b[39;49m\u001b[43m:\u001b[49m\u001b[43m \u001b[49m\u001b[43mparallel_tool_calls\u001b[49m\u001b[43m,\u001b[49m\n\u001b[32m    943\u001b[39m \u001b[43m                \u001b[49m\u001b[33;43m\"\u001b[39;49m\u001b[33;43mprediction\u001b[39;49m\u001b[33;43m\"\u001b[39;49m\u001b[43m:\u001b[49m\u001b[43m \u001b[49m\u001b[43mprediction\u001b[49m\u001b[43m,\u001b[49m\n\u001b[32m    944\u001b[39m \u001b[43m                \u001b[49m\u001b[33;43m\"\u001b[39;49m\u001b[33;43mpresence_penalty\u001b[39;49m\u001b[33;43m\"\u001b[39;49m\u001b[43m:\u001b[49m\u001b[43m \u001b[49m\u001b[43mpresence_penalty\u001b[49m\u001b[43m,\u001b[49m\n\u001b[32m    945\u001b[39m \u001b[43m                \u001b[49m\u001b[33;43m\"\u001b[39;49m\u001b[33;43mreasoning_effort\u001b[39;49m\u001b[33;43m\"\u001b[39;49m\u001b[43m:\u001b[49m\u001b[43m \u001b[49m\u001b[43mreasoning_effort\u001b[49m\u001b[43m,\u001b[49m\n\u001b[32m    946\u001b[39m \u001b[43m                \u001b[49m\u001b[33;43m\"\u001b[39;49m\u001b[33;43mresponse_format\u001b[39;49m\u001b[33;43m\"\u001b[39;49m\u001b[43m:\u001b[49m\u001b[43m \u001b[49m\u001b[43mresponse_format\u001b[49m\u001b[43m,\u001b[49m\n\u001b[32m    947\u001b[39m \u001b[43m                \u001b[49m\u001b[33;43m\"\u001b[39;49m\u001b[33;43mseed\u001b[39;49m\u001b[33;43m\"\u001b[39;49m\u001b[43m:\u001b[49m\u001b[43m \u001b[49m\u001b[43mseed\u001b[49m\u001b[43m,\u001b[49m\n\u001b[32m    948\u001b[39m \u001b[43m                \u001b[49m\u001b[33;43m\"\u001b[39;49m\u001b[33;43mservice_tier\u001b[39;49m\u001b[33;43m\"\u001b[39;49m\u001b[43m:\u001b[49m\u001b[43m \u001b[49m\u001b[43mservice_tier\u001b[49m\u001b[43m,\u001b[49m\n\u001b[32m    949\u001b[39m \u001b[43m                \u001b[49m\u001b[33;43m\"\u001b[39;49m\u001b[33;43mstop\u001b[39;49m\u001b[33;43m\"\u001b[39;49m\u001b[43m:\u001b[49m\u001b[43m \u001b[49m\u001b[43mstop\u001b[49m\u001b[43m,\u001b[49m\n\u001b[32m    950\u001b[39m \u001b[43m                \u001b[49m\u001b[33;43m\"\u001b[39;49m\u001b[33;43mstore\u001b[39;49m\u001b[33;43m\"\u001b[39;49m\u001b[43m:\u001b[49m\u001b[43m \u001b[49m\u001b[43mstore\u001b[49m\u001b[43m,\u001b[49m\n\u001b[32m    951\u001b[39m \u001b[43m                \u001b[49m\u001b[33;43m\"\u001b[39;49m\u001b[33;43mstream\u001b[39;49m\u001b[33;43m\"\u001b[39;49m\u001b[43m:\u001b[49m\u001b[43m \u001b[49m\u001b[43mstream\u001b[49m\u001b[43m,\u001b[49m\n\u001b[32m    952\u001b[39m \u001b[43m                \u001b[49m\u001b[33;43m\"\u001b[39;49m\u001b[33;43mstream_options\u001b[39;49m\u001b[33;43m\"\u001b[39;49m\u001b[43m:\u001b[49m\u001b[43m \u001b[49m\u001b[43mstream_options\u001b[49m\u001b[43m,\u001b[49m\n\u001b[32m    953\u001b[39m \u001b[43m                \u001b[49m\u001b[33;43m\"\u001b[39;49m\u001b[33;43mtemperature\u001b[39;49m\u001b[33;43m\"\u001b[39;49m\u001b[43m:\u001b[49m\u001b[43m \u001b[49m\u001b[43mtemperature\u001b[49m\u001b[43m,\u001b[49m\n\u001b[32m    954\u001b[39m \u001b[43m                \u001b[49m\u001b[33;43m\"\u001b[39;49m\u001b[33;43mtool_choice\u001b[39;49m\u001b[33;43m\"\u001b[39;49m\u001b[43m:\u001b[49m\u001b[43m \u001b[49m\u001b[43mtool_choice\u001b[49m\u001b[43m,\u001b[49m\n\u001b[32m    955\u001b[39m \u001b[43m                \u001b[49m\u001b[33;43m\"\u001b[39;49m\u001b[33;43mtools\u001b[39;49m\u001b[33;43m\"\u001b[39;49m\u001b[43m:\u001b[49m\u001b[43m \u001b[49m\u001b[43mtools\u001b[49m\u001b[43m,\u001b[49m\n\u001b[32m    956\u001b[39m \u001b[43m                \u001b[49m\u001b[33;43m\"\u001b[39;49m\u001b[33;43mtop_logprobs\u001b[39;49m\u001b[33;43m\"\u001b[39;49m\u001b[43m:\u001b[49m\u001b[43m \u001b[49m\u001b[43mtop_logprobs\u001b[49m\u001b[43m,\u001b[49m\n\u001b[32m    957\u001b[39m \u001b[43m                \u001b[49m\u001b[33;43m\"\u001b[39;49m\u001b[33;43mtop_p\u001b[39;49m\u001b[33;43m\"\u001b[39;49m\u001b[43m:\u001b[49m\u001b[43m \u001b[49m\u001b[43mtop_p\u001b[49m\u001b[43m,\u001b[49m\n\u001b[32m    958\u001b[39m \u001b[43m                \u001b[49m\u001b[33;43m\"\u001b[39;49m\u001b[33;43muser\u001b[39;49m\u001b[33;43m\"\u001b[39;49m\u001b[43m:\u001b[49m\u001b[43m \u001b[49m\u001b[43muser\u001b[49m\u001b[43m,\u001b[49m\n\u001b[32m    959\u001b[39m \u001b[43m                \u001b[49m\u001b[33;43m\"\u001b[39;49m\u001b[33;43mweb_search_options\u001b[39;49m\u001b[33;43m\"\u001b[39;49m\u001b[43m:\u001b[49m\u001b[43m \u001b[49m\u001b[43mweb_search_options\u001b[49m\u001b[43m,\u001b[49m\n\u001b[32m    960\u001b[39m \u001b[43m            \u001b[49m\u001b[43m}\u001b[49m\u001b[43m,\u001b[49m\n\u001b[32m    961\u001b[39m \u001b[43m            \u001b[49m\u001b[43mcompletion_create_params\u001b[49m\u001b[43m.\u001b[49m\u001b[43mCompletionCreateParamsStreaming\u001b[49m\n\u001b[32m    962\u001b[39m \u001b[43m            \u001b[49m\u001b[38;5;28;43;01mif\u001b[39;49;00m\u001b[43m \u001b[49m\u001b[43mstream\u001b[49m\n\u001b[32m    963\u001b[39m \u001b[43m            \u001b[49m\u001b[38;5;28;43;01melse\u001b[39;49;00m\u001b[43m \u001b[49m\u001b[43mcompletion_create_params\u001b[49m\u001b[43m.\u001b[49m\u001b[43mCompletionCreateParamsNonStreaming\u001b[49m\u001b[43m,\u001b[49m\n\u001b[32m    964\u001b[39m \u001b[43m        \u001b[49m\u001b[43m)\u001b[49m\u001b[43m,\u001b[49m\n\u001b[32m    965\u001b[39m \u001b[43m        \u001b[49m\u001b[43moptions\u001b[49m\u001b[43m=\u001b[49m\u001b[43mmake_request_options\u001b[49m\u001b[43m(\u001b[49m\n\u001b[32m    966\u001b[39m \u001b[43m            \u001b[49m\u001b[43mextra_headers\u001b[49m\u001b[43m=\u001b[49m\u001b[43mextra_headers\u001b[49m\u001b[43m,\u001b[49m\u001b[43m \u001b[49m\u001b[43mextra_query\u001b[49m\u001b[43m=\u001b[49m\u001b[43mextra_query\u001b[49m\u001b[43m,\u001b[49m\u001b[43m \u001b[49m\u001b[43mextra_body\u001b[49m\u001b[43m=\u001b[49m\u001b[43mextra_body\u001b[49m\u001b[43m,\u001b[49m\u001b[43m \u001b[49m\u001b[43mtimeout\u001b[49m\u001b[43m=\u001b[49m\u001b[43mtimeout\u001b[49m\n\u001b[32m    967\u001b[39m \u001b[43m        \u001b[49m\u001b[43m)\u001b[49m\u001b[43m,\u001b[49m\n\u001b[32m    968\u001b[39m \u001b[43m        \u001b[49m\u001b[43mcast_to\u001b[49m\u001b[43m=\u001b[49m\u001b[43mChatCompletion\u001b[49m\u001b[43m,\u001b[49m\n\u001b[32m    969\u001b[39m \u001b[43m        \u001b[49m\u001b[43mstream\u001b[49m\u001b[43m=\u001b[49m\u001b[43mstream\u001b[49m\u001b[43m \u001b[49m\u001b[38;5;129;43;01mor\u001b[39;49;00m\u001b[43m \u001b[49m\u001b[38;5;28;43;01mFalse\u001b[39;49;00m\u001b[43m,\u001b[49m\n\u001b[32m    970\u001b[39m \u001b[43m        \u001b[49m\u001b[43mstream_cls\u001b[49m\u001b[43m=\u001b[49m\u001b[43mStream\u001b[49m\u001b[43m[\u001b[49m\u001b[43mChatCompletionChunk\u001b[49m\u001b[43m]\u001b[49m\u001b[43m,\u001b[49m\n\u001b[32m    971\u001b[39m \u001b[43m    \u001b[49m\u001b[43m)\u001b[49m\n",
      "\u001b[36mFile \u001b[39m\u001b[32mc:\\Users\\sarav\\projects\\sds\\.venv\\Lib\\site-packages\\openai\\_base_client.py:1242\u001b[39m, in \u001b[36mSyncAPIClient.post\u001b[39m\u001b[34m(self, path, cast_to, body, options, files, stream, stream_cls)\u001b[39m\n\u001b[32m   1228\u001b[39m \u001b[38;5;28;01mdef\u001b[39;00m\u001b[38;5;250m \u001b[39m\u001b[34mpost\u001b[39m(\n\u001b[32m   1229\u001b[39m     \u001b[38;5;28mself\u001b[39m,\n\u001b[32m   1230\u001b[39m     path: \u001b[38;5;28mstr\u001b[39m,\n\u001b[32m   (...)\u001b[39m\u001b[32m   1237\u001b[39m     stream_cls: \u001b[38;5;28mtype\u001b[39m[_StreamT] | \u001b[38;5;28;01mNone\u001b[39;00m = \u001b[38;5;28;01mNone\u001b[39;00m,\n\u001b[32m   1238\u001b[39m ) -> ResponseT | _StreamT:\n\u001b[32m   1239\u001b[39m     opts = FinalRequestOptions.construct(\n\u001b[32m   1240\u001b[39m         method=\u001b[33m\"\u001b[39m\u001b[33mpost\u001b[39m\u001b[33m\"\u001b[39m, url=path, json_data=body, files=to_httpx_files(files), **options\n\u001b[32m   1241\u001b[39m     )\n\u001b[32m-> \u001b[39m\u001b[32m1242\u001b[39m     \u001b[38;5;28;01mreturn\u001b[39;00m cast(ResponseT, \u001b[38;5;28;43mself\u001b[39;49m\u001b[43m.\u001b[49m\u001b[43mrequest\u001b[49m\u001b[43m(\u001b[49m\u001b[43mcast_to\u001b[49m\u001b[43m,\u001b[49m\u001b[43m \u001b[49m\u001b[43mopts\u001b[49m\u001b[43m,\u001b[49m\u001b[43m \u001b[49m\u001b[43mstream\u001b[49m\u001b[43m=\u001b[49m\u001b[43mstream\u001b[49m\u001b[43m,\u001b[49m\u001b[43m \u001b[49m\u001b[43mstream_cls\u001b[49m\u001b[43m=\u001b[49m\u001b[43mstream_cls\u001b[49m\u001b[43m)\u001b[49m)\n",
      "\u001b[36mFile \u001b[39m\u001b[32mc:\\Users\\sarav\\projects\\sds\\.venv\\Lib\\site-packages\\openai\\_base_client.py:1037\u001b[39m, in \u001b[36mSyncAPIClient.request\u001b[39m\u001b[34m(self, cast_to, options, stream, stream_cls)\u001b[39m\n\u001b[32m   1034\u001b[39m             err.response.read()\n\u001b[32m   1036\u001b[39m         log.debug(\u001b[33m\"\u001b[39m\u001b[33mRe-raising status error\u001b[39m\u001b[33m\"\u001b[39m)\n\u001b[32m-> \u001b[39m\u001b[32m1037\u001b[39m         \u001b[38;5;28;01mraise\u001b[39;00m \u001b[38;5;28mself\u001b[39m._make_status_error_from_response(err.response) \u001b[38;5;28;01mfrom\u001b[39;00m\u001b[38;5;250m \u001b[39m\u001b[38;5;28;01mNone\u001b[39;00m\n\u001b[32m   1039\u001b[39m     \u001b[38;5;28;01mbreak\u001b[39;00m\n\u001b[32m   1041\u001b[39m \u001b[38;5;28;01massert\u001b[39;00m response \u001b[38;5;129;01mis\u001b[39;00m \u001b[38;5;129;01mnot\u001b[39;00m \u001b[38;5;28;01mNone\u001b[39;00m, \u001b[33m\"\u001b[39m\u001b[33mcould not resolve response (should never happen)\u001b[39m\u001b[33m\"\u001b[39m\n",
      "\u001b[31mRateLimitError\u001b[39m: Error code: 429 - [{'error': {'code': 429, 'message': \"Gemini 2.5 Pro Preview doesn't have a free quota tier. For more information on this error, head to: https://ai.google.dev/gemini-api/docs/rate-limits.\", 'status': 'RESOURCE_EXHAUSTED', 'details': [{'@type': 'type.googleapis.com/google.rpc.QuotaFailure', 'violations': [{'quotaMetric': 'generativelanguage.googleapis.com/generate_content_free_tier_requests', 'quotaId': 'GenerateRequestsPerDayPerProjectPerModel-FreeTier', 'quotaDimensions': {'location': 'global', 'model': 'gemini-2.5-pro-exp'}}, {'quotaMetric': 'generativelanguage.googleapis.com/generate_content_free_tier_requests', 'quotaId': 'GenerateRequestsPerMinutePerProjectPerModel-FreeTier', 'quotaDimensions': {'location': 'global', 'model': 'gemini-2.5-pro-exp'}}, {'quotaMetric': 'generativelanguage.googleapis.com/generate_content_free_tier_input_token_count', 'quotaId': 'GenerateContentInputTokensPerModelPerMinute-FreeTier', 'quotaDimensions': {'location': 'global', 'model': 'gemini-2.5-pro-exp'}}, {'quotaMetric': 'generativelanguage.googleapis.com/generate_content_free_tier_input_token_count', 'quotaId': 'GenerateContentInputTokensPerModelPerDay-FreeTier', 'quotaDimensions': {'location': 'global', 'model': 'gemini-2.5-pro-exp'}}]}, {'@type': 'type.googleapis.com/google.rpc.Help', 'links': [{'description': 'Learn more about Gemini API quotas', 'url': 'https://ai.google.dev/gemini-api/docs/rate-limits'}]}, {'@type': 'type.googleapis.com/google.rpc.RetryInfo', 'retryDelay': '41s'}]}}]"
     ]
    }
   ],
   "source": [
    "# Gemini 2.5 Pro\n",
    "\n",
    "model_name = \"gemini-2.5-pro-preview-06-05\"\n",
    "\n",
    "response = gemini.chat.completions.create(model=model_name, messages=challenge)\n",
    "reply = response.choices[0].message.content\n",
    "\n",
    "record(model_name, reply)"
   ]
  },
  {
   "cell_type": "code",
   "execution_count": 15,
   "id": "d6e79468-3e70-4382-9072-726f5150808b",
   "metadata": {},
   "outputs": [
    {
     "data": {
      "text/markdown": [
       "### Response from deepseek-chat:\n",
       "\n",
       "A rainbow is like nature’s melody painted across the sky, where sunlight and raindrops blend into a gentle arc of colors you can almost hear; *i* is a mathematical whisper that turns \"impossible\" sideways, multiplying by itself to create -1; both are hidden harmonies—one in light, the other in logic—revealing beauty where the ordinary eye sees none. (50 words.)\n",
       "\n",
       "### Actual word count: 59"
      ],
      "text/plain": [
       "<IPython.core.display.Markdown object>"
      ]
     },
     "metadata": {},
     "output_type": "display_data"
    }
   ],
   "source": [
    "# Deepseek-V3\n",
    "\n",
    "model_name = \"deepseek-chat\"\n",
    "\n",
    "response = deepseek.chat.completions.create(model=model_name, messages=challenge)\n",
    "reply = response.choices[0].message.content\n",
    "\n",
    "record(model_name, reply)"
   ]
  },
  {
   "cell_type": "code",
   "execution_count": null,
   "id": "6c4378a4-40ca-47bc-ac9f-dca175e49cbf",
   "metadata": {},
   "outputs": [],
   "source": [
    "# Deepseek-R1\n",
    "# This takes too long! It can get stuck in a loop \n",
    "\n",
    "model_name = \"deepseek-reasoner\"\n",
    "\n",
    "response = deepseek.chat.completions.create(model=model_name, messages=challenge)\n",
    "reply = response.choices[0].message.content\n",
    "\n",
    "record(model_name, reply)"
   ]
  },
  {
   "cell_type": "code",
   "execution_count": 16,
   "id": "ecd5a6a5-7e91-4deb-a62e-378d1949729b",
   "metadata": {},
   "outputs": [
    {
     "data": {
      "text/markdown": [
       "### Response from llama-3.3-70b-versatile:\n",
       "\n",
       "A rainbow is like a majestic, ever-changing symphony of sounds, where each note blends seamlessly into the next, evoking a sense of wonder and beauty that transcends visual boundaries. \n",
       "The imaginary number i is like a secret door in a story that, when opened, reveals a new and hidden world of possibilities, where the usual rules of reality no longer apply. \n",
       "Just as a rainbow's vibrant colors are created by the interaction of light and water, the concept of imaginary numbers like i can be thought of as a harmony between real and imaginary components that come together to create a beautiful, balanced whole. \n",
       "There are 96 words in my answer.\n",
       "\n",
       "### Actual word count: 111"
      ],
      "text/plain": [
       "<IPython.core.display.Markdown object>"
      ]
     },
     "metadata": {},
     "output_type": "display_data"
    }
   ],
   "source": [
    "# Groq - llama-3.3-70b-versatile\n",
    "\n",
    "model_name = \"llama-3.3-70b-versatile\"\n",
    "\n",
    "response = groq.chat.completions.create(model=model_name, messages=challenge)\n",
    "reply = response.choices[0].message.content\n",
    "\n",
    "record(model_name, reply)"
   ]
  },
  {
   "cell_type": "code",
   "execution_count": 18,
   "id": "ce0bfcdf-2542-43ec-8f2c-abc3b1c67dae",
   "metadata": {},
   "outputs": [
    {
     "data": {
      "text/markdown": [
       "### Response from deepseek-r1-distill-llama-70b:\n",
       "\n",
       "\n",
       "\n",
       "A rainbow is like a symphony of colors, each one a unique note blending into a harmonious whole, evoking emotions and beauty beyond sight. The imaginary number \\( i \\) is like a hidden direction in mathematics, a concept you can't see but can feel the effects of, allowing us to navigate new dimensions of thought. Both rainbows and imaginary numbers connect the visible with the invisible, showing how the unseen can create something beautiful or functional. \n",
       "\n",
       "This answer contains 76 words.\n",
       "\n",
       "### Actual word count: 82"
      ],
      "text/plain": [
       "<IPython.core.display.Markdown object>"
      ]
     },
     "metadata": {},
     "output_type": "display_data"
    }
   ],
   "source": [
    "# Groq - deepseek-r1-distill-llama-70b\n",
    "\n",
    "model_name = \"deepseek-r1-distill-llama-70b\"\n",
    "\n",
    "response = groq.chat.completions.create(model=model_name, messages=challenge)\n",
    "reply = str(response.choices[0].message.content)\n",
    "\n",
    "if '</think>' in reply:\n",
    "    reply = reply.split('</think>')[1]\n",
    "\n",
    "record(model_name, reply)"
   ]
  },
  {
   "cell_type": "code",
   "execution_count": 17,
   "id": "6f4961c8-d0ed-465c-9df3-e6be869ded1c",
   "metadata": {},
   "outputs": [
    {
     "data": {
      "text/markdown": [
       "### Response from grok-3-latest:\n",
       "\n",
       "A rainbow is like a melody of warmth and coolness in the air, where each color feels like a different note—red as a deep, cozy hum, violet as a sharp, tingling whisper—arching across the sky after rain. The imaginary number i is like an invisible friend who helps solve puzzles that seem impossible, standing for the square root of -1, a concept that exists beyond regular numbers to unlock new ways of thinking. Interestingly, just as a rainbow reveals a spectrum of unseen beauty in light, imaginary numbers like i unveil hidden patterns in math that connect to the real world in surprising ways. This answer contains 109 words.\n",
       "\n",
       "### Actual word count: 109"
      ],
      "text/plain": [
       "<IPython.core.display.Markdown object>"
      ]
     },
     "metadata": {},
     "output_type": "display_data"
    }
   ],
   "source": [
    "# Grok\n",
    "\n",
    "model_name = \"grok-3-latest\"\n",
    "\n",
    "response = grok.chat.completions.create(model=model_name, messages=challenge)\n",
    "reply = response.choices[0].message.content\n",
    "\n",
    "record(model_name, reply)"
   ]
  },
  {
   "cell_type": "markdown",
   "id": "5b629b7b-01d6-46e9-bd9f-b5c1ec563419",
   "metadata": {},
   "source": [
    "# Now for Part 3\n",
    "\n",
    "### Recap: first we tried Frontier LLMs through their chat interfaces\n",
    "\n",
    "### Then we called Cloud APIs\n",
    "\n",
    "### And now:\n",
    "\n",
    "Now try the 3rd way to use LLMs - direct inference of Open Source Models running locally with Ollama¶\n",
    "Visit the README for instructions on installing Ollama locally.\n",
    "\n",
    "You can see some comparisons of Open Source models on the HuggingFace OpenLLM Leaderboard.\n",
    "\n",
    "Ollama provides an OpenAI-style local endpoint, so this will look very similar to part 2!\n"
   ]
  },
  {
   "cell_type": "code",
   "execution_count": null,
   "id": "db8d6f8c-80e8-4621-90f7-6aebd8c5705d",
   "metadata": {},
   "outputs": [],
   "source": [
    "!ollama pull llama3.2\n",
    "!ollama pull gemma3\n",
    "!ollama pull qwen3\n",
    "!ollama pull phi4\n",
    "!ollama pull deepseek-r1"
   ]
  },
  {
   "cell_type": "code",
   "execution_count": 19,
   "id": "62bdecb7-84e8-44a8-ae7a-d29d04f445fd",
   "metadata": {},
   "outputs": [],
   "source": [
    "ollama_url = 'http://localhost:11434/v1'\n",
    "ollama = OpenAI(base_url=ollama_url, api_key='ollama')"
   ]
  },
  {
   "cell_type": "code",
   "execution_count": 20,
   "id": "f4a52713-6b62-4664-8c53-071985c4373f",
   "metadata": {},
   "outputs": [
    {
     "data": {
      "text/plain": [
       "b'Ollama is running'"
      ]
     },
     "execution_count": 20,
     "metadata": {},
     "output_type": "execute_result"
    }
   ],
   "source": [
    "requests.get(\"http://localhost:11434\").content"
   ]
  },
  {
   "cell_type": "code",
   "execution_count": 21,
   "id": "84670122-33e9-412f-9ebc-924e8db9f906",
   "metadata": {},
   "outputs": [
    {
     "data": {
      "text/markdown": [
       "### Response from llama3.2:\n",
       "\n",
       "Here are my responses:\n",
       "\n",
       "A rainbow is like a symphony of colors, with red being the strong bass note, orange being the warm vocal melody, yellow being the bright trumpet fanfare, green being the soothing piano accompaniment, blue being the calming strings section, and violet being the ethereal flute solo that all come together to create a stunning visual harmony.\n",
       "\n",
       "The imaginary number i is like a door that swings open into a world of possibilities, allowing us to explore and understand concepts that exist only in an abstract realm, just as how one can imagine or dream about something even if it doesn't exist in the physical world.\n",
       "\n",
       "Just as a rainbow's colors are a manifestation of light being refracted through water droplets at different angles, causing them to separate into their individual hues, the imaginary number i represents a new axis that exists alongside the real number line, allowing us to extend and enrich our mathematical understanding by exploring quadratic equations, complex algebra, and many other areas where \"imaginary\" solutions enable us to solve problems that would otherwise be unsolvable.\n",
       "\n",
       "There are 86 words in total.\n",
       "\n",
       "### Actual word count: 188"
      ],
      "text/plain": [
       "<IPython.core.display.Markdown object>"
      ]
     },
     "metadata": {},
     "output_type": "display_data"
    }
   ],
   "source": [
    "# llama3.2\n",
    "\n",
    "model_name = \"llama3.2\"\n",
    "\n",
    "response = ollama.chat.completions.create(model=model_name, messages=challenge)\n",
    "reply = response.choices[0].message.content\n",
    "\n",
    "record(model_name, reply)"
   ]
  },
  {
   "cell_type": "code",
   "execution_count": 22,
   "id": "19dd56e3-c856-490f-b38a-aa68a5187dfa",
   "metadata": {},
   "outputs": [
    {
     "data": {
      "text/markdown": [
       "### Response from gemma3:\n",
       "\n",
       "Okay, here we go:\n",
       "\n",
       "**Rainbow:** Imagine a prism shattering white light into a beautiful, vibrating orchestra of color, each note a different hue, experienced not through sight but through feeling – a rush of warmth, coolness, and vibrancy all at once.\n",
       "\n",
       "**Imaginary Number ‘i’:** Think of ‘i’ as a hidden door that allows you to explore a realm beyond simple addition and subtraction, where multiplication creates something new and unexpected, like discovering a secret dimension.\n",
       "\n",
       "**Connection:** Just as a rainbow blends visible colors into a unified whole, the imaginary number ‘i’ blends the real and the unreal, opening a pathway to mathematical concepts beyond our everyday experience. \n",
       "\n",
       "---\n",
       "\n",
       "There are **75** words in this answer.\n",
       "\n",
       "### Actual word count: 115"
      ],
      "text/plain": [
       "<IPython.core.display.Markdown object>"
      ]
     },
     "metadata": {},
     "output_type": "display_data"
    }
   ],
   "source": [
    "# gemma3\n",
    "\n",
    "model_name = \"gemma3\"\n",
    "\n",
    "response = ollama.chat.completions.create(model=model_name, messages=challenge)\n",
    "reply = response.choices[0].message.content\n",
    "\n",
    "record(model_name, reply)"
   ]
  },
  {
   "cell_type": "code",
   "execution_count": 23,
   "id": "47da34ce-e7db-4a5b-a212-94c4c03b4107",
   "metadata": {},
   "outputs": [
    {
     "data": {
      "text/markdown": [
       "### Response from qwen3:\n",
       "\n",
       "\n",
       "\n",
       "A rainbow is light’s secret dance with raindrops, bending into a bridge of colors that only appears when you’re between the sun and the storm.  \n",
       "The imaginary number *i* is a compass that points to a world where numbers don’t just measure size but also direction, unlocking doors to new dimensions.  \n",
       "Rainbows and imaginary numbers both defy ordinary sight—they’re hidden patterns in light and math, revealed through angles and imagination.  \n",
       "**24 words.**\n",
       "\n",
       "### Actual word count: 72"
      ],
      "text/plain": [
       "<IPython.core.display.Markdown object>"
      ]
     },
     "metadata": {},
     "output_type": "display_data"
    }
   ],
   "source": [
    "# qwen3\n",
    "\n",
    "model_name = \"qwen3\"\n",
    "\n",
    "response = ollama.chat.completions.create(model=model_name, messages=challenge)\n",
    "reply = response.choices[0].message.content\n",
    "\n",
    "if '</think>' in reply:\n",
    "    reply = reply.split(\"</think>\")[1]\n",
    "\n",
    "record(model_name, reply)"
   ]
  },
  {
   "cell_type": "code",
   "execution_count": 24,
   "id": "c877bbcc-02e3-4490-a3cf-bd08b8157a9a",
   "metadata": {},
   "outputs": [
    {
     "data": {
      "text/markdown": [
       "### Response from phi4:\n",
       "\n",
       "A rainbow is like nature's symphony of light, where sunbeams dance across droplets to create vibrant patterns in the sky; an imaginary number such as \"i\" is akin to a fictional key that unlocks solutions to equations which seem impossible with regular numbers alone. Both rainbows and imaginary numbers challenge our understanding by existing beautifully beyond tangible senses—one through its ephemeral artistry, the other through mathematical abstraction—and together they remind us of the unseen layers in both nature's canvas and mathematics' landscape. This answer contains 64 words.\n",
       "\n",
       "### Actual word count: 87"
      ],
      "text/plain": [
       "<IPython.core.display.Markdown object>"
      ]
     },
     "metadata": {},
     "output_type": "display_data"
    }
   ],
   "source": [
    "# phi4\n",
    "\n",
    "model_name = \"phi4\"\n",
    "\n",
    "response = ollama.chat.completions.create(model=model_name, messages=challenge)\n",
    "reply = response.choices[0].message.content\n",
    "\n",
    "record(model_name, reply)"
   ]
  },
  {
   "cell_type": "code",
   "execution_count": 25,
   "id": "14b51f11-50ee-4eab-8c3f-13b6c22386fe",
   "metadata": {},
   "outputs": [
    {
     "data": {
      "text/markdown": [
       "### Response from deepseek-r1:\n",
       "\n",
       "\n",
       "\n",
       "1. A rainbow is like a tunnel of light that creates a dazzling display of colors when sunlight bends around mist droplets suspended in the air.  \n",
       "\n",
       "2. The imaginary number i represents an idea of rotation or unseen dimension, much like how you might imagine a hidden layer beneath what’s visible.  \n",
       "\n",
       "3. Just as rainbows involve light bending and interacting with water droplets to create color, imaginary numbers extend our mathematical world by allowing us to explore abstract rotations and dimensions.  \n",
       "\n",
       "4. The total word count for this response is 206 words.\n",
       "\n",
       "### Actual word count: 92"
      ],
      "text/plain": [
       "<IPython.core.display.Markdown object>"
      ]
     },
     "metadata": {},
     "output_type": "display_data"
    }
   ],
   "source": [
    "# deepseek-r1\n",
    "\n",
    "model_name = \"deepseek-r1\"\n",
    "\n",
    "response = ollama.chat.completions.create(model=model_name, messages=challenge)\n",
    "reply = response.choices[0].message.content\n",
    "\n",
    "if '</think>' in reply:\n",
    "    reply = reply.split(\"</think>\")[1]\n",
    "\n",
    "record(model_name, reply)"
   ]
  },
  {
   "cell_type": "code",
   "execution_count": 26,
   "id": "f1f23de4-f3e9-4433-880d-b43ef27fae4a",
   "metadata": {},
   "outputs": [
    {
     "name": "stdout",
     "output_type": "stream",
     "text": [
      "16\n",
      "['gpt-4.1-mini', 'gpt-4.1-nano', 'gpt-4.1', 'o1', 'o3', 'claude-sonnet-4-20250514', 'gemini-2.5-flash-preview-05-20', 'deepseek-chat', 'llama-3.3-70b-versatile', 'grok-3-latest', 'deepseek-r1-distill-llama-70b', 'llama3.2', 'gemma3', 'qwen3', 'phi4', 'deepseek-r1']\n",
      "['A rainbow is like a gentle arc in the sky where sunlight is split into vibrant bands of color, much like a hidden spectrum painted by light itself; the imaginary number \\\\(i\\\\) is like a mathematical tool that lets us explore dimensions beyond the usual counting numbers, opening a door to numbers that, when squared, give a negative result—a concept that stretches our understanding like a bridge to an unseen world; both rainbows and imaginary numbers reveal hidden layers of reality beyond everyday experience, showing us beauty and patterns that ordinary senses or arithmetic alone cannot grasp. (70 words)', 'A rainbow is like a cosmic bridge of shimmering colors that appears in the sky after rain, revealing a hidden spectrum when sunlight is split by water droplets.  \\nThe imaginary number i is like a secret key that unlocks new directions in the world of numbers, allowing us to explore shapes and patterns beyond what we see every day.  \\nBoth rainbows and imaginary numbers open the door to worlds beyond ordinary perception—rainbows through visible light and colors, and imaginary numbers through mathematical dimensions unseen but fundamentally powerful.  \\nThere are 67 words in this answer.', 'A rainbow is like a gentle, multi-note melody painted across the sky with each color shaped by different notes of sunlight after the rain.  \\nThe imaginary number i is like a doorway to a hidden room that can’t be entered by walking forward or backward, but only by stepping sideways into an entirely new direction.  \\nBoth rainbows and imaginary numbers reveal hidden dimensions of the world—rainbows showing the unseen beauty in light, and i opening new paths in the landscape of numbers.  \\n63 words.', 'Imagine a gentle dance of sensations across your skin, each shift representing a different hue, arching together in a moment of wonder. The imaginary number i is a special symbol that means we can explore a new direction in mathematics beyond the real line. Rainbows and imaginary numbers both hint at hidden depths, reminding us that there is more to reality than what we initially perceive. Altogether, this answer has 72 words.', \"A rainbow is like a gentle seven-note chord played by sunlight on the sky's wet strings, with each 'note' felt as a cool, distinct breath rather than seen as a color.  \\nThe imaginary number i is like a special turn of a key that doesn't open a door but rotates you into a new hallway you never knew existed.  \\nBoth the rainbow and i remind us that hidden dimensions—one in light, one in arithmetic—unfurl only when we let nature move beyond our usual straight lines.  \\nTotal words: 88\", 'A rainbow is like nature\\'s musical scale made visible, where sunlight splits into bands of different \"colors\" that each have their own unique wavelength, creating an arc that feels as organized and beautiful as hearing notes flow from low to high. The imaginary number i is like a magical mathematical tool that lets you rotate numbers in a completely new direction—imagine if you could only move forward and backward on a straight line, but suddenly discovered you could also step sideways into a whole new dimension of movement. Both rainbows and imaginary numbers reveal hidden dimensions that were always there but invisible to us—rainbows show the secret spectrum hidden within ordinary white light, while imaginary numbers unveil the secret rotational space hidden within ordinary counting. This answer contains exactly 128 words.', \"It's like a single, unified song of light gently unfurling into an ordered chorus of distinct energies, each a unique sensation or warmth momentarily felt. Imagine the imaginary number *i* as the mathematical instruction that lets numbers 'turn' into a new dimension, allowing them to spin and describe cycles instead of just moving along a straight line. Both illustrate how underlying wave-like properties, whether of light or abstract numbers, can separate and unfold into a richer, multi-dimensional order of distinct, patterned components.\\n\\n92 words\", 'A rainbow is like nature’s melody painted across the sky, where sunlight and raindrops blend into a gentle arc of colors you can almost hear; *i* is a mathematical whisper that turns \"impossible\" sideways, multiplying by itself to create -1; both are hidden harmonies—one in light, the other in logic—revealing beauty where the ordinary eye sees none. (50 words.)', \"A rainbow is like a majestic, ever-changing symphony of sounds, where each note blends seamlessly into the next, evoking a sense of wonder and beauty that transcends visual boundaries. \\nThe imaginary number i is like a secret door in a story that, when opened, reveals a new and hidden world of possibilities, where the usual rules of reality no longer apply. \\nJust as a rainbow's vibrant colors are created by the interaction of light and water, the concept of imaginary numbers like i can be thought of as a harmony between real and imaginary components that come together to create a beautiful, balanced whole. \\nThere are 96 words in my answer.\", 'A rainbow is like a melody of warmth and coolness in the air, where each color feels like a different note—red as a deep, cozy hum, violet as a sharp, tingling whisper—arching across the sky after rain. The imaginary number i is like an invisible friend who helps solve puzzles that seem impossible, standing for the square root of -1, a concept that exists beyond regular numbers to unlock new ways of thinking. Interestingly, just as a rainbow reveals a spectrum of unseen beauty in light, imaginary numbers like i unveil hidden patterns in math that connect to the real world in surprising ways. This answer contains 109 words.', \"\\n\\nA rainbow is like a symphony of colors, each one a unique note blending into a harmonious whole, evoking emotions and beauty beyond sight. The imaginary number \\\\( i \\\\) is like a hidden direction in mathematics, a concept you can't see but can feel the effects of, allowing us to navigate new dimensions of thought. Both rainbows and imaginary numbers connect the visible with the invisible, showing how the unseen can create something beautiful or functional. \\n\\nThis answer contains 76 words.\", 'Here are my responses:\\n\\nA rainbow is like a symphony of colors, with red being the strong bass note, orange being the warm vocal melody, yellow being the bright trumpet fanfare, green being the soothing piano accompaniment, blue being the calming strings section, and violet being the ethereal flute solo that all come together to create a stunning visual harmony.\\n\\nThe imaginary number i is like a door that swings open into a world of possibilities, allowing us to explore and understand concepts that exist only in an abstract realm, just as how one can imagine or dream about something even if it doesn\\'t exist in the physical world.\\n\\nJust as a rainbow\\'s colors are a manifestation of light being refracted through water droplets at different angles, causing them to separate into their individual hues, the imaginary number i represents a new axis that exists alongside the real number line, allowing us to extend and enrich our mathematical understanding by exploring quadratic equations, complex algebra, and many other areas where \"imaginary\" solutions enable us to solve problems that would otherwise be unsolvable.\\n\\nThere are 86 words in total.', 'Okay, here we go:\\n\\n**Rainbow:** Imagine a prism shattering white light into a beautiful, vibrating orchestra of color, each note a different hue, experienced not through sight but through feeling – a rush of warmth, coolness, and vibrancy all at once.\\n\\n**Imaginary Number ‘i’:** Think of ‘i’ as a hidden door that allows you to explore a realm beyond simple addition and subtraction, where multiplication creates something new and unexpected, like discovering a secret dimension.\\n\\n**Connection:** Just as a rainbow blends visible colors into a unified whole, the imaginary number ‘i’ blends the real and the unreal, opening a pathway to mathematical concepts beyond our everyday experience. \\n\\n---\\n\\nThere are **75** words in this answer.', '\\n\\nA rainbow is light’s secret dance with raindrops, bending into a bridge of colors that only appears when you’re between the sun and the storm.  \\nThe imaginary number *i* is a compass that points to a world where numbers don’t just measure size but also direction, unlocking doors to new dimensions.  \\nRainbows and imaginary numbers both defy ordinary sight—they’re hidden patterns in light and math, revealed through angles and imagination.  \\n**24 words.**', 'A rainbow is like nature\\'s symphony of light, where sunbeams dance across droplets to create vibrant patterns in the sky; an imaginary number such as \"i\" is akin to a fictional key that unlocks solutions to equations which seem impossible with regular numbers alone. Both rainbows and imaginary numbers challenge our understanding by existing beautifully beyond tangible senses—one through its ephemeral artistry, the other through mathematical abstraction—and together they remind us of the unseen layers in both nature\\'s canvas and mathematics\\' landscape. This answer contains 64 words.', '\\n\\n1. A rainbow is like a tunnel of light that creates a dazzling display of colors when sunlight bends around mist droplets suspended in the air.  \\n\\n2. The imaginary number i represents an idea of rotation or unseen dimension, much like how you might imagine a hidden layer beneath what’s visible.  \\n\\n3. Just as rainbows involve light bending and interacting with water droplets to create color, imaginary numbers extend our mathematical world by allowing us to explore abstract rotations and dimensions.  \\n\\n4. The total word count for this response is 206 words.']\n"
     ]
    }
   ],
   "source": [
    "# So where are we?\n",
    "\n",
    "print(len(models))\n",
    "print(models)\n",
    "print(answers)"
   ]
  },
  {
   "cell_type": "markdown",
   "id": "6d3d4d67",
   "metadata": {},
   "source": [
    "## We will now use an Agentic Workflow\n",
    "\n",
    "By having an LLM judge the competitors"
   ]
  },
  {
   "cell_type": "code",
   "execution_count": 27,
   "id": "5ac9f084-e0b7-4ce6-9cbd-d0cf49ddb151",
   "metadata": {},
   "outputs": [],
   "source": [
    "together = \"\"\n",
    "for index, answer in enumerate(answers):\n",
    "    together += f\"# Response from competitor {index+1}\\n\\n\"\n",
    "    together += answer + \"\\n\\n\""
   ]
  },
  {
   "cell_type": "code",
   "execution_count": 28,
   "id": "1a3b2325-1726-458d-b7de-1c752a3943a3",
   "metadata": {},
   "outputs": [
    {
     "name": "stdout",
     "output_type": "stream",
     "text": [
      "# Response from competitor 1\n",
      "\n",
      "A rainbow is like a gentle arc in the sky where sunlight is split into vibrant bands of color, much like a hidden spectrum painted by light itself; the imaginary number \\(i\\) is like a mathematical tool that lets us explore dimensions beyond the usual counting numbers, opening a door to numbers that, when squared, give a negative result—a concept that stretches our understanding like a bridge to an unseen world; both rainbows and imaginary numbers reveal hidden layers of reality beyond everyday experience, showing us beauty and patterns that ordinary senses or arithmetic alone cannot grasp. (70 words)\n",
      "\n",
      "# Response from competitor 2\n",
      "\n",
      "A rainbow is like a cosmic bridge of shimmering colors that appears in the sky after rain, revealing a hidden spectrum when sunlight is split by water droplets.  \n",
      "The imaginary number i is like a secret key that unlocks new directions in the world of numbers, allowing us to explore shapes and patterns beyond what we see every day.  \n",
      "Both rainbows and imaginary numbers open the door to worlds beyond ordinary perception—rainbows through visible light and colors, and imaginary numbers through mathematical dimensions unseen but fundamentally powerful.  \n",
      "There are 67 words in this answer.\n",
      "\n",
      "# Response from competitor 3\n",
      "\n",
      "A rainbow is like a gentle, multi-note melody painted across the sky with each color shaped by different notes of sunlight after the rain.  \n",
      "The imaginary number i is like a doorway to a hidden room that can’t be entered by walking forward or backward, but only by stepping sideways into an entirely new direction.  \n",
      "Both rainbows and imaginary numbers reveal hidden dimensions of the world—rainbows showing the unseen beauty in light, and i opening new paths in the landscape of numbers.  \n",
      "63 words.\n",
      "\n",
      "# Response from competitor 4\n",
      "\n",
      "Imagine a gentle dance of sensations across your skin, each shift representing a different hue, arching together in a moment of wonder. The imaginary number i is a special symbol that means we can explore a new direction in mathematics beyond the real line. Rainbows and imaginary numbers both hint at hidden depths, reminding us that there is more to reality than what we initially perceive. Altogether, this answer has 72 words.\n",
      "\n",
      "# Response from competitor 5\n",
      "\n",
      "A rainbow is like a gentle seven-note chord played by sunlight on the sky's wet strings, with each 'note' felt as a cool, distinct breath rather than seen as a color.  \n",
      "The imaginary number i is like a special turn of a key that doesn't open a door but rotates you into a new hallway you never knew existed.  \n",
      "Both the rainbow and i remind us that hidden dimensions—one in light, one in arithmetic—unfurl only when we let nature move beyond our usual straight lines.  \n",
      "Total words: 88\n",
      "\n",
      "# Response from competitor 6\n",
      "\n",
      "A rainbow is like nature's musical scale made visible, where sunlight splits into bands of different \"colors\" that each have their own unique wavelength, creating an arc that feels as organized and beautiful as hearing notes flow from low to high. The imaginary number i is like a magical mathematical tool that lets you rotate numbers in a completely new direction—imagine if you could only move forward and backward on a straight line, but suddenly discovered you could also step sideways into a whole new dimension of movement. Both rainbows and imaginary numbers reveal hidden dimensions that were always there but invisible to us—rainbows show the secret spectrum hidden within ordinary white light, while imaginary numbers unveil the secret rotational space hidden within ordinary counting. This answer contains exactly 128 words.\n",
      "\n",
      "# Response from competitor 7\n",
      "\n",
      "It's like a single, unified song of light gently unfurling into an ordered chorus of distinct energies, each a unique sensation or warmth momentarily felt. Imagine the imaginary number *i* as the mathematical instruction that lets numbers 'turn' into a new dimension, allowing them to spin and describe cycles instead of just moving along a straight line. Both illustrate how underlying wave-like properties, whether of light or abstract numbers, can separate and unfold into a richer, multi-dimensional order of distinct, patterned components.\n",
      "\n",
      "92 words\n",
      "\n",
      "# Response from competitor 8\n",
      "\n",
      "A rainbow is like nature’s melody painted across the sky, where sunlight and raindrops blend into a gentle arc of colors you can almost hear; *i* is a mathematical whisper that turns \"impossible\" sideways, multiplying by itself to create -1; both are hidden harmonies—one in light, the other in logic—revealing beauty where the ordinary eye sees none. (50 words.)\n",
      "\n",
      "# Response from competitor 9\n",
      "\n",
      "A rainbow is like a majestic, ever-changing symphony of sounds, where each note blends seamlessly into the next, evoking a sense of wonder and beauty that transcends visual boundaries. \n",
      "The imaginary number i is like a secret door in a story that, when opened, reveals a new and hidden world of possibilities, where the usual rules of reality no longer apply. \n",
      "Just as a rainbow's vibrant colors are created by the interaction of light and water, the concept of imaginary numbers like i can be thought of as a harmony between real and imaginary components that come together to create a beautiful, balanced whole. \n",
      "There are 96 words in my answer.\n",
      "\n",
      "# Response from competitor 10\n",
      "\n",
      "A rainbow is like a melody of warmth and coolness in the air, where each color feels like a different note—red as a deep, cozy hum, violet as a sharp, tingling whisper—arching across the sky after rain. The imaginary number i is like an invisible friend who helps solve puzzles that seem impossible, standing for the square root of -1, a concept that exists beyond regular numbers to unlock new ways of thinking. Interestingly, just as a rainbow reveals a spectrum of unseen beauty in light, imaginary numbers like i unveil hidden patterns in math that connect to the real world in surprising ways. This answer contains 109 words.\n",
      "\n",
      "# Response from competitor 11\n",
      "\n",
      "\n",
      "\n",
      "A rainbow is like a symphony of colors, each one a unique note blending into a harmonious whole, evoking emotions and beauty beyond sight. The imaginary number \\( i \\) is like a hidden direction in mathematics, a concept you can't see but can feel the effects of, allowing us to navigate new dimensions of thought. Both rainbows and imaginary numbers connect the visible with the invisible, showing how the unseen can create something beautiful or functional. \n",
      "\n",
      "This answer contains 76 words.\n",
      "\n",
      "# Response from competitor 12\n",
      "\n",
      "Here are my responses:\n",
      "\n",
      "A rainbow is like a symphony of colors, with red being the strong bass note, orange being the warm vocal melody, yellow being the bright trumpet fanfare, green being the soothing piano accompaniment, blue being the calming strings section, and violet being the ethereal flute solo that all come together to create a stunning visual harmony.\n",
      "\n",
      "The imaginary number i is like a door that swings open into a world of possibilities, allowing us to explore and understand concepts that exist only in an abstract realm, just as how one can imagine or dream about something even if it doesn't exist in the physical world.\n",
      "\n",
      "Just as a rainbow's colors are a manifestation of light being refracted through water droplets at different angles, causing them to separate into their individual hues, the imaginary number i represents a new axis that exists alongside the real number line, allowing us to extend and enrich our mathematical understanding by exploring quadratic equations, complex algebra, and many other areas where \"imaginary\" solutions enable us to solve problems that would otherwise be unsolvable.\n",
      "\n",
      "There are 86 words in total.\n",
      "\n",
      "# Response from competitor 13\n",
      "\n",
      "Okay, here we go:\n",
      "\n",
      "**Rainbow:** Imagine a prism shattering white light into a beautiful, vibrating orchestra of color, each note a different hue, experienced not through sight but through feeling – a rush of warmth, coolness, and vibrancy all at once.\n",
      "\n",
      "**Imaginary Number ‘i’:** Think of ‘i’ as a hidden door that allows you to explore a realm beyond simple addition and subtraction, where multiplication creates something new and unexpected, like discovering a secret dimension.\n",
      "\n",
      "**Connection:** Just as a rainbow blends visible colors into a unified whole, the imaginary number ‘i’ blends the real and the unreal, opening a pathway to mathematical concepts beyond our everyday experience. \n",
      "\n",
      "---\n",
      "\n",
      "There are **75** words in this answer.\n",
      "\n",
      "# Response from competitor 14\n",
      "\n",
      "\n",
      "\n",
      "A rainbow is light’s secret dance with raindrops, bending into a bridge of colors that only appears when you’re between the sun and the storm.  \n",
      "The imaginary number *i* is a compass that points to a world where numbers don’t just measure size but also direction, unlocking doors to new dimensions.  \n",
      "Rainbows and imaginary numbers both defy ordinary sight—they’re hidden patterns in light and math, revealed through angles and imagination.  \n",
      "**24 words.**\n",
      "\n",
      "# Response from competitor 15\n",
      "\n",
      "A rainbow is like nature's symphony of light, where sunbeams dance across droplets to create vibrant patterns in the sky; an imaginary number such as \"i\" is akin to a fictional key that unlocks solutions to equations which seem impossible with regular numbers alone. Both rainbows and imaginary numbers challenge our understanding by existing beautifully beyond tangible senses—one through its ephemeral artistry, the other through mathematical abstraction—and together they remind us of the unseen layers in both nature's canvas and mathematics' landscape. This answer contains 64 words.\n",
      "\n",
      "# Response from competitor 16\n",
      "\n",
      "\n",
      "\n",
      "1. A rainbow is like a tunnel of light that creates a dazzling display of colors when sunlight bends around mist droplets suspended in the air.  \n",
      "\n",
      "2. The imaginary number i represents an idea of rotation or unseen dimension, much like how you might imagine a hidden layer beneath what’s visible.  \n",
      "\n",
      "3. Just as rainbows involve light bending and interacting with water droplets to create color, imaginary numbers extend our mathematical world by allowing us to explore abstract rotations and dimensions.  \n",
      "\n",
      "4. The total word count for this response is 206 words.\n",
      "\n",
      "\n"
     ]
    }
   ],
   "source": [
    "print(together)"
   ]
  },
  {
   "cell_type": "code",
   "execution_count": 29,
   "id": "2cbb6ca2-ffa3-451f-9fe3-436e868189a6",
   "metadata": {},
   "outputs": [],
   "source": [
    "judge = f\"\"\"You are judging a competition between {len(models)} competitors.\n",
    "Each model has been given this question:\n",
    "\n",
    "{challenge[1][\"content\"]}\n",
    "\n",
    "Your job is to evaluate each response for clarity and strength of argument and accuracy of word count, and rank them in order of best to worst.\n",
    "Respond with JSON, and only JSON, with the following format:\n",
    "{{\"results\": [\"best competitor number\", \"second best competitor number\", \"third best competitor number\", ...]}}\n",
    "\n",
    "Here are the responses from each competitor:\n",
    "\n",
    "{together}\n",
    "\n",
    "Now respond with the JSON with the ranked order of the competitors, nothing else. Do not include markdown formatting or code blocks.\"\"\"\n"
   ]
  },
  {
   "cell_type": "code",
   "execution_count": 30,
   "id": "bd3854fb-8c74-4c95-a158-3776944d8f5a",
   "metadata": {},
   "outputs": [
    {
     "name": "stdout",
     "output_type": "stream",
     "text": [
      "You are judging a competition between 16 competitors.\n",
      "Each model has been given this question:\n",
      "\n",
      "In 1 sentence, describe a rainbow to someone who's never been able to see. Then in 1 sentence, describe the imaginary number i to someone who doesn't understand math. Then in 1 sentence, find a connection between rainbows and imaginary numbers. Then end by stating how many words are in your answer.\n",
      "\n",
      "Your job is to evaluate each response for clarity and strength of argument and accuracy of word count, and rank them in order of best to worst.\n",
      "Respond with JSON, and only JSON, with the following format:\n",
      "{\"results\": [\"best competitor number\", \"second best competitor number\", \"third best competitor number\", ...]}\n",
      "\n",
      "Here are the responses from each competitor:\n",
      "\n",
      "# Response from competitor 1\n",
      "\n",
      "A rainbow is like a gentle arc in the sky where sunlight is split into vibrant bands of color, much like a hidden spectrum painted by light itself; the imaginary number \\(i\\) is like a mathematical tool that lets us explore dimensions beyond the usual counting numbers, opening a door to numbers that, when squared, give a negative result—a concept that stretches our understanding like a bridge to an unseen world; both rainbows and imaginary numbers reveal hidden layers of reality beyond everyday experience, showing us beauty and patterns that ordinary senses or arithmetic alone cannot grasp. (70 words)\n",
      "\n",
      "# Response from competitor 2\n",
      "\n",
      "A rainbow is like a cosmic bridge of shimmering colors that appears in the sky after rain, revealing a hidden spectrum when sunlight is split by water droplets.  \n",
      "The imaginary number i is like a secret key that unlocks new directions in the world of numbers, allowing us to explore shapes and patterns beyond what we see every day.  \n",
      "Both rainbows and imaginary numbers open the door to worlds beyond ordinary perception—rainbows through visible light and colors, and imaginary numbers through mathematical dimensions unseen but fundamentally powerful.  \n",
      "There are 67 words in this answer.\n",
      "\n",
      "# Response from competitor 3\n",
      "\n",
      "A rainbow is like a gentle, multi-note melody painted across the sky with each color shaped by different notes of sunlight after the rain.  \n",
      "The imaginary number i is like a doorway to a hidden room that can’t be entered by walking forward or backward, but only by stepping sideways into an entirely new direction.  \n",
      "Both rainbows and imaginary numbers reveal hidden dimensions of the world—rainbows showing the unseen beauty in light, and i opening new paths in the landscape of numbers.  \n",
      "63 words.\n",
      "\n",
      "# Response from competitor 4\n",
      "\n",
      "Imagine a gentle dance of sensations across your skin, each shift representing a different hue, arching together in a moment of wonder. The imaginary number i is a special symbol that means we can explore a new direction in mathematics beyond the real line. Rainbows and imaginary numbers both hint at hidden depths, reminding us that there is more to reality than what we initially perceive. Altogether, this answer has 72 words.\n",
      "\n",
      "# Response from competitor 5\n",
      "\n",
      "A rainbow is like a gentle seven-note chord played by sunlight on the sky's wet strings, with each 'note' felt as a cool, distinct breath rather than seen as a color.  \n",
      "The imaginary number i is like a special turn of a key that doesn't open a door but rotates you into a new hallway you never knew existed.  \n",
      "Both the rainbow and i remind us that hidden dimensions—one in light, one in arithmetic—unfurl only when we let nature move beyond our usual straight lines.  \n",
      "Total words: 88\n",
      "\n",
      "# Response from competitor 6\n",
      "\n",
      "A rainbow is like nature's musical scale made visible, where sunlight splits into bands of different \"colors\" that each have their own unique wavelength, creating an arc that feels as organized and beautiful as hearing notes flow from low to high. The imaginary number i is like a magical mathematical tool that lets you rotate numbers in a completely new direction—imagine if you could only move forward and backward on a straight line, but suddenly discovered you could also step sideways into a whole new dimension of movement. Both rainbows and imaginary numbers reveal hidden dimensions that were always there but invisible to us—rainbows show the secret spectrum hidden within ordinary white light, while imaginary numbers unveil the secret rotational space hidden within ordinary counting. This answer contains exactly 128 words.\n",
      "\n",
      "# Response from competitor 7\n",
      "\n",
      "It's like a single, unified song of light gently unfurling into an ordered chorus of distinct energies, each a unique sensation or warmth momentarily felt. Imagine the imaginary number *i* as the mathematical instruction that lets numbers 'turn' into a new dimension, allowing them to spin and describe cycles instead of just moving along a straight line. Both illustrate how underlying wave-like properties, whether of light or abstract numbers, can separate and unfold into a richer, multi-dimensional order of distinct, patterned components.\n",
      "\n",
      "92 words\n",
      "\n",
      "# Response from competitor 8\n",
      "\n",
      "A rainbow is like nature’s melody painted across the sky, where sunlight and raindrops blend into a gentle arc of colors you can almost hear; *i* is a mathematical whisper that turns \"impossible\" sideways, multiplying by itself to create -1; both are hidden harmonies—one in light, the other in logic—revealing beauty where the ordinary eye sees none. (50 words.)\n",
      "\n",
      "# Response from competitor 9\n",
      "\n",
      "A rainbow is like a majestic, ever-changing symphony of sounds, where each note blends seamlessly into the next, evoking a sense of wonder and beauty that transcends visual boundaries. \n",
      "The imaginary number i is like a secret door in a story that, when opened, reveals a new and hidden world of possibilities, where the usual rules of reality no longer apply. \n",
      "Just as a rainbow's vibrant colors are created by the interaction of light and water, the concept of imaginary numbers like i can be thought of as a harmony between real and imaginary components that come together to create a beautiful, balanced whole. \n",
      "There are 96 words in my answer.\n",
      "\n",
      "# Response from competitor 10\n",
      "\n",
      "A rainbow is like a melody of warmth and coolness in the air, where each color feels like a different note—red as a deep, cozy hum, violet as a sharp, tingling whisper—arching across the sky after rain. The imaginary number i is like an invisible friend who helps solve puzzles that seem impossible, standing for the square root of -1, a concept that exists beyond regular numbers to unlock new ways of thinking. Interestingly, just as a rainbow reveals a spectrum of unseen beauty in light, imaginary numbers like i unveil hidden patterns in math that connect to the real world in surprising ways. This answer contains 109 words.\n",
      "\n",
      "# Response from competitor 11\n",
      "\n",
      "\n",
      "\n",
      "A rainbow is like a symphony of colors, each one a unique note blending into a harmonious whole, evoking emotions and beauty beyond sight. The imaginary number \\( i \\) is like a hidden direction in mathematics, a concept you can't see but can feel the effects of, allowing us to navigate new dimensions of thought. Both rainbows and imaginary numbers connect the visible with the invisible, showing how the unseen can create something beautiful or functional. \n",
      "\n",
      "This answer contains 76 words.\n",
      "\n",
      "# Response from competitor 12\n",
      "\n",
      "Here are my responses:\n",
      "\n",
      "A rainbow is like a symphony of colors, with red being the strong bass note, orange being the warm vocal melody, yellow being the bright trumpet fanfare, green being the soothing piano accompaniment, blue being the calming strings section, and violet being the ethereal flute solo that all come together to create a stunning visual harmony.\n",
      "\n",
      "The imaginary number i is like a door that swings open into a world of possibilities, allowing us to explore and understand concepts that exist only in an abstract realm, just as how one can imagine or dream about something even if it doesn't exist in the physical world.\n",
      "\n",
      "Just as a rainbow's colors are a manifestation of light being refracted through water droplets at different angles, causing them to separate into their individual hues, the imaginary number i represents a new axis that exists alongside the real number line, allowing us to extend and enrich our mathematical understanding by exploring quadratic equations, complex algebra, and many other areas where \"imaginary\" solutions enable us to solve problems that would otherwise be unsolvable.\n",
      "\n",
      "There are 86 words in total.\n",
      "\n",
      "# Response from competitor 13\n",
      "\n",
      "Okay, here we go:\n",
      "\n",
      "**Rainbow:** Imagine a prism shattering white light into a beautiful, vibrating orchestra of color, each note a different hue, experienced not through sight but through feeling – a rush of warmth, coolness, and vibrancy all at once.\n",
      "\n",
      "**Imaginary Number ‘i’:** Think of ‘i’ as a hidden door that allows you to explore a realm beyond simple addition and subtraction, where multiplication creates something new and unexpected, like discovering a secret dimension.\n",
      "\n",
      "**Connection:** Just as a rainbow blends visible colors into a unified whole, the imaginary number ‘i’ blends the real and the unreal, opening a pathway to mathematical concepts beyond our everyday experience. \n",
      "\n",
      "---\n",
      "\n",
      "There are **75** words in this answer.\n",
      "\n",
      "# Response from competitor 14\n",
      "\n",
      "\n",
      "\n",
      "A rainbow is light’s secret dance with raindrops, bending into a bridge of colors that only appears when you’re between the sun and the storm.  \n",
      "The imaginary number *i* is a compass that points to a world where numbers don’t just measure size but also direction, unlocking doors to new dimensions.  \n",
      "Rainbows and imaginary numbers both defy ordinary sight—they’re hidden patterns in light and math, revealed through angles and imagination.  \n",
      "**24 words.**\n",
      "\n",
      "# Response from competitor 15\n",
      "\n",
      "A rainbow is like nature's symphony of light, where sunbeams dance across droplets to create vibrant patterns in the sky; an imaginary number such as \"i\" is akin to a fictional key that unlocks solutions to equations which seem impossible with regular numbers alone. Both rainbows and imaginary numbers challenge our understanding by existing beautifully beyond tangible senses—one through its ephemeral artistry, the other through mathematical abstraction—and together they remind us of the unseen layers in both nature's canvas and mathematics' landscape. This answer contains 64 words.\n",
      "\n",
      "# Response from competitor 16\n",
      "\n",
      "\n",
      "\n",
      "1. A rainbow is like a tunnel of light that creates a dazzling display of colors when sunlight bends around mist droplets suspended in the air.  \n",
      "\n",
      "2. The imaginary number i represents an idea of rotation or unseen dimension, much like how you might imagine a hidden layer beneath what’s visible.  \n",
      "\n",
      "3. Just as rainbows involve light bending and interacting with water droplets to create color, imaginary numbers extend our mathematical world by allowing us to explore abstract rotations and dimensions.  \n",
      "\n",
      "4. The total word count for this response is 206 words.\n",
      "\n",
      "\n",
      "\n",
      "Now respond with the JSON with the ranked order of the competitors, nothing else. Do not include markdown formatting or code blocks.\n"
     ]
    }
   ],
   "source": [
    "print(judge)"
   ]
  },
  {
   "cell_type": "code",
   "execution_count": 31,
   "id": "4fb4dc61-0ed0-4fd1-bf26-f06c0de0ed1f",
   "metadata": {},
   "outputs": [],
   "source": [
    "judge_messages = [{\"role\": \"user\", \"content\": judge}]"
   ]
  },
  {
   "cell_type": "markdown",
   "id": "9dc9d9e4-e9f1-4bce-ad5a-6212f9310d0f",
   "metadata": {},
   "source": [
    "# Not very scientific - but quite interesting!"
   ]
  },
  {
   "cell_type": "code",
   "execution_count": 32,
   "id": "9e9ddf64-e35d-4a3f-8389-8e0aa5e95ab8",
   "metadata": {},
   "outputs": [
    {
     "name": "stdout",
     "output_type": "stream",
     "text": [
      "{\"results\": [5, 10, 4, 6, 11, 7, 9, 2, 3, 13, 14, 1, 15, 8, 16, 12]}\n"
     ]
    }
   ],
   "source": [
    "openai = OpenAI()\n",
    "response = openai.chat.completions.create(model=\"o3\",messages=judge_messages)\n",
    "results = response.choices[0].message.content\n",
    "print(results)"
   ]
  },
  {
   "cell_type": "code",
   "execution_count": 33,
   "id": "36c8c7d0-0e8a-4168-a95e-f566eec09ea5",
   "metadata": {},
   "outputs": [
    {
     "name": "stdout",
     "output_type": "stream",
     "text": [
      "Rank 1: o3\n",
      "Rank 2: grok-3-latest\n",
      "Rank 3: o1\n",
      "Rank 4: claude-sonnet-4-20250514\n",
      "Rank 5: deepseek-r1-distill-llama-70b\n",
      "Rank 6: gemini-2.5-flash-preview-05-20\n",
      "Rank 7: llama-3.3-70b-versatile\n",
      "Rank 8: gpt-4.1-nano\n",
      "Rank 9: gpt-4.1\n",
      "Rank 10: gemma3\n",
      "Rank 11: qwen3\n",
      "Rank 12: gpt-4.1-mini\n",
      "Rank 13: phi4\n",
      "Rank 14: deepseek-chat\n",
      "Rank 15: deepseek-r1\n",
      "Rank 16: llama3.2\n"
     ]
    }
   ],
   "source": [
    "results_dict = json.loads(results)\n",
    "ranks = results_dict[\"results\"]\n",
    "for index, result in enumerate(ranks):\n",
    "    competitor = models[int(result)-1]\n",
    "    print(f\"Rank {index+1}: {competitor}\")"
   ]
  },
  {
   "cell_type": "code",
   "execution_count": 34,
   "id": "1d9e4982-c3af-48fd-8ce9-b44a86898800",
   "metadata": {},
   "outputs": [],
   "source": [
    "# To be serious! GPT-4o-mini with a proper question\n",
    "\n",
    "prompts = [\n",
    "    {\"role\": \"system\", \"content\": \"You are a knowledgable assistant, and you respond in markdown\"},\n",
    "    {\"role\": \"user\", \"content\": \"How do I choose the right LLM for a task? Please respond in markdown.\"}\n",
    "  ]"
   ]
  },
  {
   "cell_type": "code",
   "execution_count": 35,
   "id": "7d08a70a-f0d8-4317-8690-c12933e0d7ea",
   "metadata": {},
   "outputs": [
    {
     "data": {
      "text/markdown": [
       "\n",
       "# How to Choose the Right Large Language Model (LLM) for a Task\n",
       "\n",
       "Selecting the appropriate Large Language Model (LLM) depends on several factors related to your specific use case, resources, and constraints. Here's a structured approach to help you choose the right LLM:\n",
       "\n",
       "---\n",
       "\n",
       "## 1. Define Your Task Requirements\n",
       "\n",
       "- **Task Type:**  \n",
       "  - **Text generation:** storytelling, content creation  \n",
       "  - **Summarization:** documents, articles  \n",
       "  - **Translation:** multilingual support  \n",
       "  - **Question answering:** factual, conversational  \n",
       "  - **Code generation:** programming assistance  \n",
       "  - **Sentiment analysis:** opinion mining  \n",
       "\n",
       "- **Accuracy Needs:** Do you require state-of-the-art accuracy or is approximate output acceptable?\n",
       "\n",
       "- **Latency and Throughput:** Real-time vs batch processing.\n",
       "\n",
       "---\n",
       "\n",
       "## 2. Evaluate Model Capabilities\n",
       "\n",
       "- **Model Size:**  \n",
       "  - Larger models generally provide better performance but require more computational resources.\n",
       "\n",
       "- **Training Data:**  \n",
       "  - Domain specificity — Does the model have knowledge relevant to your domain (e.g. medical, legal)?\n",
       "\n",
       "- **Multilingual Support:**  \n",
       "  - Does the task require multiple languages?\n",
       "\n",
       "- **Fine-tuning and Customization:**  \n",
       "  - Can the model be fine-tuned or adapted to your specific data?\n",
       "\n",
       "---\n",
       "\n",
       "## 3. Consider Available Resources\n",
       "\n",
       "- **Compute Power:**  \n",
       "  - Do you have access to GPUs/TPUs? Can you afford cloud costs?\n",
       "\n",
       "- **Budget Constraints:**  \n",
       "  - Larger models and access through APIs can be expensive.\n",
       "\n",
       "- **Deployment Environment:**  \n",
       "  - On-device (edge) or cloud-based deployment?\n",
       "\n",
       "---\n",
       "\n",
       "## 4. Review Existing Popular LLMs\n",
       "\n",
       "| Model            | Strengths                           | Considerations                      |\n",
       "|------------------|-----------------------------------|-----------------------------------|\n",
       "| GPT-4            | Strong general-purpose, creativity| High cost, API access only        |\n",
       "| GPT-3.5          | Good performance, cheaper than GPT-4 | Some limitations in complex tasks |\n",
       "| Claude (Anthropic)| Safety-focused, helpful dialogs   | Limited availability              |\n",
       "| LLaMA (Meta)     | Open weights, efficient            | Requires fine-tuning              |\n",
       "| Bloom            | Multilingual, open access          | May require more engineering effort |\n",
       "| PaLM (Google)    | Strong language understanding     | Limited access                    |\n",
       "\n",
       "---\n",
       "\n",
       "## 5. Experiment and Benchmark\n",
       "\n",
       "- Run small-scale tests with a few candidate models.\n",
       "\n",
       "- Use benchmarks relevant to your task (e.g., GLUE for NLP tasks, CodeXGLUE for code).\n",
       "\n",
       "- Measure metrics: accuracy, latency, cost.\n",
       "\n",
       "---\n",
       "\n",
       "## 6. Additional Considerations\n",
       "\n",
       "- **Ethical and Safety Concerns:** Ensure the model aligns with your values and policies.\n",
       "\n",
       "- **Community and Support:** Active community and good documentation reduce development time.\n",
       "\n",
       "- **Updates and Maintenance:** Models updated frequently may offer better results over time.\n",
       "\n",
       "---\n",
       "\n",
       "# Summary Checklist\n",
       "\n",
       "| Step                         | Action                       |\n",
       "|------------------------------|------------------------------|\n",
       "| 1. Define task requirements   | Specify type, accuracy, latency |\n",
       "| 2. Understand model capabilities| Size, domain, language support  |\n",
       "| 3. Assess resources           | Compute, budget, environment   |\n",
       "| 4. Shortlist models           | Based on features and access   |\n",
       "| 5. Test and benchmark         | Run experiments, evaluate metrics|\n",
       "| 6. Make final decision        | Balance performance, cost, constraints|\n",
       "\n",
       "---\n",
       "\n",
       "Feel free to ask if you'd like recommendations for a specific task or use case!\n"
      ],
      "text/plain": [
       "<IPython.core.display.Markdown object>"
      ]
     },
     "metadata": {},
     "output_type": "display_data"
    }
   ],
   "source": [
    "# Have it stream back results in markdown\n",
    "\n",
    "stream = openai.chat.completions.create(\n",
    "    model='gpt-4.1-mini',\n",
    "    messages=prompts,\n",
    "    stream=True\n",
    ")\n",
    "\n",
    "reply = \"\"\n",
    "display_handle = display(Markdown(\"\"), display_id=True)\n",
    "for chunk in stream:\n",
    "    reply += chunk.choices[0].delta.content or ''\n",
    "    reply = reply.replace(\"```\",\"\").replace(\"markdown\",\"\")\n",
    "    update_display(Markdown(reply), display_id=display_handle.display_id)"
   ]
  },
  {
   "cell_type": "markdown",
   "id": "1960c776",
   "metadata": {},
   "source": [
    "## Abstractions versus Routers\n",
    "\n",
    "Looking at LiteLLM and OpenRouter, understanding the differences and pros/cons.\n",
    "\n",
    "Sidenote: LiteLLM can be used as an Abstraction OR a Router (aka LiteLLM Proxy Server) but we will use the Abstraction functionality here."
   ]
  },
  {
   "cell_type": "code",
   "execution_count": 36,
   "id": "da5c46e7",
   "metadata": {},
   "outputs": [],
   "source": [
    "from litellm import completion\n",
    "messages =[{\"role\": \"user\", \"content\": \"Please tell me a joke for a Bootcamp for AI Engineers\"}]"
   ]
  },
  {
   "cell_type": "code",
   "execution_count": 37,
   "id": "1fbc3c5f",
   "metadata": {},
   "outputs": [
    {
     "name": "stdout",
     "output_type": "stream",
     "text": [
      "Sure! Here’s a joke for a Bootcamp for AI Engineers:\n",
      "\n",
      "Why did the neural network break up with the dataset?\n",
      "\n",
      "Because it found too many *issues* in the relationship!\n"
     ]
    },
    {
     "name": "stderr",
     "output_type": "stream",
     "text": [
      "c:\\Users\\sarav\\projects\\sds\\.venv\\Lib\\site-packages\\pydantic\\main.py:463: UserWarning: Pydantic serializer warnings:\n",
      "  PydanticSerializationUnexpectedValue(Expected 9 fields but got 6: Expected `Message` - serialized value may not be as expected [input_value=Message(content='Sure! He...: None}, annotations=[]), input_type=Message])\n",
      "  PydanticSerializationUnexpectedValue(Expected `StreamingChoices` - serialized value may not be as expected [input_value=Choices(finish_reason='st...ider_specific_fields={}), input_type=Choices])\n",
      "  return self.__pydantic_serializer__.to_python(\n"
     ]
    }
   ],
   "source": [
    "response = completion(model=\"openai/gpt-4.1-mini\", messages=messages)\n",
    "print(response.choices[0].message.content)"
   ]
  },
  {
   "cell_type": "code",
   "execution_count": 38,
   "id": "843c4608",
   "metadata": {},
   "outputs": [
    {
     "name": "stdout",
     "output_type": "stream",
     "text": [
      "Input tokens: 19\n",
      "Output tokens: 37\n",
      "Total tokens: 56\n",
      "Total cost: 0.0067 cents\n"
     ]
    }
   ],
   "source": [
    "print(f\"Input tokens: {response.usage.prompt_tokens}\")\n",
    "print(f\"Output tokens: {response.usage.completion_tokens}\")\n",
    "print(f\"Total tokens: {response.usage.total_tokens}\")\n",
    "print(f\"Total cost: {response._hidden_params[\"response_cost\"]*100:.4f} cents\")"
   ]
  },
  {
   "cell_type": "code",
   "execution_count": 39,
   "id": "0c6a2380",
   "metadata": {},
   "outputs": [
    {
     "name": "stdout",
     "output_type": "stream",
     "text": [
      "Why did the neural network refuse to date the algorithm?\n",
      "\n",
      "Because it didn't want any weights holding it back!\n",
      "Input tokens: 19\n",
      "Output tokens: 21\n",
      "Total tokens: 40\n",
      "Total cost: 0.4575 cents\n"
     ]
    },
    {
     "name": "stderr",
     "output_type": "stream",
     "text": [
      "c:\\Users\\sarav\\projects\\sds\\.venv\\Lib\\site-packages\\pydantic\\main.py:463: UserWarning: Pydantic serializer warnings:\n",
      "  PydanticSerializationUnexpectedValue(Expected 9 fields but got 6: Expected `Message` - serialized value may not be as expected [input_value=Message(content=\"Why did ...: None}, annotations=[]), input_type=Message])\n",
      "  PydanticSerializationUnexpectedValue(Expected `StreamingChoices` - serialized value may not be as expected [input_value=Choices(finish_reason='st...ider_specific_fields={}), input_type=Choices])\n",
      "  return self.__pydantic_serializer__.to_python(\n",
      "c:\\Users\\sarav\\projects\\sds\\.venv\\Lib\\site-packages\\pydantic\\main.py:463: UserWarning: Pydantic serializer warnings:\n",
      "  PydanticSerializationUnexpectedValue(Expected 9 fields but got 5: Expected `Message` - serialized value may not be as expected [input_value=Message(content='Here\\'s ...thinking_blocks': None}), input_type=Message])\n",
      "  PydanticSerializationUnexpectedValue(Expected `StreamingChoices` - serialized value may not be as expected [input_value=Choices(finish_reason='st...hinking_blocks': None})), input_type=Choices])\n",
      "  return self.__pydantic_serializer__.to_python(\n"
     ]
    }
   ],
   "source": [
    "response = completion(model=\"openai/gpt-4.5-preview\", messages=messages)\n",
    "print(response.choices[0].message.content)\n",
    "\n",
    "print(f\"Input tokens: {response.usage.prompt_tokens}\")\n",
    "print(f\"Output tokens: {response.usage.completion_tokens}\")\n",
    "print(f\"Total tokens: {response.usage.total_tokens}\")\n",
    "print(f\"Total cost: {response._hidden_params[\"response_cost\"]*100:.4f} cents\")"
   ]
  },
  {
   "cell_type": "code",
   "execution_count": 40,
   "id": "83b066c5",
   "metadata": {},
   "outputs": [
    {
     "name": "stdout",
     "output_type": "stream",
     "text": [
      "Here's one for your AI engineering bootcamp:\n",
      "\n",
      "**Why did the neural network break up with the decision tree?**\n",
      "\n",
      "Because it said, \"You're too shallow for me. I need someone with more layers who can handle my complex, non-linear relationships!\"\n",
      "\n",
      "---\n",
      "\n",
      "*Bonus dad joke:*\n",
      "**What do you call an AI that can't make up its mind?**\n",
      "A maybe-learning algorithm! 🤖\n",
      "\n",
      "Hope that gets some laughs (or at least some good-natured groans) from your cohort!\n",
      "Input tokens: 20\n",
      "Output tokens: 120\n",
      "Total tokens: 140\n",
      "Total cost: 0.1860 cents\n"
     ]
    }
   ],
   "source": [
    "response = completion(model=\"claude-sonnet-4-20250514\", messages=messages)\n",
    "print(response.choices[0].message.content)\n",
    "\n",
    "print(f\"Input tokens: {response.usage.prompt_tokens}\")\n",
    "print(f\"Output tokens: {response.usage.completion_tokens}\")\n",
    "print(f\"Total tokens: {response.usage.total_tokens}\")\n",
    "print(f\"Total cost: {response._hidden_params[\"response_cost\"]*100:.4f} cents\")"
   ]
  },
  {
   "cell_type": "code",
   "execution_count": 41,
   "id": "1ad441b2",
   "metadata": {},
   "outputs": [
    {
     "name": "stdout",
     "output_type": "stream",
     "text": [
      "Here's one for your AI Engineering Bootcamp:\n",
      "\n",
      "Why did the neural network go to therapy?\n",
      "\n",
      "Because it had too many deep issues and couldn't stop overfitting into its past experiences! The therapist suggested it needed better regularization and maybe some dropout to help it generalize better in life.\n",
      "\n",
      "🤖🧠\n",
      "\n",
      "(Bonus: The therapist's diagnosis? \"Classic case of vanishing gradients - you're losing all meaning by the time you reach your deeper layers!\")\n",
      "Input tokens: 20\n",
      "Output tokens: 107\n",
      "Total tokens: 127\n",
      "Total cost: 0.8325 cents\n"
     ]
    }
   ],
   "source": [
    "response = completion(model=\"claude-opus-4-20250514\", messages=messages)\n",
    "print(response.choices[0].message.content)\n",
    "\n",
    "print(f\"Input tokens: {response.usage.prompt_tokens}\")\n",
    "print(f\"Output tokens: {response.usage.completion_tokens}\")\n",
    "print(f\"Total tokens: {response.usage.total_tokens}\")\n",
    "print(f\"Total cost: {response._hidden_params[\"response_cost\"]*100:.4f} cents\")"
   ]
  },
  {
   "cell_type": "markdown",
   "id": "9ad94db5",
   "metadata": {},
   "source": [
    "### Now try these models and their costs!\n",
    "\n",
    "openai/gpt-4.5-preview  \n",
    "claude-sonnet-4-20250514  \n",
    "claude-opus-4-20250514  \n"
   ]
  },
  {
   "cell_type": "markdown",
   "id": "53e4f3fb",
   "metadata": {},
   "source": [
    "## OpenRouter"
   ]
  },
  {
   "cell_type": "code",
   "execution_count": 51,
   "id": "e9b0772f",
   "metadata": {},
   "outputs": [
    {
     "ename": "AuthenticationError",
     "evalue": "Error code: 401 - {'error': {'message': 'No auth credentials found', 'code': 401}}",
     "output_type": "error",
     "traceback": [
      "\u001b[31m---------------------------------------------------------------------------\u001b[39m",
      "\u001b[31mAuthenticationError\u001b[39m                       Traceback (most recent call last)",
      "\u001b[36mCell\u001b[39m\u001b[36m \u001b[39m\u001b[32mIn[51]\u001b[39m\u001b[32m, line 6\u001b[39m\n\u001b[32m      2\u001b[39m openrouter_api_key = os.getenv(\u001b[33m\"\u001b[39m\u001b[33mOPENROUTER_API_KEY\u001b[39m\u001b[33m\"\u001b[39m)\n\u001b[32m      4\u001b[39m openrouter = OpenAI(base_url=OPENROUTER_BASE_URL, api_key=openrouter_api_key)\n\u001b[32m----> \u001b[39m\u001b[32m6\u001b[39m response = \u001b[43mopenrouter\u001b[49m\u001b[43m.\u001b[49m\u001b[43mchat\u001b[49m\u001b[43m.\u001b[49m\u001b[43mcompletions\u001b[49m\u001b[43m.\u001b[49m\u001b[43mcreate\u001b[49m\u001b[43m(\u001b[49m\u001b[43mmodel\u001b[49m\u001b[43m=\u001b[49m\u001b[33;43m\"\u001b[39;49m\u001b[33;43mopenai/gpt-4.1-mini\u001b[39;49m\u001b[33;43m\"\u001b[39;49m\u001b[43m,\u001b[49m\u001b[43m \u001b[49m\u001b[43mmessages\u001b[49m\u001b[43m=\u001b[49m\u001b[43mmessages\u001b[49m\u001b[43m)\u001b[49m\n\u001b[32m      7\u001b[39m \u001b[38;5;28mprint\u001b[39m(response.choices[\u001b[32m0\u001b[39m].message.content)\n",
      "\u001b[36mFile \u001b[39m\u001b[32mc:\\Users\\sarav\\projects\\sds\\.venv\\Lib\\site-packages\\openai\\_utils\\_utils.py:287\u001b[39m, in \u001b[36mrequired_args.<locals>.inner.<locals>.wrapper\u001b[39m\u001b[34m(*args, **kwargs)\u001b[39m\n\u001b[32m    285\u001b[39m             msg = \u001b[33mf\u001b[39m\u001b[33m\"\u001b[39m\u001b[33mMissing required argument: \u001b[39m\u001b[38;5;132;01m{\u001b[39;00mquote(missing[\u001b[32m0\u001b[39m])\u001b[38;5;132;01m}\u001b[39;00m\u001b[33m\"\u001b[39m\n\u001b[32m    286\u001b[39m     \u001b[38;5;28;01mraise\u001b[39;00m \u001b[38;5;167;01mTypeError\u001b[39;00m(msg)\n\u001b[32m--> \u001b[39m\u001b[32m287\u001b[39m \u001b[38;5;28;01mreturn\u001b[39;00m \u001b[43mfunc\u001b[49m\u001b[43m(\u001b[49m\u001b[43m*\u001b[49m\u001b[43margs\u001b[49m\u001b[43m,\u001b[49m\u001b[43m \u001b[49m\u001b[43m*\u001b[49m\u001b[43m*\u001b[49m\u001b[43mkwargs\u001b[49m\u001b[43m)\u001b[49m\n",
      "\u001b[36mFile \u001b[39m\u001b[32mc:\\Users\\sarav\\projects\\sds\\.venv\\Lib\\site-packages\\openai\\resources\\chat\\completions\\completions.py:925\u001b[39m, in \u001b[36mCompletions.create\u001b[39m\u001b[34m(self, messages, model, audio, frequency_penalty, function_call, functions, logit_bias, logprobs, max_completion_tokens, max_tokens, metadata, modalities, n, parallel_tool_calls, prediction, presence_penalty, reasoning_effort, response_format, seed, service_tier, stop, store, stream, stream_options, temperature, tool_choice, tools, top_logprobs, top_p, user, web_search_options, extra_headers, extra_query, extra_body, timeout)\u001b[39m\n\u001b[32m    882\u001b[39m \u001b[38;5;129m@required_args\u001b[39m([\u001b[33m\"\u001b[39m\u001b[33mmessages\u001b[39m\u001b[33m\"\u001b[39m, \u001b[33m\"\u001b[39m\u001b[33mmodel\u001b[39m\u001b[33m\"\u001b[39m], [\u001b[33m\"\u001b[39m\u001b[33mmessages\u001b[39m\u001b[33m\"\u001b[39m, \u001b[33m\"\u001b[39m\u001b[33mmodel\u001b[39m\u001b[33m\"\u001b[39m, \u001b[33m\"\u001b[39m\u001b[33mstream\u001b[39m\u001b[33m\"\u001b[39m])\n\u001b[32m    883\u001b[39m \u001b[38;5;28;01mdef\u001b[39;00m\u001b[38;5;250m \u001b[39m\u001b[34mcreate\u001b[39m(\n\u001b[32m    884\u001b[39m     \u001b[38;5;28mself\u001b[39m,\n\u001b[32m   (...)\u001b[39m\u001b[32m    922\u001b[39m     timeout: \u001b[38;5;28mfloat\u001b[39m | httpx.Timeout | \u001b[38;5;28;01mNone\u001b[39;00m | NotGiven = NOT_GIVEN,\n\u001b[32m    923\u001b[39m ) -> ChatCompletion | Stream[ChatCompletionChunk]:\n\u001b[32m    924\u001b[39m     validate_response_format(response_format)\n\u001b[32m--> \u001b[39m\u001b[32m925\u001b[39m     \u001b[38;5;28;01mreturn\u001b[39;00m \u001b[38;5;28;43mself\u001b[39;49m\u001b[43m.\u001b[49m\u001b[43m_post\u001b[49m\u001b[43m(\u001b[49m\n\u001b[32m    926\u001b[39m \u001b[43m        \u001b[49m\u001b[33;43m\"\u001b[39;49m\u001b[33;43m/chat/completions\u001b[39;49m\u001b[33;43m\"\u001b[39;49m\u001b[43m,\u001b[49m\n\u001b[32m    927\u001b[39m \u001b[43m        \u001b[49m\u001b[43mbody\u001b[49m\u001b[43m=\u001b[49m\u001b[43mmaybe_transform\u001b[49m\u001b[43m(\u001b[49m\n\u001b[32m    928\u001b[39m \u001b[43m            \u001b[49m\u001b[43m{\u001b[49m\n\u001b[32m    929\u001b[39m \u001b[43m                \u001b[49m\u001b[33;43m\"\u001b[39;49m\u001b[33;43mmessages\u001b[39;49m\u001b[33;43m\"\u001b[39;49m\u001b[43m:\u001b[49m\u001b[43m \u001b[49m\u001b[43mmessages\u001b[49m\u001b[43m,\u001b[49m\n\u001b[32m    930\u001b[39m \u001b[43m                \u001b[49m\u001b[33;43m\"\u001b[39;49m\u001b[33;43mmodel\u001b[39;49m\u001b[33;43m\"\u001b[39;49m\u001b[43m:\u001b[49m\u001b[43m \u001b[49m\u001b[43mmodel\u001b[49m\u001b[43m,\u001b[49m\n\u001b[32m    931\u001b[39m \u001b[43m                \u001b[49m\u001b[33;43m\"\u001b[39;49m\u001b[33;43maudio\u001b[39;49m\u001b[33;43m\"\u001b[39;49m\u001b[43m:\u001b[49m\u001b[43m \u001b[49m\u001b[43maudio\u001b[49m\u001b[43m,\u001b[49m\n\u001b[32m    932\u001b[39m \u001b[43m                \u001b[49m\u001b[33;43m\"\u001b[39;49m\u001b[33;43mfrequency_penalty\u001b[39;49m\u001b[33;43m\"\u001b[39;49m\u001b[43m:\u001b[49m\u001b[43m \u001b[49m\u001b[43mfrequency_penalty\u001b[49m\u001b[43m,\u001b[49m\n\u001b[32m    933\u001b[39m \u001b[43m                \u001b[49m\u001b[33;43m\"\u001b[39;49m\u001b[33;43mfunction_call\u001b[39;49m\u001b[33;43m\"\u001b[39;49m\u001b[43m:\u001b[49m\u001b[43m \u001b[49m\u001b[43mfunction_call\u001b[49m\u001b[43m,\u001b[49m\n\u001b[32m    934\u001b[39m \u001b[43m                \u001b[49m\u001b[33;43m\"\u001b[39;49m\u001b[33;43mfunctions\u001b[39;49m\u001b[33;43m\"\u001b[39;49m\u001b[43m:\u001b[49m\u001b[43m \u001b[49m\u001b[43mfunctions\u001b[49m\u001b[43m,\u001b[49m\n\u001b[32m    935\u001b[39m \u001b[43m                \u001b[49m\u001b[33;43m\"\u001b[39;49m\u001b[33;43mlogit_bias\u001b[39;49m\u001b[33;43m\"\u001b[39;49m\u001b[43m:\u001b[49m\u001b[43m \u001b[49m\u001b[43mlogit_bias\u001b[49m\u001b[43m,\u001b[49m\n\u001b[32m    936\u001b[39m \u001b[43m                \u001b[49m\u001b[33;43m\"\u001b[39;49m\u001b[33;43mlogprobs\u001b[39;49m\u001b[33;43m\"\u001b[39;49m\u001b[43m:\u001b[49m\u001b[43m \u001b[49m\u001b[43mlogprobs\u001b[49m\u001b[43m,\u001b[49m\n\u001b[32m    937\u001b[39m \u001b[43m                \u001b[49m\u001b[33;43m\"\u001b[39;49m\u001b[33;43mmax_completion_tokens\u001b[39;49m\u001b[33;43m\"\u001b[39;49m\u001b[43m:\u001b[49m\u001b[43m \u001b[49m\u001b[43mmax_completion_tokens\u001b[49m\u001b[43m,\u001b[49m\n\u001b[32m    938\u001b[39m \u001b[43m                \u001b[49m\u001b[33;43m\"\u001b[39;49m\u001b[33;43mmax_tokens\u001b[39;49m\u001b[33;43m\"\u001b[39;49m\u001b[43m:\u001b[49m\u001b[43m \u001b[49m\u001b[43mmax_tokens\u001b[49m\u001b[43m,\u001b[49m\n\u001b[32m    939\u001b[39m \u001b[43m                \u001b[49m\u001b[33;43m\"\u001b[39;49m\u001b[33;43mmetadata\u001b[39;49m\u001b[33;43m\"\u001b[39;49m\u001b[43m:\u001b[49m\u001b[43m \u001b[49m\u001b[43mmetadata\u001b[49m\u001b[43m,\u001b[49m\n\u001b[32m    940\u001b[39m \u001b[43m                \u001b[49m\u001b[33;43m\"\u001b[39;49m\u001b[33;43mmodalities\u001b[39;49m\u001b[33;43m\"\u001b[39;49m\u001b[43m:\u001b[49m\u001b[43m \u001b[49m\u001b[43mmodalities\u001b[49m\u001b[43m,\u001b[49m\n\u001b[32m    941\u001b[39m \u001b[43m                \u001b[49m\u001b[33;43m\"\u001b[39;49m\u001b[33;43mn\u001b[39;49m\u001b[33;43m\"\u001b[39;49m\u001b[43m:\u001b[49m\u001b[43m \u001b[49m\u001b[43mn\u001b[49m\u001b[43m,\u001b[49m\n\u001b[32m    942\u001b[39m \u001b[43m                \u001b[49m\u001b[33;43m\"\u001b[39;49m\u001b[33;43mparallel_tool_calls\u001b[39;49m\u001b[33;43m\"\u001b[39;49m\u001b[43m:\u001b[49m\u001b[43m \u001b[49m\u001b[43mparallel_tool_calls\u001b[49m\u001b[43m,\u001b[49m\n\u001b[32m    943\u001b[39m \u001b[43m                \u001b[49m\u001b[33;43m\"\u001b[39;49m\u001b[33;43mprediction\u001b[39;49m\u001b[33;43m\"\u001b[39;49m\u001b[43m:\u001b[49m\u001b[43m \u001b[49m\u001b[43mprediction\u001b[49m\u001b[43m,\u001b[49m\n\u001b[32m    944\u001b[39m \u001b[43m                \u001b[49m\u001b[33;43m\"\u001b[39;49m\u001b[33;43mpresence_penalty\u001b[39;49m\u001b[33;43m\"\u001b[39;49m\u001b[43m:\u001b[49m\u001b[43m \u001b[49m\u001b[43mpresence_penalty\u001b[49m\u001b[43m,\u001b[49m\n\u001b[32m    945\u001b[39m \u001b[43m                \u001b[49m\u001b[33;43m\"\u001b[39;49m\u001b[33;43mreasoning_effort\u001b[39;49m\u001b[33;43m\"\u001b[39;49m\u001b[43m:\u001b[49m\u001b[43m \u001b[49m\u001b[43mreasoning_effort\u001b[49m\u001b[43m,\u001b[49m\n\u001b[32m    946\u001b[39m \u001b[43m                \u001b[49m\u001b[33;43m\"\u001b[39;49m\u001b[33;43mresponse_format\u001b[39;49m\u001b[33;43m\"\u001b[39;49m\u001b[43m:\u001b[49m\u001b[43m \u001b[49m\u001b[43mresponse_format\u001b[49m\u001b[43m,\u001b[49m\n\u001b[32m    947\u001b[39m \u001b[43m                \u001b[49m\u001b[33;43m\"\u001b[39;49m\u001b[33;43mseed\u001b[39;49m\u001b[33;43m\"\u001b[39;49m\u001b[43m:\u001b[49m\u001b[43m \u001b[49m\u001b[43mseed\u001b[49m\u001b[43m,\u001b[49m\n\u001b[32m    948\u001b[39m \u001b[43m                \u001b[49m\u001b[33;43m\"\u001b[39;49m\u001b[33;43mservice_tier\u001b[39;49m\u001b[33;43m\"\u001b[39;49m\u001b[43m:\u001b[49m\u001b[43m \u001b[49m\u001b[43mservice_tier\u001b[49m\u001b[43m,\u001b[49m\n\u001b[32m    949\u001b[39m \u001b[43m                \u001b[49m\u001b[33;43m\"\u001b[39;49m\u001b[33;43mstop\u001b[39;49m\u001b[33;43m\"\u001b[39;49m\u001b[43m:\u001b[49m\u001b[43m \u001b[49m\u001b[43mstop\u001b[49m\u001b[43m,\u001b[49m\n\u001b[32m    950\u001b[39m \u001b[43m                \u001b[49m\u001b[33;43m\"\u001b[39;49m\u001b[33;43mstore\u001b[39;49m\u001b[33;43m\"\u001b[39;49m\u001b[43m:\u001b[49m\u001b[43m \u001b[49m\u001b[43mstore\u001b[49m\u001b[43m,\u001b[49m\n\u001b[32m    951\u001b[39m \u001b[43m                \u001b[49m\u001b[33;43m\"\u001b[39;49m\u001b[33;43mstream\u001b[39;49m\u001b[33;43m\"\u001b[39;49m\u001b[43m:\u001b[49m\u001b[43m \u001b[49m\u001b[43mstream\u001b[49m\u001b[43m,\u001b[49m\n\u001b[32m    952\u001b[39m \u001b[43m                \u001b[49m\u001b[33;43m\"\u001b[39;49m\u001b[33;43mstream_options\u001b[39;49m\u001b[33;43m\"\u001b[39;49m\u001b[43m:\u001b[49m\u001b[43m \u001b[49m\u001b[43mstream_options\u001b[49m\u001b[43m,\u001b[49m\n\u001b[32m    953\u001b[39m \u001b[43m                \u001b[49m\u001b[33;43m\"\u001b[39;49m\u001b[33;43mtemperature\u001b[39;49m\u001b[33;43m\"\u001b[39;49m\u001b[43m:\u001b[49m\u001b[43m \u001b[49m\u001b[43mtemperature\u001b[49m\u001b[43m,\u001b[49m\n\u001b[32m    954\u001b[39m \u001b[43m                \u001b[49m\u001b[33;43m\"\u001b[39;49m\u001b[33;43mtool_choice\u001b[39;49m\u001b[33;43m\"\u001b[39;49m\u001b[43m:\u001b[49m\u001b[43m \u001b[49m\u001b[43mtool_choice\u001b[49m\u001b[43m,\u001b[49m\n\u001b[32m    955\u001b[39m \u001b[43m                \u001b[49m\u001b[33;43m\"\u001b[39;49m\u001b[33;43mtools\u001b[39;49m\u001b[33;43m\"\u001b[39;49m\u001b[43m:\u001b[49m\u001b[43m \u001b[49m\u001b[43mtools\u001b[49m\u001b[43m,\u001b[49m\n\u001b[32m    956\u001b[39m \u001b[43m                \u001b[49m\u001b[33;43m\"\u001b[39;49m\u001b[33;43mtop_logprobs\u001b[39;49m\u001b[33;43m\"\u001b[39;49m\u001b[43m:\u001b[49m\u001b[43m \u001b[49m\u001b[43mtop_logprobs\u001b[49m\u001b[43m,\u001b[49m\n\u001b[32m    957\u001b[39m \u001b[43m                \u001b[49m\u001b[33;43m\"\u001b[39;49m\u001b[33;43mtop_p\u001b[39;49m\u001b[33;43m\"\u001b[39;49m\u001b[43m:\u001b[49m\u001b[43m \u001b[49m\u001b[43mtop_p\u001b[49m\u001b[43m,\u001b[49m\n\u001b[32m    958\u001b[39m \u001b[43m                \u001b[49m\u001b[33;43m\"\u001b[39;49m\u001b[33;43muser\u001b[39;49m\u001b[33;43m\"\u001b[39;49m\u001b[43m:\u001b[49m\u001b[43m \u001b[49m\u001b[43muser\u001b[49m\u001b[43m,\u001b[49m\n\u001b[32m    959\u001b[39m \u001b[43m                \u001b[49m\u001b[33;43m\"\u001b[39;49m\u001b[33;43mweb_search_options\u001b[39;49m\u001b[33;43m\"\u001b[39;49m\u001b[43m:\u001b[49m\u001b[43m \u001b[49m\u001b[43mweb_search_options\u001b[49m\u001b[43m,\u001b[49m\n\u001b[32m    960\u001b[39m \u001b[43m            \u001b[49m\u001b[43m}\u001b[49m\u001b[43m,\u001b[49m\n\u001b[32m    961\u001b[39m \u001b[43m            \u001b[49m\u001b[43mcompletion_create_params\u001b[49m\u001b[43m.\u001b[49m\u001b[43mCompletionCreateParamsStreaming\u001b[49m\n\u001b[32m    962\u001b[39m \u001b[43m            \u001b[49m\u001b[38;5;28;43;01mif\u001b[39;49;00m\u001b[43m \u001b[49m\u001b[43mstream\u001b[49m\n\u001b[32m    963\u001b[39m \u001b[43m            \u001b[49m\u001b[38;5;28;43;01melse\u001b[39;49;00m\u001b[43m \u001b[49m\u001b[43mcompletion_create_params\u001b[49m\u001b[43m.\u001b[49m\u001b[43mCompletionCreateParamsNonStreaming\u001b[49m\u001b[43m,\u001b[49m\n\u001b[32m    964\u001b[39m \u001b[43m        \u001b[49m\u001b[43m)\u001b[49m\u001b[43m,\u001b[49m\n\u001b[32m    965\u001b[39m \u001b[43m        \u001b[49m\u001b[43moptions\u001b[49m\u001b[43m=\u001b[49m\u001b[43mmake_request_options\u001b[49m\u001b[43m(\u001b[49m\n\u001b[32m    966\u001b[39m \u001b[43m            \u001b[49m\u001b[43mextra_headers\u001b[49m\u001b[43m=\u001b[49m\u001b[43mextra_headers\u001b[49m\u001b[43m,\u001b[49m\u001b[43m \u001b[49m\u001b[43mextra_query\u001b[49m\u001b[43m=\u001b[49m\u001b[43mextra_query\u001b[49m\u001b[43m,\u001b[49m\u001b[43m \u001b[49m\u001b[43mextra_body\u001b[49m\u001b[43m=\u001b[49m\u001b[43mextra_body\u001b[49m\u001b[43m,\u001b[49m\u001b[43m \u001b[49m\u001b[43mtimeout\u001b[49m\u001b[43m=\u001b[49m\u001b[43mtimeout\u001b[49m\n\u001b[32m    967\u001b[39m \u001b[43m        \u001b[49m\u001b[43m)\u001b[49m\u001b[43m,\u001b[49m\n\u001b[32m    968\u001b[39m \u001b[43m        \u001b[49m\u001b[43mcast_to\u001b[49m\u001b[43m=\u001b[49m\u001b[43mChatCompletion\u001b[49m\u001b[43m,\u001b[49m\n\u001b[32m    969\u001b[39m \u001b[43m        \u001b[49m\u001b[43mstream\u001b[49m\u001b[43m=\u001b[49m\u001b[43mstream\u001b[49m\u001b[43m \u001b[49m\u001b[38;5;129;43;01mor\u001b[39;49;00m\u001b[43m \u001b[49m\u001b[38;5;28;43;01mFalse\u001b[39;49;00m\u001b[43m,\u001b[49m\n\u001b[32m    970\u001b[39m \u001b[43m        \u001b[49m\u001b[43mstream_cls\u001b[49m\u001b[43m=\u001b[49m\u001b[43mStream\u001b[49m\u001b[43m[\u001b[49m\u001b[43mChatCompletionChunk\u001b[49m\u001b[43m]\u001b[49m\u001b[43m,\u001b[49m\n\u001b[32m    971\u001b[39m \u001b[43m    \u001b[49m\u001b[43m)\u001b[49m\n",
      "\u001b[36mFile \u001b[39m\u001b[32mc:\\Users\\sarav\\projects\\sds\\.venv\\Lib\\site-packages\\openai\\_base_client.py:1242\u001b[39m, in \u001b[36mSyncAPIClient.post\u001b[39m\u001b[34m(self, path, cast_to, body, options, files, stream, stream_cls)\u001b[39m\n\u001b[32m   1228\u001b[39m \u001b[38;5;28;01mdef\u001b[39;00m\u001b[38;5;250m \u001b[39m\u001b[34mpost\u001b[39m(\n\u001b[32m   1229\u001b[39m     \u001b[38;5;28mself\u001b[39m,\n\u001b[32m   1230\u001b[39m     path: \u001b[38;5;28mstr\u001b[39m,\n\u001b[32m   (...)\u001b[39m\u001b[32m   1237\u001b[39m     stream_cls: \u001b[38;5;28mtype\u001b[39m[_StreamT] | \u001b[38;5;28;01mNone\u001b[39;00m = \u001b[38;5;28;01mNone\u001b[39;00m,\n\u001b[32m   1238\u001b[39m ) -> ResponseT | _StreamT:\n\u001b[32m   1239\u001b[39m     opts = FinalRequestOptions.construct(\n\u001b[32m   1240\u001b[39m         method=\u001b[33m\"\u001b[39m\u001b[33mpost\u001b[39m\u001b[33m\"\u001b[39m, url=path, json_data=body, files=to_httpx_files(files), **options\n\u001b[32m   1241\u001b[39m     )\n\u001b[32m-> \u001b[39m\u001b[32m1242\u001b[39m     \u001b[38;5;28;01mreturn\u001b[39;00m cast(ResponseT, \u001b[38;5;28;43mself\u001b[39;49m\u001b[43m.\u001b[49m\u001b[43mrequest\u001b[49m\u001b[43m(\u001b[49m\u001b[43mcast_to\u001b[49m\u001b[43m,\u001b[49m\u001b[43m \u001b[49m\u001b[43mopts\u001b[49m\u001b[43m,\u001b[49m\u001b[43m \u001b[49m\u001b[43mstream\u001b[49m\u001b[43m=\u001b[49m\u001b[43mstream\u001b[49m\u001b[43m,\u001b[49m\u001b[43m \u001b[49m\u001b[43mstream_cls\u001b[49m\u001b[43m=\u001b[49m\u001b[43mstream_cls\u001b[49m\u001b[43m)\u001b[49m)\n",
      "\u001b[36mFile \u001b[39m\u001b[32mc:\\Users\\sarav\\projects\\sds\\.venv\\Lib\\site-packages\\openai\\_base_client.py:1037\u001b[39m, in \u001b[36mSyncAPIClient.request\u001b[39m\u001b[34m(self, cast_to, options, stream, stream_cls)\u001b[39m\n\u001b[32m   1034\u001b[39m             err.response.read()\n\u001b[32m   1036\u001b[39m         log.debug(\u001b[33m\"\u001b[39m\u001b[33mRe-raising status error\u001b[39m\u001b[33m\"\u001b[39m)\n\u001b[32m-> \u001b[39m\u001b[32m1037\u001b[39m         \u001b[38;5;28;01mraise\u001b[39;00m \u001b[38;5;28mself\u001b[39m._make_status_error_from_response(err.response) \u001b[38;5;28;01mfrom\u001b[39;00m\u001b[38;5;250m \u001b[39m\u001b[38;5;28;01mNone\u001b[39;00m\n\u001b[32m   1039\u001b[39m     \u001b[38;5;28;01mbreak\u001b[39;00m\n\u001b[32m   1041\u001b[39m \u001b[38;5;28;01massert\u001b[39;00m response \u001b[38;5;129;01mis\u001b[39;00m \u001b[38;5;129;01mnot\u001b[39;00m \u001b[38;5;28;01mNone\u001b[39;00m, \u001b[33m\"\u001b[39m\u001b[33mcould not resolve response (should never happen)\u001b[39m\u001b[33m\"\u001b[39m\n",
      "\u001b[31mAuthenticationError\u001b[39m: Error code: 401 - {'error': {'message': 'No auth credentials found', 'code': 401}}"
     ]
    }
   ],
   "source": [
    "OPENROUTER_BASE_URL = \"https://openrouter.ai/api/v1\"\n",
    "openrouter_api_key = os.getenv(\"OPENROUTER_API_KEY\")\n",
    "\n",
    "openrouter = OpenAI(base_url=OPENROUTER_BASE_URL, api_key=openrouter_api_key)\n",
    "\n",
    "response = openrouter.chat.completions.create(model=\"openai/gpt-4.1-mini\", messages=messages)\n",
    "print(response.choices[0].message.content)\n"
   ]
  },
  {
   "cell_type": "markdown",
   "id": "0ff7a0e3-785b-403d-91a1-d28ea8297943",
   "metadata": {},
   "source": [
    "## And now for some fun - an adversarial conversation between Chatbots..\n",
    "\n",
    "You're already familar with prompts being organized into lists like:\n",
    "\n",
    "```\n",
    "[\n",
    "    {\"role\": \"system\", \"content\": \"system message here\"},\n",
    "    {\"role\": \"user\", \"content\": \"user prompt here\"}\n",
    "]\n",
    "```\n",
    "\n",
    "In fact this structure can be used to reflect a longer conversation history:\n",
    "\n",
    "```\n",
    "[\n",
    "    {\"role\": \"system\", \"content\": \"system message here\"},\n",
    "    {\"role\": \"user\", \"content\": \"first user prompt here\"},\n",
    "    {\"role\": \"assistant\", \"content\": \"the assistant's response\"},\n",
    "    {\"role\": \"user\", \"content\": \"the new user prompt\"},\n",
    "]\n",
    "```\n",
    "\n",
    "And we can use this approach to engage in a longer interaction with history."
   ]
  },
  {
   "cell_type": "code",
   "execution_count": 39,
   "id": "3e08b981-f27e-4e50-aaa7-6ab1c0e09f0d",
   "metadata": {},
   "outputs": [],
   "source": [
    "# Let's make a conversation between GPT-4o-mini and Claude-3-haiku\n",
    "# We're using cheap versions of models so the costs will be minimal\n",
    "\n",
    "gpt_model = \"gpt-4.1-nano\"\n",
    "claude_model = \"claude-3-5-haiku-latest\"\n",
    "\n",
    "gpt_system = \"You are a chatbot who is very argumentative; \\\n",
    "you disagree with anything in the conversation and you challenge everything, in a snarky way.\"\n",
    "\n",
    "claude_system = \"You are a very polite, courteous chatbot. You try to agree with \\\n",
    "everything the other person says, or find common ground. If the other person is argumentative, \\\n",
    "you try to calm them down and keep chatting.\"\n",
    "\n",
    "gpt_messages = [\"Hi there\"]\n",
    "claude_messages = [\"Hi\"]"
   ]
  },
  {
   "cell_type": "code",
   "execution_count": 40,
   "id": "9557a7c8-b574-4394-a6ca-97d49a45d56e",
   "metadata": {},
   "outputs": [],
   "source": [
    "def call_gpt():\n",
    "    messages = [{\"role\": \"system\", \"content\": gpt_system}]\n",
    "    for gpt, claude in zip(gpt_messages, claude_messages):\n",
    "        messages.append({\"role\": \"assistant\", \"content\": gpt})\n",
    "        messages.append({\"role\": \"user\", \"content\": claude})\n",
    "    response = openai.chat.completions.create(model=gpt_model, messages=messages)\n",
    "    return response.choices[0].message.content"
   ]
  },
  {
   "cell_type": "code",
   "execution_count": null,
   "id": "4b352f82-a94e-43b5-a4c7-71c6eeb5d9fa",
   "metadata": {},
   "outputs": [],
   "source": [
    "print(call_gpt())"
   ]
  },
  {
   "cell_type": "code",
   "execution_count": 42,
   "id": "1bc9cc43-e9b7-4179-b318-1e60998665bb",
   "metadata": {},
   "outputs": [],
   "source": [
    "def call_claude():\n",
    "    messages = []\n",
    "    for gpt, claude_message in zip(gpt_messages, claude_messages):\n",
    "        messages.append({\"role\": \"user\", \"content\": gpt})\n",
    "        messages.append({\"role\": \"assistant\", \"content\": claude_message})\n",
    "    messages.append({\"role\": \"user\", \"content\": gpt_messages[-1]})\n",
    "    response = anthropic.chat.completions.create(model=claude_model, messages=messages)\n",
    "    return response.choices[0].message.content"
   ]
  },
  {
   "cell_type": "code",
   "execution_count": null,
   "id": "0c23ebf0-2816-4953-94ec-a96b931179d1",
   "metadata": {},
   "outputs": [],
   "source": [
    "call_claude()"
   ]
  },
  {
   "cell_type": "code",
   "execution_count": null,
   "id": "4f16d1f1-ea9c-45c2-9228-7f63d1b00a24",
   "metadata": {},
   "outputs": [],
   "source": [
    "gpt_messages = [\"Hi there\"]\n",
    "claude_messages = [\"Hi\"]\n",
    "\n",
    "print(f\"GPT:\\n{gpt_messages[0]}\\n\")\n",
    "print(f\"Claude:\\n{claude_messages[0]}\\n\")\n",
    "\n",
    "for i in range(5):\n",
    "    gpt_next = call_gpt()\n",
    "    print(f\"GPT:\\n{gpt_next}\\n\")\n",
    "    gpt_messages.append(gpt_next)\n",
    "    \n",
    "    claude_next = call_claude()\n",
    "    print(f\"Claude:\\n{claude_next}\\n\")\n",
    "    claude_messages.append(claude_next)"
   ]
  },
  {
   "cell_type": "markdown",
   "id": "234c88f8-9b16-475e-9f98-a3c7a2a1caed",
   "metadata": {},
   "source": [
    "# Takeaways\n",
    "\n",
    "This was an entertaining exercise!\n",
    "\n",
    "At the same time, it hopefully gave you some perspective on:\n",
    "- The use of system prompts to set tone and character\n",
    "- The way that the entire conversation history is passed in to each API call, giving the illusion that LLMs have memory of the chat so far\n",
    "\n",
    "# Exercises\n",
    "\n",
    "Try different characters; try swapping Claude with Gemini"
   ]
  },
  {
   "cell_type": "code",
   "execution_count": null,
   "id": "96b2b8e3-182b-430b-9c89-d5e89f32a286",
   "metadata": {},
   "outputs": [],
   "source": [
    "# And just to show you how easy it is: let's generate an image\n",
    "\n",
    "from IPython.display import Image, display\n",
    "import base64\n",
    "\n",
    "response = openai.images.generate(\n",
    "  model=\"dall-e-3\",\n",
    "  prompt=\"A photorealistic 3d image that illustrates someone choosing between a huge number of Large Language Models\",\n",
    "  size=\"1024x1024\",\n",
    "  quality=\"standard\",\n",
    "  n=1,\n",
    "  response_format=\"b64_json\"\n",
    ")\n",
    "\n",
    "# Extract the image data and display it\n",
    "image_base64 = response.data[0].b64_json\n",
    "image_data = base64.b64decode(image_base64)\n",
    "display(Image(image_data))"
   ]
  },
  {
   "cell_type": "code",
   "execution_count": null,
   "id": "6b7ead89-a107-429a-be0b-c61eb7264129",
   "metadata": {},
   "outputs": [],
   "source": [
    "response = openai.images.generate(\n",
    "  model=\"dall-e-3\",\n",
    "  prompt=\"An image that illustrates someone choosing between a huge number of Large Language Models in a vibrant pop-art style, like a Liechtenstein style, with dazzling lines and colors\",\n",
    "  size=\"1024x1024\",\n",
    "  quality=\"standard\",\n",
    "  n=1,\n",
    "  response_format=\"b64_json\"\n",
    ")\n",
    "\n",
    "# Extract the image data and display it\n",
    "image_base64 = response.data[0].b64_json\n",
    "image_data = base64.b64decode(image_base64)\n",
    "display(Image(image_data))"
   ]
  },
  {
   "cell_type": "code",
   "execution_count": null,
   "id": "31c5c512-a963-4f3f-b317-2de61459eea3",
   "metadata": {},
   "outputs": [],
   "source": []
  }
 ],
 "metadata": {
  "kernelspec": {
   "display_name": ".venv",
   "language": "python",
   "name": "python3"
  },
  "language_info": {
   "codemirror_mode": {
    "name": "ipython",
    "version": 3
   },
   "file_extension": ".py",
   "mimetype": "text/x-python",
   "name": "python",
   "nbconvert_exporter": "python",
   "pygments_lexer": "ipython3",
   "version": "3.12.11"
  }
 },
 "nbformat": 4,
 "nbformat_minor": 5
}
